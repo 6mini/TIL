{
  "nbformat": 4,
  "nbformat_minor": 0,
  "metadata": {
    "colab": {
      "name": "4-미분.ipynb",
      "private_outputs": true,
      "provenance": [],
      "authorship_tag": "ABX9TyM7XxbazNnnvmpEabBa84C4",
      "include_colab_link": true
    },
    "kernelspec": {
      "name": "python3",
      "display_name": "Python 3"
    },
    "language_info": {
      "name": "python"
    }
  },
  "cells": [
    {
      "cell_type": "markdown",
      "metadata": {
        "id": "view-in-github",
        "colab_type": "text"
      },
      "source": [
        "<a href=\"https://colab.research.google.com/github/6mini/study_pandas/blob/main/4_%EB%AF%B8%EB%B6%84.ipynb\" target=\"_parent\"><img src=\"https://colab.research.google.com/assets/colab-badge.svg\" alt=\"Open In Colab\"/></a>"
      ]
    },
    {
      "cell_type": "code",
      "metadata": {
        "id": "tGzNO8w4UGZ2"
      },
      "source": [
        "import numpy as np\n",
        "import matplotlib.pyplot as plt\n",
        "import seaborn as sns\n",
        "\n",
        "# 랜덤하게 평균0, 표준편차1의 가우시안 표준정규분포 난수 x, y를 50개씩 뽑습니다\n",
        "np.random.seed(42)  # 동일한 결과를 보기 위해 시드를 고정합니다. https://numpy.org/doc/stable/reference/random/generated/numpy.random.seed.html\n",
        "x = np.random.randn(50)\n",
        "y = np.random.randn(50)\n",
        "\n",
        "# 산점도를 통해 x,y를 시각화 합니다.\n",
        "sns.regplot(x, y)\n",
        "plt.show();"
      ],
      "execution_count": null,
      "outputs": []
    },
    {
      "cell_type": "code",
      "metadata": {
        "id": "sNN6iDobURQw"
      },
      "source": [
        "# 예시 1 : Numerical Method\n",
        "\n",
        "# f(x) = 5\n",
        "def f(x):\n",
        "    return 5\n",
        "\n",
        "def numerical_derivative(fx, x):\n",
        "    delta_x = 1e-5\n",
        "\n",
        "    return (fx(x + delta_x) - fx(x)) / delta_x\n",
        "\n",
        "print(numerical_derivative(f, 1))\n",
        "\n",
        "# 예시 2 : Scipy의 derivative 활용\n",
        "from scipy.misc import derivative\n",
        "\n",
        "# 두 방법의 결과값 비교\n",
        "derivative(f,1, dx=1e-6) == numerical_derivative(f, 1)"
      ],
      "execution_count": null,
      "outputs": []
    },
    {
      "cell_type": "code",
      "metadata": {
        "id": "9DFnQYxiVyBE"
      },
      "source": [
        "# 같은 결과를 numerical method를 활용해서 계산해보겠습니다\n",
        "def f(x):\n",
        "    return 3*(x**4) + 10\n",
        "\n",
        "def numerical_derivative(fx, x):\n",
        "    delta_x = 1e-5\n",
        "\n",
        "    return (fx(x + delta_x) - fx(x)) / delta_x\n",
        "\n",
        "print(numerical_derivative(f, 2))\n",
        "\n",
        "# 예시 2 : Scipy의 derivative 활용\n",
        "from scipy.misc import derivative\n",
        "\n",
        "# 두 방법의 결과값 비교\n",
        "print(derivative(f,2, dx=1e-5))\n",
        "derivative(f,2, dx=1e-5) == numerical_derivative(f, 2)  #delta X의 값은 같지만 Rounding 에러로 인해 두 결과가 미묘하게 다른 것을 확인하실 수 있습니다."
      ],
      "execution_count": null,
      "outputs": []
    },
    {
      "cell_type": "code",
      "metadata": {
        "id": "I6_7g9UNcNiL"
      },
      "source": [
        "def gradient_descent(X, y, lr = 0.05, epoch = 10):\n",
        "    \n",
        "    a, b = 0.33, 0.48 # 임의 선택한 파라미터 a, b\n",
        "    N = len(X) # 샘플 갯수\n",
        "    \n",
        "    for _ in range(epoch):            \n",
        "        f = y - (a*X + b)\n",
        "    \n",
        "        # a와 b를 업데이트 합니다. 기울기를 계산하는거다. 그래디언트\n",
        "        a -= lr * (-2 * X.dot(f).sum() / N)\n",
        "        b -= lr * (-2 * f.sum() / N)        \n",
        "        \n",
        "    print('a: '+str(a))\n",
        "    print('b: '+str(b))"
      ],
      "execution_count": null,
      "outputs": []
    },
    {
      "cell_type": "code",
      "metadata": {
        "id": "RyekjL1ZcRrn"
      },
      "source": [
        "# y = 3 x + 5\n",
        "X = np.array([1, 2, 3, 4, 5])\n",
        "y = np.array([8, 11, 14, 17, 20])"
      ],
      "execution_count": null,
      "outputs": []
    },
    {
      "cell_type": "code",
      "metadata": {
        "id": "pQEIJP69cvuX"
      },
      "source": [
        "gradient_descent(X,y)"
      ],
      "execution_count": null,
      "outputs": []
    },
    {
      "cell_type": "code",
      "metadata": {
        "id": "4i7zsMyyc1lU"
      },
      "source": [
        "gradient_descent(X, y, epoch = 100)  # 100번 반복"
      ],
      "execution_count": null,
      "outputs": []
    },
    {
      "cell_type": "code",
      "metadata": {
        "id": "vjLOLqg-c4rP"
      },
      "source": [
        "gradient_descent(X, y, epoch = 1000)  # 1000번 반복"
      ],
      "execution_count": null,
      "outputs": []
    },
    {
      "cell_type": "code",
      "metadata": {
        "id": "tYGA3HQVibXv"
      },
      "source": [
        "# e 지수함수 자연 상수\n",
        "print(np.exp(0))    # e^0 와 동일\n",
        "# 1.0\n",
        "\n",
        "print(np.exp(1))    # e^1 와 동일\n",
        "# 2.718281828459045\n",
        "\n",
        "print(np.exp(10))   # e^10 와 동일\n",
        "# 22026.465794806718"
      ],
      "execution_count": null,
      "outputs": []
    },
    {
      "cell_type": "code",
      "metadata": {
        "id": "vEg5aZgNkdjr"
      },
      "source": [
        "import seaborn as sns\n",
        "import numpy as np\n",
        "np.random.seed(42)\n",
        "\n",
        "# iris 데이터셋 사용\n",
        "df_iris = sns.load_dataset('iris')\n",
        "df_iris"
      ],
      "execution_count": null,
      "outputs": []
    },
    {
      "cell_type": "code",
      "metadata": {
        "id": "OARV0n6Dki9x"
      },
      "source": [
        "df_iris = df_iris[['sepal_length']]\n",
        "# 컬럼명 변경\n",
        "df_iris = df_iris.rename(columns = {'sepal_length':'x'})\n",
        "df_iris"
      ],
      "execution_count": null,
      "outputs": []
    },
    {
      "cell_type": "code",
      "metadata": {
        "id": "6sFxljiGk32E"
      },
      "source": [
        "# 기초 미분 함수\n",
        "def num_one(x):\n",
        "    return 20 * (x ** 4) + 27 * (x ** 2) + 2 * np.exp(1) * x # e : (np.exp(1))\n",
        "df_iris['derivative_one'] = df_iris['x'].apply(num_one)\n",
        "df_iris"
      ],
      "execution_count": null,
      "outputs": []
    },
    {
      "cell_type": "code",
      "metadata": {
        "id": "rXtyYvE4lAbE"
      },
      "source": [
        "# scipy derivative 함수사용\n",
        "from scipy.misc import derivative\n",
        "def f(x):\n",
        "    return 4 * (x ** 5) + 9 * (x ** 3) + np.exp(1) * (x ** 2) - 7 # 미분 전 원래의 식을 넣는다.\n",
        "\n",
        "df_iris['derivative_two'] = derivative(f, df_iris['x'],dx = 1e-7)\n",
        "df_iris"
      ],
      "execution_count": null,
      "outputs": []
    }
  ]
}