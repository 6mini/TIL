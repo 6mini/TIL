{
  "nbformat": 4,
  "nbformat_minor": 0,
  "metadata": {
    "colab": {
      "name": "5-scatter산점도,특정행특정값찾기,groupby,mean,sort.ipynb",
      "private_outputs": true,
      "provenance": [],
      "authorship_tag": "ABX9TyNEWayQFAZpK65X5i/LMX9b",
      "include_colab_link": true
    },
    "kernelspec": {
      "name": "python3",
      "display_name": "Python 3"
    },
    "language_info": {
      "name": "python"
    }
  },
  "cells": [
    {
      "cell_type": "markdown",
      "metadata": {
        "id": "view-in-github",
        "colab_type": "text"
      },
      "source": [
        "<a href=\"https://colab.research.google.com/github/6mini/study_pandas/blob/main/5_scatter%EC%82%B0%EC%A0%90%EB%8F%84%2C%ED%8A%B9%EC%A0%95%ED%96%89%ED%8A%B9%EC%A0%95%EA%B0%92%EC%B0%BE%EA%B8%B0%2Cgroupby%2Cmean%2Csort.ipynb\" target=\"_parent\"><img src=\"https://colab.research.google.com/assets/colab-badge.svg\" alt=\"Open In Colab\"/></a>"
      ]
    },
    {
      "cell_type": "code",
      "metadata": {
        "id": "3fE4rFy6KEJN"
      },
      "source": [
        "import matplotlib.pyplot as plt\n",
        "import pandas as pd\n",
        "import numpy as np\n",
        "from pandas import DataFrame\n",
        "from pandas import Series"
      ],
      "execution_count": null,
      "outputs": []
    },
    {
      "cell_type": "code",
      "metadata": {
        "id": "lDY62IWLJpQP"
      },
      "source": [
        "#Scatter plot 산점도\n",
        "plt.plot('time', # x\n",
        "         'cell_phones_total', # y\n",
        "         data = data1,\n",
        "         linestyle='none', \n",
        "         marker='o', \n",
        "         markersize=10,\n",
        "         color='blue', \n",
        "         alpha=0.5)\n",
        "plt.show()"
      ],
      "execution_count": null,
      "outputs": []
    },
    {
      "cell_type": "code",
      "metadata": {
        "id": "2O9vLIyiKNmm"
      },
      "source": [
        "# 특정 행의 특정 값 찾기\n",
        "df3[(df3['geo'] == 'kor') & ((df3['time'] == 2019.0))]"
      ],
      "execution_count": null,
      "outputs": []
    },
    {
      "cell_type": "code",
      "metadata": {
        "id": "8ocz5_UkKXJa"
      },
      "source": [
        "#grounpby mean sort 정렬\n",
        "mean_df = ppp_df.groupby('geo')['PPP'].mean().sort_values()"
      ],
      "execution_count": null,
      "outputs": []
    }
  ]
}