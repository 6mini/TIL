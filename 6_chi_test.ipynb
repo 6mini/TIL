{
  "nbformat": 4,
  "nbformat_minor": 0,
  "metadata": {
    "colab": {
      "name": "6-chi-test.ipynb",
      "private_outputs": true,
      "provenance": [],
      "authorship_tag": "ABX9TyP+FehXUtNZkapoUdT5t5ix",
      "include_colab_link": true
    },
    "kernelspec": {
      "name": "python3",
      "display_name": "Python 3"
    },
    "language_info": {
      "name": "python"
    }
  },
  "cells": [
    {
      "cell_type": "markdown",
      "metadata": {
        "id": "view-in-github",
        "colab_type": "text"
      },
      "source": [
        "<a href=\"https://colab.research.google.com/github/6mini/study_pandas/blob/main/6_chi_test.ipynb\" target=\"_parent\"><img src=\"https://colab.research.google.com/assets/colab-badge.svg\" alt=\"Open In Colab\"/></a>"
      ]
    },
    {
      "cell_type": "code",
      "metadata": {
        "id": "fkQ_4s20pjCi"
      },
      "source": [
        "import pandas as pd\n",
        "ndf = pd.read_csv('meboonyang.csv', encoding='cp949')\n",
        "df = ndf.iloc[1]\n",
        "df = ndf[2:]\n",
        "df = df.set_index('시도(1)')\n",
        "df.reset_index(drop=True, inplace=True)\n",
        "df"
      ],
      "execution_count": null,
      "outputs": []
    },
    {
      "cell_type": "code",
      "metadata": {
        "id": "QqRvZMtDpOSN"
      },
      "source": [
        "col = ['~60m2', '60~85m2', '85m2~']\n",
        "row = ['서울', '부산', '대구', '대전']\n",
        "df.columns = col\n",
        "df.index = row\n",
        "df"
      ],
      "execution_count": null,
      "outputs": []
    },
    {
      "cell_type": "code",
      "metadata": {
        "id": "TP0PzxhWp1Hw"
      },
      "source": [
        "df[['~60m2', '60~85m2', '85m2~']] = df[['~60m2', '60~85m2', '85m2~']].apply(pd.to_numeric)\n",
        "df"
      ],
      "execution_count": null,
      "outputs": []
    },
    {
      "cell_type": "code",
      "metadata": {
        "id": "AkeapbPzp3c0"
      },
      "source": [
        "from scipy.stats import chisquare\n",
        "arr = [54+2+0, 577+735+142, 143+1437+44, 782+1+0]\n",
        "chi1 = chisquare(arr)\n",
        "chi1"
      ],
      "execution_count": null,
      "outputs": []
    },
    {
      "cell_type": "code",
      "metadata": {
        "id": "8ywIbphap46y"
      },
      "source": [
        "print(f'Test 결과,\\nStatistic : {chi1[0]}\\nP-value : {chi1[1]} (으)로써\\nP-value 값이 매우 작으므로 네 지역이 유의미하게 차이납니다.')"
      ],
      "execution_count": null,
      "outputs": []
    },
    {
      "cell_type": "code",
      "metadata": {
        "id": "IMcVsGE-p6Mg"
      },
      "source": [
        "from scipy import stats\n",
        "from scipy.stats import chi2_contingency\n",
        "chi2 = stats.chi2_contingency(df)\n",
        "chi2"
      ],
      "execution_count": null,
      "outputs": []
    },
    {
      "cell_type": "code",
      "metadata": {
        "id": "uBSTBoI_p7ZV"
      },
      "source": [
        "print(f'2-sample chi-square test 결과,\\nStatistic : {chi2[0]}\\nP-value : {chi2[1]}\\n자유도 : {chi2[2]}\\nNexpected frequencies : {chi2[3]}\\nP-value의 값이 매우 낮음으로 미루어보아 지역과 규모간의 관계가 없다.')"
      ],
      "execution_count": null,
      "outputs": []
    },
    {
      "cell_type": "code",
      "metadata": {
        "id": "fxeENWG7p91d"
      },
      "source": [
        "import numpy as np\n",
        "obs = np.array([[54+2+0, 577+735+142, 143+1437+44, 782+1+0]])\n",
        "obs"
      ],
      "execution_count": null,
      "outputs": []
    },
    {
      "cell_type": "code",
      "metadata": {
        "id": "BLwyUuxwp_LA"
      },
      "source": [
        "total_obs = np.sum(obs)\n",
        "total_obs"
      ],
      "execution_count": null,
      "outputs": []
    },
    {
      "cell_type": "code",
      "metadata": {
        "id": "w0rLeDzJqAQy"
      },
      "source": [
        "exp = obs.mean()\n",
        "exp"
      ],
      "execution_count": null,
      "outputs": []
    },
    {
      "cell_type": "code",
      "metadata": {
        "id": "x0RscppkqBYV"
      },
      "source": [
        "chi = np.sum(np.power(obs - exp, 2)/exp)\n",
        "chi"
      ],
      "execution_count": null,
      "outputs": []
    },
    {
      "cell_type": "code",
      "metadata": {
        "id": "zOn3n5MBqDec"
      },
      "source": [
        "nchi = 1 - stats.chi2.cdf(chi, df = 4 - 1)\n",
        "nchi"
      ],
      "execution_count": null,
      "outputs": []
    },
    {
      "cell_type": "code",
      "metadata": {
        "id": "ga8l6wFsqEv0"
      },
      "source": [
        "if (chi1[0] == chi) & (chi1[1] == nchi):\n",
        "    print('2번의 4번의 Text 결과와 같습니다.')\n",
        "else:\n",
        "    print('2번의 4번의 Text 결과와 같지 않습니다.')"
      ],
      "execution_count": null,
      "outputs": []
    },
    {
      "cell_type": "code",
      "metadata": {
        "id": "nwZxJtXTqTmP"
      },
      "source": [
        "v1 = [18,22,20,15,23,22]\n",
        "v2 = [5,23,26,19,24,23]\n",
        "\n",
        "def myChisq(value):\n",
        "    obs = np.array([value])\n",
        "    exp = obs.mean()\n",
        "    ch = np.sum(np.power(obs - exp, 2)/exp)\n",
        "    pv = 1 - stats.chi2.cdf(chi, df = len(value) - 1)\n",
        "    return print(f'Chisquare 값 : {ch}\\nPvalue 값 : {pv}\\n입니다.')\n",
        "\n",
        "# chisquare값과 pvalue를 출력해야합니다.\n",
        "print('v1의 1 sample chisquare test 결과는')\n",
        "myChisq(v1)\n",
        "print('v2의 1 sample chisquare test 결과는')\n",
        "myChisq(v2)"
      ],
      "execution_count": null,
      "outputs": []
    },
    {
      "cell_type": "code",
      "metadata": {
        "id": "J42dXJYwqVKS"
      },
      "source": [
        "# H0 : 그룹 네 개의 평균은 차이가 없다.\n",
        "# H1 : 그룹 네 개의 평균은 차이가 없지 않다. \n",
        "from scipy.stats import f_oneway\n",
        "A = [38, 33, 35, 92, 76, 97, 88, 41, 11, 9]\n",
        "B = [18, 52, 62, 48, 30, 40, 87, 12, 97, 82]\n",
        "C = [28, 90, 5, 49, 66, 73, 96, 80, 4, 17]\n",
        "D = [8, 99, 4, 12, 7, 64, 18, 10, 9, 20]\n",
        "anovapv = f_oneway(A, B, C, D).pvalue\n",
        "if anovapv > 0.05:\n",
        "    print('P-value의 값이 {}이므로, 네 그룹은 유의미하게 차이가 없습니다.'.format(anovapv))\n",
        "else:\n",
        "    print('P-value의 값이 {}이므로, 네 그룹은 유의미하게 차이가 납니다.'.format(anovapv))"
      ],
      "execution_count": null,
      "outputs": []
    }
  ]
}