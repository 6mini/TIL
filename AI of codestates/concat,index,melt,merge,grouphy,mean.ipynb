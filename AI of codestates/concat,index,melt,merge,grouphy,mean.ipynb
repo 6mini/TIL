{
  "nbformat": 4,
  "nbformat_minor": 0,
  "metadata": {
    "colab": {
      "name": "3-concat, index, melt, merge, grouphy, mean.ipynb",
      "private_outputs": true,
      "provenance": [],
      "collapsed_sections": [],
      "authorship_tag": "ABX9TyP0rZMnFQgxMiAT1znNf6+O",
      "include_colab_link": true
    },
    "kernelspec": {
      "name": "python3",
      "display_name": "Python 3"
    },
    "language_info": {
      "name": "python"
    }
  },
  "cells": [
    {
      "cell_type": "markdown",
      "metadata": {
        "id": "view-in-github",
        "colab_type": "text"
      },
      "source": [
        "<a href=\"https://colab.research.google.com/github/6mini/study_pandas/blob/main/3_concat%2C_index%2C_melt%2C_merge%2C_grouphy%2C_mean.ipynb\" target=\"_parent\"><img src=\"https://colab.research.google.com/assets/colab-badge.svg\" alt=\"Open In Colab\"/></a>"
      ]
    },
    {
      "cell_type": "code",
      "metadata": {
        "id": "tHUDEJSr0Td-"
      },
      "source": [
        "# 한글폰트 사용 in colab\n",
        "%matplotlib inline  \n",
        "\n",
        "import matplotlib as mpl \n",
        "import matplotlib.pyplot as plt \n",
        "import matplotlib.font_manager as fm  \n",
        "\n",
        "!apt-get update -qq\n",
        "!apt-get install fonts-nanum* -qq\n",
        "\n",
        "path = '/usr/share/fonts/truetype/nanum/NanumBarunGothic.ttf' \n",
        "font_name = fm.FontProperties(fname=path, size=10).get_name()\n",
        "print(font_name)\n",
        "plt.rc('font', family=font_name)\n",
        "\n",
        "fm._rebuild()\n",
        "mpl.rcParams['axes.unicode_minus'] = False"
      ],
      "execution_count": null,
      "outputs": []
    },
    {
      "cell_type": "code",
      "metadata": {
        "id": "8CGLFmRH02Ro"
      },
      "source": [
        "import pandas as pd\n",
        " \n",
        "urlhead = 'https://ds-lecture-data.s3.ap-northeast-2.amazonaws.com/stocks/'\n",
        "\n",
        "def mydf(myurl):\n",
        "    df = pd.read_csv(urlhead + myurl).transpose()\n",
        "    new_header = df.iloc[0] # 헤더 설정\n",
        "    df = df[1:] # 1번부터 슬라이싱\n",
        "    df.columns = new_header \n",
        "    return df[-1:] # 이유?\n",
        "\n",
        "df = pd.concat([mydf('000080.csv'), mydf('000890.csv'), mydf('005300.csv'), mydf('027740.csv'), mydf('035810.csv'), mydf('136480.csv')])\n",
        "df = df.reset_index() # creat new index\n",
        "df = df.drop(df.columns[0], axis=1)\n",
        "\n",
        "df = df[['매출액','자산총계','EPS(원)']]\n",
        "\n",
        "df"
      ],
      "execution_count": null,
      "outputs": []
    },
    {
      "cell_type": "code",
      "metadata": {
        "id": "HaXH4brI6Y0n"
      },
      "source": [
        "df1 = pd.DataFrame(\n",
        "    {'종목' : ['000080', '000890', '005300', '027740', '035810', '136480', '136490'],\n",
        "     '종목명': ['하이트진로', '보해양조', '롯데칠성', '마니커', '이지홀딩스', '하림', '선진'], \n",
        "     '테마' : ['주류', '주류', '주류', '육계', '육계', '육계', '돼지고기']}\n",
        ")\n",
        "df1 = df1.drop(6)\n",
        "df1 = df1['종목명']\n",
        "df1"
      ],
      "execution_count": null,
      "outputs": []
    },
    {
      "cell_type": "code",
      "metadata": {
        "id": "USkE4sC96eb4"
      },
      "source": [
        "df = pd.concat([df, df1], axis = 1) # 합친다.\n",
        "df['분기'] = ['2020/09', '2020/09', '2020/09', '2020/09', '2020/06', '2020/09']\n",
        "df"
      ],
      "execution_count": null,
      "outputs": []
    },
    {
      "cell_type": "code",
      "metadata": {
        "id": "W1RREypU6ghH"
      },
      "source": [
        "df = df.set_index('분기') 인덱스 설정\n",
        "df"
      ],
      "execution_count": null,
      "outputs": []
    },
    {
      "cell_type": "code",
      "metadata": {
        "id": "Db4wfFdJ6kH6"
      },
      "source": [
        "df.shape"
      ],
      "execution_count": null,
      "outputs": []
    },
    {
      "cell_type": "code",
      "metadata": {
        "id": "UjneYznR6mfy"
      },
      "source": [
        "import numpy as np\n",
        "import seaborn as sns\n",
        "\n",
        "def toInt(str):\n",
        "    return int(str.replace(',',''))\n",
        "\n",
        "#멜팅하는 법\n",
        "df_tidy = pd.melt(df.reset_index(), id_vars=['종목명'], value_vars=['매출액', '자산총계', 'EPS(원)'], var_name='Feature', value_name='value')\n",
        "df_tidy['value'] = df_tidy['value'].apply(toInt)\n",
        "df_tidy"
      ],
      "execution_count": null,
      "outputs": []
    },
    {
      "cell_type": "code",
      "metadata": {
        "id": "gi71HQrH6oza"
      },
      "source": [
        "sns.boxplot(data = df_tidy, x = '종목명', y = 'value');"
      ],
      "execution_count": null,
      "outputs": []
    },
    {
      "cell_type": "code",
      "metadata": {
        "id": "JZ4TbzXT61Zh"
      },
      "source": [
        "import pandas as pd\n",
        "\n",
        "left = pd.DataFrame({'key1': ['K0', 'K0', 'K1', 'K2'],\n",
        "                     'key2': ['K0', 'K1', 'K0', 'K1'],\n",
        "                     'A': ['A0', 'A1', 'A2', 'A3'],\n",
        "                     'B': ['B0', 'B1', 'B2', 'B3']})\n",
        "\n",
        "right = pd.DataFrame({'key1': ['K0', 'K1', 'K1', 'K2'],\n",
        "                      'key2': ['K0', 'K0', 'K0', 'K0'],\n",
        "                      'C': ['C0', 'C1', 'C2', 'C3'],\n",
        "                      'D': ['D0', 'D1', 'D2', 'D3']})\n",
        "left"
      ],
      "execution_count": null,
      "outputs": []
    },
    {
      "cell_type": "code",
      "metadata": {
        "id": "YwU4x4GM62Pz"
      },
      "source": [
        "right"
      ],
      "execution_count": null,
      "outputs": []
    },
    {
      "cell_type": "code",
      "metadata": {
        "id": "d4sTh5AH63qg"
      },
      "source": [
        "df2 = pd.merge(left, right, how='outer') # how의 값 : outher\n",
        "df2 = df2.drop(5)\n",
        "df2"
      ],
      "execution_count": null,
      "outputs": []
    },
    {
      "cell_type": "code",
      "metadata": {
        "id": "N0bJxs9o65PP"
      },
      "source": [
        "dat1 = pd.DataFrame({\n",
        "    '종목명' : ['대한해운', '팬오션', 'KSS해운', '에스엘바이오닉스', '오성첨단소재', '에이아이비트'],\n",
        "    '매출액' : [8841, 24972, 2262, 286, 796, 292],\n",
        "    '자본총계' : [8533, 28066, 2688, 470, 1944, 452],\n",
        "    'EPS' : [72, 235, 1099, -164, 165, -350],\n",
        "    '테마' : ['해운', '해운','해운','마리화나(대마)','마리화나(대마)','마리화나(대마)']\n",
        "})\n",
        "dat1"
      ],
      "execution_count": null,
      "outputs": []
    },
    {
      "cell_type": "code",
      "metadata": {
        "id": "l8CQnSd967Nc"
      },
      "source": [
        "# groupby, mean\n",
        "dat = dat1.groupby('테마').mean()\n",
        "dat = dat.reindex(index = ['해운', '마리화나(대마)'])\n",
        "dat = dat.reset_index()\n",
        "dat"
      ],
      "execution_count": null,
      "outputs": []
    },
    {
      "cell_type": "code",
      "metadata": {
        "id": "WoRy4lq068wN"
      },
      "source": [
        "sns.barplot(x = '테마', y = '매출액', data = dat);\n",
        "plt.show()\n",
        "sns.barplot(x = '테마', y = '자본총계', data = dat);\n",
        "plt.show()\n",
        "sns.barplot(x = '테마', y = 'EPS', data = dat);\n",
        "plt.show()"
      ],
      "execution_count": null,
      "outputs": []
    }
  ]
}