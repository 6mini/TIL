{
  "nbformat": 4,
  "nbformat_minor": 0,
  "metadata": {
    "colab": {
      "name": "신뢰구간 예제로 이해하기.ipynb",
      "private_outputs": true,
      "provenance": [],
      "authorship_tag": "ABX9TyMtYKFgiucWteAOtZtNPEMz",
      "include_colab_link": true
    },
    "kernelspec": {
      "name": "python3",
      "display_name": "Python 3"
    },
    "language_info": {
      "name": "python"
    }
  },
  "cells": [
    {
      "cell_type": "markdown",
      "metadata": {
        "id": "view-in-github",
        "colab_type": "text"
      },
      "source": [
        "<a href=\"https://colab.research.google.com/github/6mini/study_AI/blob/main/%EC%8B%A0%EB%A2%B0%EA%B5%AC%EA%B0%84_%EC%98%88%EC%A0%9C%EB%A1%9C_%EC%9D%B4%ED%95%B4%ED%95%98%EA%B8%B0.ipynb\" target=\"_parent\"><img src=\"https://colab.research.google.com/assets/colab-badge.svg\" alt=\"Open In Colab\"/></a>"
      ]
    },
    {
      "cell_type": "markdown",
      "metadata": {
        "id": "66Sa_1BCUjJW"
      },
      "source": [
        "# 데이터셋"
      ]
    },
    {
      "cell_type": "code",
      "metadata": {
        "id": "t3dphNl6UMis"
      },
      "source": [
        "import pandas as pd\n",
        "\n",
        "df_raw = pd.read_csv('dagi.csv', encoding='cp949', usecols=['측정일시', '측정소명', '오존(ppm)'])\n",
        "df = df_raw[df_raw['측정소명'] == '송파구'].reset_index()\n",
        "df"
      ],
      "execution_count": null,
      "outputs": []
    },
    {
      "cell_type": "markdown",
      "metadata": {
        "id": "hJeAYGB0UutB"
      },
      "source": [
        "# 샘플 생성"
      ]
    },
    {
      "cell_type": "code",
      "metadata": {
        "id": "9L8LvJdaUt4c"
      },
      "source": [
        "s1 = df.sample(n = 20, \n",
        "               random_state = 42)\n",
        "s2 = df.sample(n = 200, \n",
        "               random_state = 42)\n",
        "print(s1.head())\n",
        "print(s2.head())"
      ],
      "execution_count": null,
      "outputs": []
    },
    {
      "cell_type": "markdown",
      "metadata": {
        "id": "dYGlg8PIVjFo"
      },
      "source": [
        "# 95% 신뢰구간"
      ]
    },
    {
      "cell_type": "code",
      "metadata": {
        "id": "sb87pwDVVv64"
      },
      "source": [
        "from scipy.stats import t\n",
        "import numpy as np\n",
        "\n",
        "# 표본의 크기\n",
        "n1 = len(s1['오존(ppm)'])\n",
        "n2 = len(s2['오존(ppm)'])\n",
        "\n",
        "# 자유도\n",
        "dof1 = n1 - 1\n",
        "dof2 = n2 - 1\n",
        "\n",
        "# 표본의 평균\n",
        "mean1 = np.mean(s1['오존(ppm)']) \n",
        "mean2 = np.mean(s2['오존(ppm)'])\n",
        "\n",
        "# 표본의 표준편차\n",
        "sample_std1 = np.std(s1['오존(ppm)'], ddof = 1)\n",
        "sample_std2 = np.std(s2['오존(ppm)'], ddof = 1)\n",
        "\n",
        "# 표준 오차\n",
        "std_err1 = sample_std1 / n1 ** 0.5\n",
        "std_err2 = sample_std2 / n2 ** 0.5\n",
        "\n",
        "CI1 = t.interval(.95, dof1, loc = mean1, scale = std_err1) \n",
        "CI2 = t.interval(.95, dof2, loc = mean2, scale = std_err2)\n",
        "\n",
        "print(\"s1의 95% 신뢰구간: \", CI1)\n",
        "print(\"s2의 95% 신뢰구간: \", CI2)"
      ],
      "execution_count": null,
      "outputs": []
    },
    {
      "cell_type": "markdown",
      "metadata": {
        "id": "QRjXEs5sVvtM"
      },
      "source": [
        "# 시각화"
      ]
    },
    {
      "cell_type": "code",
      "metadata": {
        "id": "1J8eknV1V1dl"
      },
      "source": [
        "import matplotlib.pyplot as plt\n",
        "%matplotlib inline\n",
        "\n",
        "pop_mean = df['오존(ppm)'].mean() # population : 모집단\n",
        "\n",
        "x = ['s1', 's2']\n",
        "y = [mean1, mean2]\n",
        "err = [std_err1, std_err2] # 표준오차\n",
        "\n",
        "plt.bar(x, y, yerr = err, capsize = 7, color = ['dodgerblue', 'orange'], width = 0.8);\n",
        "plt.axhline(pop_mean, 0, 1, color='#4000c7', linestyle='--', linewidth='1');\n",
        "plt.axhline(mean1, 0.15, 0.34, color='black', linestyle='-', linewidth='2');\n",
        "plt.axhline(mean2, 0.65, 0.86, color='black', linestyle='-', linewidth='2');"
      ],
      "execution_count": null,
      "outputs": []
    }
  ]
}