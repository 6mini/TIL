{
  "nbformat": 4,
  "nbformat_minor": 0,
  "metadata": {
    "colab": {
      "name": "베이지안 통계 예시.ipynb",
      "private_outputs": true,
      "provenance": [],
      "authorship_tag": "ABX9TyMZdXT6gsECp4Haq/6cfzX8",
      "include_colab_link": true
    },
    "kernelspec": {
      "name": "python3",
      "display_name": "Python 3"
    },
    "language_info": {
      "name": "python"
    }
  },
  "cells": [
    {
      "cell_type": "markdown",
      "metadata": {
        "id": "view-in-github",
        "colab_type": "text"
      },
      "source": [
        "<a href=\"https://colab.research.google.com/github/6mini/study_pandas/blob/main/%EB%B2%A0%EC%9D%B4%EC%A7%80%EC%95%88_%ED%86%B5%EA%B3%84_%EC%98%88%EC%8B%9C.ipynb\" target=\"_parent\"><img src=\"https://colab.research.google.com/assets/colab-badge.svg\" alt=\"Open In Colab\"/></a>"
      ]
    },
    {
      "cell_type": "markdown",
      "metadata": {
        "id": "6piNumceJ_Px"
      },
      "source": [
        "# 답을 알고 맞췄을 확률\n",
        "> 객관식 문제를 푸는 과정에서, 학생은 답을 이미 알고 있거나 찍어야 합니다.\n",
        "학생이 답을 알 확률은  𝑝 이고, 답을 찍어서 맞출 확률이  $1\\over{m}$  이라고 할 때  𝑚 과  𝑝 를 입력받아 학생이 문제의 답을 알고 맞췄을 확률을 계산하는 함수를 작성하세요.\n",
        "\n",
        "## 추론과정\n",
        "- P(알|정) : 정답인데, 답을 알고 맞췄을 확률\n",
        "- P(알) = $p$\n",
        "- P(몰) = 1 - $p$\n",
        "- P(정|알) : 알아서 정답일 확률 = 1\n",
        "- P(정|몰) : 모르는데 찍어서 맞출 확률 = $1\\over{m}$\n",
        "- P(알|정) = ${P(정|알) P(알)} \\over {P(정|알) P(알) + P(정|몰) P(몰)}$"
      ]
    },
    {
      "cell_type": "code",
      "metadata": {
        "id": "VKNWnb_cKCsL"
      },
      "source": [
        "def correct(p, m):\n",
        "    # (1) * (p) / (1) * (p) + (1 / m) * (1 - p)\n",
        "    # p / p + (1 / m) * (1 - p)\n",
        "    ans = (p * m) / (p * (m - 1) + 1)\n",
        "    return ans\n",
        "    \n",
        "correct(0.25, 4)"
      ],
      "execution_count": null,
      "outputs": []
    },
    {
      "cell_type": "markdown",
      "metadata": {
        "id": "_sTp3fkEKFS3"
      },
      "source": [
        "# 양성판정 시, 실제로 질병을 가지고 있을 확률\n",
        "> 특정 질병을 가지고 있는 경우 99% 의 확률로 탐지 할 수 있는 실험방법이 있습니다.\n",
        "그러나 동시에 이 방법은, 1% 의 확률로 질병이 없지만 질병이 있다고 진단 하는 경우도 있는데요.\n",
        "실제로 모든 인구중 0.5% 만이 이 질병을 가지고 있다고 하겠습니다.\n",
        "특정 사람이 이 방법을 통해 질병이 있다고 진단 받았을때, 실제로 질병을 가지고 있을 확률을 구하는 함수를 작성하세요.\n",
        "\n",
        "## 추론과정\n",
        "- P(tpr|+) : 질병이 있다고 진단 받았을때, 실제로 질병을 가지고 있을 확률\n",
        "- P(tpr) : 발병률 = prior = 0.005\n",
        "- P(fpr) : 질병없음 = 1 - prior = 0.995\n",
        "- P(+|tpr) : 걸렸는데 양성 = tpr = 0.99\n",
        "- P(+|fpr) : 안걸렸는데 양성 = 1 - tpr = fpr = 0.01 \n",
        "- p(tpr|+) = ${p(+|tpr) p(tpr)} \\over {p(+|tpr) p(tpr) + p(+|fpr)p(fpr)}$ "
      ]
    },
    {
      "cell_type": "code",
      "metadata": {
        "id": "lGnpEIBDKPBd"
      },
      "source": [
        "def disease(prior, tpr, fpr):\n",
        "    ans = (tpr * prior) / ((tpr * prior) + (fpr * (1-prior)))\n",
        "    return ans\n",
        "    \n",
        "disease(0.005, 0.99, 0.001)"
      ],
      "execution_count": null,
      "outputs": []
    },
    {
      "cell_type": "markdown",
      "metadata": {
        "id": "X-xlZyZUKJV8"
      },
      "source": [
        "# 왼손잡이일 때, 유죄일 확률\n",
        "> At a certain stage of a criminal investigation, the inspector in charge is 60% convinced of the guild of a certain suspect.\n",
        "Suppose now that a new piece of evidence that shows that the criminal has a left-handedness is uncovered.\n",
        "If 20% of population possesses this characteristic, how certain of the guilt of the suspect should the inspector now be if it turns out that the suspect is among this group?\n",
        "범죄 수사의 특정 단계에서 담당 수사관은 특정 피의자의 유죄를 60% 확신합니다.\n",
        "이제 범인이 왼손잡이를 가지고 있다는 것을 보여주는 새로운 증거가 발견되었다고 가정해 보겠습니다.\n",
        "인구의 20%가 이런 특성을 가지고 있다면, 만약 용의자가 이 집단 안에 있다는 것이 밝혀진다면, 지금 조사관의 유죄는 얼마나 확신해야 할까요?\n",
        "\n",
        "## 추론과정(1)\n",
        "- P(유죄|왼손) : 왼손잡이 일 때, 유죄일 확률\n",
        "- P(유죄) = 0.6\n",
        "- P(무죄) = 0.4\n",
        "- P(왼손|유죄) : 유죄인데 왼손일 확률 = 1\n",
        "- P(왼손|무죄) : 무죄인데 왼손일 확률 = 0.2\n",
        "- P(유죄|왼손) = ${P(왼손|유죄)P(유죄)} \\over {P(왼손|유죄)P(유죄) + P(왼손|무죄)P(무죄)}$"
      ]
    },
    {
      "cell_type": "code",
      "metadata": {
        "id": "texgzytaKXF7"
      },
      "source": [
        "ans1 = 0.6 / (0.6 + (0.2 * 0.4))\n",
        "ans1 # 0.8823529411764707"
      ],
      "execution_count": null,
      "outputs": []
    },
    {
      "cell_type": "markdown",
      "metadata": {
        "id": "9SPNIU7fKWfl"
      },
      "source": [
        "> After that, the new evidence is subject to different possible interpretations, and in fact only shows that it is 90% likely that the criminal possess this characteristic.\n",
        "In this case how likely would it be that the suspect is guilty?\n",
        "그 후, 새로운 증거는 다른 해석의 대상이 되며, 사실 범인이 이러한 특성을 가지고 있을 가능성이 90%에 불과하다는 것을 보여줍니다.\n",
        "이 경우 용의자가 유죄일 확률이 얼마나 됩니까?\n",
        "\n",
        "## 추론과정(2)\n",
        "- P(유죄|새증거) : 새로운 증거의 특징을 가질 가능성이 90퍼센트 일 때, 유죄일 확률\n",
        "- P(유죄) = ans1\n",
        "- P(무죄) = 1 - ans1\n",
        "- P(새증거|유죄) : 유죄이면서 새증거의 특징을 가졌을 확률 = 0.9\n",
        "- P(새증거|무죄) : 무죄이면서 새증거의 특징을 가졌을 확률 = 0.1\n",
        "- P(유죄|새증거) = ${P(새증거|유죄)P(유죄)} \\over {P(새증거|유죄)P(유죄) + P(새증거/무죄)P(무죄)}$"
      ]
    },
    {
      "cell_type": "code",
      "metadata": {
        "id": "uZMwTXdlKeom"
      },
      "source": [
        "ans2 = 0.9 * ans1 / ((0.9 * ans1) + (0.1 * (1 - ans1)))\n",
        "ans2 # 0.9854014598540146"
      ],
      "execution_count": null,
      "outputs": []
    }
  ]
}