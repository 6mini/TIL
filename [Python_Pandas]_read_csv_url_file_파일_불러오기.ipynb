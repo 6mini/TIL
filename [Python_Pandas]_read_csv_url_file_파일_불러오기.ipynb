{
  "nbformat": 4,
  "nbformat_minor": 0,
  "metadata": {
    "colab": {
      "name": "[Python Pandas] read csv url/file 파일 불러오기.ipynb",
      "private_outputs": true,
      "provenance": [],
      "authorship_tag": "ABX9TyPJP8TSvxCMfLOd3xR+ju5j",
      "include_colab_link": true
    },
    "kernelspec": {
      "name": "python3",
      "display_name": "Python 3"
    },
    "language_info": {
      "name": "python"
    }
  },
  "cells": [
    {
      "cell_type": "markdown",
      "metadata": {
        "id": "view-in-github",
        "colab_type": "text"
      },
      "source": [
        "<a href=\"https://colab.research.google.com/github/6mini/study_pandas/blob/main/%5BPython_Pandas%5D_read_csv_url_file_%ED%8C%8C%EC%9D%BC_%EB%B6%88%EB%9F%AC%EC%98%A4%EA%B8%B0.ipynb\" target=\"_parent\"><img src=\"https://colab.research.google.com/assets/colab-badge.svg\" alt=\"Open In Colab\"/></a>"
      ]
    },
    {
      "cell_type": "markdown",
      "metadata": {
        "id": "1wWHooTQ7XES"
      },
      "source": [
        "# [Python Pandas] read csv url/file 파일 불러오기"
      ]
    },
    {
      "cell_type": "markdown",
      "metadata": {
        "id": "oPr2uvER7iBb"
      },
      "source": [
        "## URL로 불러오기"
      ]
    },
    {
      "cell_type": "code",
      "metadata": {
        "id": "nFuZX-937mtH"
      },
      "source": [
        "import pandas as pd\n",
        "df = pd.read_csv(url)"
      ],
      "execution_count": null,
      "outputs": []
    },
    {
      "cell_type": "markdown",
      "metadata": {
        "id": "zBta9WSV7cmn"
      },
      "source": [
        "## 파일로 불러오기 "
      ]
    },
    {
      "cell_type": "code",
      "metadata": {
        "id": "BQnn5-Gk7S-M"
      },
      "source": [
        "import pandas as pd\n",
        "df = pd.read_csv('degi.csv', encoding='cp949')\n",
        "df"
      ],
      "execution_count": null,
      "outputs": []
    },
    {
      "cell_type": "markdown",
      "metadata": {
        "id": "hBBmwvu07p6b"
      },
      "source": [
        "### Parameters\n",
        "[공식문서 바로가기](https://pandas.pydata.org/docs/reference/api/pandas.read_csv.html)\n",
        "- filepath or buffer\n",
        "  - 파일경로/파일이름.csv 을 입력하여 파일을 불러옵니다.\n",
        "- sep or delimiter\n",
        "  - 초기값은 comma(,)\n",
        "  - 만일 분리되어있는 기준이 쉼표(,)로 분리되어 있지 않은 경우 기준이 되는 값을 입력하면 됩니다. 예를 들어 슬라이스(/), Tab( ) 등 으로 분리되어 있는 경우를 말합니다.\n",
        "- header\n",
        "  - 초기값은 0\n",
        "  - 컬럼명으로 사용할 행의 번호를 입력합니다.\n",
        "- names\n",
        "  - 사용할 변수명을 입력합니다. 파일에 변수명이 없다면 header를 None으로 설정해야합니다.\n",
        "- index_col\n",
        "  - 데이터의 인덱스로 사용할 열의 번호를 입력합니다.\n",
        "- skiprows\n",
        "  - 첫 행을 기준으로 데이터를 얼마나 건너뛰고 읽어올지를 정합니다.\n",
        "- nrows\n",
        "  - 파일을 읽어올 행의 수를 입력합니다.\n",
        "- date_parser\n",
        "  - 시계열 타입으로 변환할 변수를 입력합니다."
      ]
    }
  ]
}