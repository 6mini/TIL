{
 "cells": [
  {
   "cell_type": "code",
   "execution_count": 1,
   "metadata": {},
   "outputs": [],
   "source": [
    "import pandas as pd"
   ]
  },
  {
   "cell_type": "code",
   "execution_count": 2,
   "metadata": {},
   "outputs": [
    {
     "data": {
      "text/html": [
       "<div>\n",
       "<style scoped>\n",
       "    .dataframe tbody tr th:only-of-type {\n",
       "        vertical-align: middle;\n",
       "    }\n",
       "\n",
       "    .dataframe tbody tr th {\n",
       "        vertical-align: top;\n",
       "    }\n",
       "\n",
       "    .dataframe thead th {\n",
       "        text-align: right;\n",
       "    }\n",
       "</style>\n",
       "<table border=\"1\" class=\"dataframe\">\n",
       "  <thead>\n",
       "    <tr style=\"text-align: right;\">\n",
       "      <th></th>\n",
       "      <th>hvfhs_license_num</th>\n",
       "      <th>dispatching_base_num</th>\n",
       "      <th>pickup_datetime</th>\n",
       "      <th>dropoff_datetime</th>\n",
       "      <th>PULocationID</th>\n",
       "      <th>DOLocationID</th>\n",
       "      <th>SR_Flag</th>\n",
       "    </tr>\n",
       "  </thead>\n",
       "  <tbody>\n",
       "    <tr>\n",
       "      <th>0</th>\n",
       "      <td>HV0005</td>\n",
       "      <td>B02510</td>\n",
       "      <td>2020-03-01 00:03:40</td>\n",
       "      <td>2020-03-01 00:23:39</td>\n",
       "      <td>81</td>\n",
       "      <td>159</td>\n",
       "      <td>NaN</td>\n",
       "    </tr>\n",
       "    <tr>\n",
       "      <th>1</th>\n",
       "      <td>HV0005</td>\n",
       "      <td>B02510</td>\n",
       "      <td>2020-03-01 00:28:05</td>\n",
       "      <td>2020-03-01 00:38:57</td>\n",
       "      <td>168</td>\n",
       "      <td>119</td>\n",
       "      <td>NaN</td>\n",
       "    </tr>\n",
       "    <tr>\n",
       "      <th>2</th>\n",
       "      <td>HV0003</td>\n",
       "      <td>B02764</td>\n",
       "      <td>2020-03-01 00:03:07</td>\n",
       "      <td>2020-03-01 00:15:04</td>\n",
       "      <td>137</td>\n",
       "      <td>209</td>\n",
       "      <td>1.0</td>\n",
       "    </tr>\n",
       "    <tr>\n",
       "      <th>3</th>\n",
       "      <td>HV0003</td>\n",
       "      <td>B02764</td>\n",
       "      <td>2020-03-01 00:18:42</td>\n",
       "      <td>2020-03-01 00:38:42</td>\n",
       "      <td>209</td>\n",
       "      <td>80</td>\n",
       "      <td>NaN</td>\n",
       "    </tr>\n",
       "    <tr>\n",
       "      <th>4</th>\n",
       "      <td>HV0003</td>\n",
       "      <td>B02764</td>\n",
       "      <td>2020-03-01 00:44:24</td>\n",
       "      <td>2020-03-01 00:58:44</td>\n",
       "      <td>256</td>\n",
       "      <td>226</td>\n",
       "      <td>NaN</td>\n",
       "    </tr>\n",
       "  </tbody>\n",
       "</table>\n",
       "</div>"
      ],
      "text/plain": [
       "  hvfhs_license_num dispatching_base_num      pickup_datetime  \\\n",
       "0            HV0005               B02510  2020-03-01 00:03:40   \n",
       "1            HV0005               B02510  2020-03-01 00:28:05   \n",
       "2            HV0003               B02764  2020-03-01 00:03:07   \n",
       "3            HV0003               B02764  2020-03-01 00:18:42   \n",
       "4            HV0003               B02764  2020-03-01 00:44:24   \n",
       "\n",
       "      dropoff_datetime  PULocationID  DOLocationID  SR_Flag  \n",
       "0  2020-03-01 00:23:39            81           159      NaN  \n",
       "1  2020-03-01 00:38:57           168           119      NaN  \n",
       "2  2020-03-01 00:15:04           137           209      1.0  \n",
       "3  2020-03-01 00:38:42           209            80      NaN  \n",
       "4  2020-03-01 00:58:44           256           226      NaN  "
      ]
     },
     "execution_count": 2,
     "metadata": {},
     "output_type": "execute_result"
    }
   ],
   "source": [
    "df = pd.read_csv('fhvhv_tripdata_2020-03.csv')\n",
    "df.head(5)"
   ]
  }
 ],
 "metadata": {
  "interpreter": {
   "hash": "e9eb6b6a293b30115e481ccb9f19506874aa8d9d4a5494c014ad03bfdeec02a3"
  },
  "kernelspec": {
   "display_name": "Python 3.8.12 64-bit ('spark-flink': conda)",
   "language": "python",
   "name": "python3"
  },
  "language_info": {
   "codemirror_mode": {
    "name": "ipython",
    "version": 3
   },
   "file_extension": ".py",
   "mimetype": "text/x-python",
   "name": "python",
   "nbconvert_exporter": "python",
   "pygments_lexer": "ipython3",
   "version": "3.8.12"
  },
  "orig_nbformat": 4
 },
 "nbformat": 4,
 "nbformat_minor": 2
}
