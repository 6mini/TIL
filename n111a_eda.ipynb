{
  "nbformat": 4,
  "nbformat_minor": 0,
  "metadata": {
    "colab": {
      "name": "n111a-eda",
      "provenance": [],
      "collapsed_sections": [],
      "include_colab_link": true
    },
    "kernelspec": {
      "display_name": "Python 3",
      "language": "python",
      "name": "python3"
    },
    "language_info": {
      "codemirror_mode": {
        "name": "ipython",
        "version": 3
      },
      "file_extension": ".py",
      "mimetype": "text/x-python",
      "name": "python",
      "nbconvert_exporter": "python",
      "pygments_lexer": "ipython3",
      "version": "3.8.2"
    }
  },
  "cells": [
    {
      "cell_type": "markdown",
      "metadata": {
        "id": "view-in-github",
        "colab_type": "text"
      },
      "source": [
        "<a href=\"https://colab.research.google.com/github/6mini/AI_Fashion_Analyzer/blob/main/n111a_eda.ipynb\" target=\"_parent\"><img src=\"https://colab.research.google.com/assets/colab-badge.svg\" alt=\"Open In Colab\"/></a>"
      ]
    },
    {
      "cell_type": "markdown",
      "metadata": {
        "id": "MSnsTgZLKO72"
      },
      "source": [
        "<img src='https://i.imgur.com/RDAD11M.png' width = '200' align = 'right'>\n",
        "\n",
        "## *DATA SCIENCE / SECTION 1 / SPRINT 1 / NOTE 1*\n",
        "\n",
        "---\n",
        "\n",
        "# 📝 Assignment\n",
        "\n"
      ]
    },
    {
      "cell_type": "markdown",
      "metadata": {
        "id": "qoR8E-T2TYPd"
      },
      "source": [
        "## 1.데이터셋 불러오기 연습\n",
        "\n",
        "다음 url에서 엑셀 파일을 불러오세요. (pandas excel)\n",
        "\n",
        "<https://ds-lecture-data.s3.ap-northeast-2.amazonaws.com/stocks/Travel.xlsx>\n",
        "\n",
        "  - 데이터셋 변수의 이름은 `df1`, `df2`로 저장하세요.\n",
        "  - row가 아닌 column에 '매출액', '영업이익' 이 가도록 데이터를 transpose 하세요.\n",
        "  - 이후 아래 링크를 참조하여 첫번째 row를 column name으로 설정하세요.\n",
        "\n",
        "<https://stackoverflow.com/questions/31328861/python-pandas-replacing-header-with-top-row>\n",
        "\n",
        "- 파일은 2개의 시트로 구성되어 있으며 각각 이름은 `008770`, `035250` 입니다.\n",
        "\n"
      ]
    },
    {
      "cell_type": "code",
      "metadata": {
        "id": "wMxnu2SmTS8Z",
        "colab": {
          "base_uri": "https://localhost:8080/",
          "height": 569
        },
        "outputId": "65cb3777-58c4-479f-bb84-4efa59898330"
      },
      "source": [
        "travel_data_url = 'https://ds-lecture-data.s3.ap-northeast-2.amazonaws.com/stocks/Travel.xlsx'\n",
        "import matplotlib.pyplot as plot\n",
        "import pandas as pd\n",
        "import numpy as np\n",
        "from pandas import DataFrame\n",
        "df1 = pd.read_excel(travel_data_url, sheet_name = '008770 ').T #008770\n",
        "df1"
      ],
      "execution_count": 95,
      "outputs": [
        {
          "output_type": "execute_result",
          "data": {
            "text/html": [
              "<div>\n",
              "<style scoped>\n",
              "    .dataframe tbody tr th:only-of-type {\n",
              "        vertical-align: middle;\n",
              "    }\n",
              "\n",
              "    .dataframe tbody tr th {\n",
              "        vertical-align: top;\n",
              "    }\n",
              "\n",
              "    .dataframe thead th {\n",
              "        text-align: right;\n",
              "    }\n",
              "</style>\n",
              "<table border=\"1\" class=\"dataframe\">\n",
              "  <thead>\n",
              "    <tr style=\"text-align: right;\">\n",
              "      <th></th>\n",
              "      <th>0</th>\n",
              "      <th>1</th>\n",
              "      <th>2</th>\n",
              "      <th>3</th>\n",
              "      <th>4</th>\n",
              "      <th>5</th>\n",
              "      <th>6</th>\n",
              "      <th>7</th>\n",
              "      <th>8</th>\n",
              "      <th>9</th>\n",
              "      <th>10</th>\n",
              "      <th>11</th>\n",
              "      <th>12</th>\n",
              "      <th>13</th>\n",
              "      <th>14</th>\n",
              "      <th>15</th>\n",
              "      <th>16</th>\n",
              "      <th>17</th>\n",
              "      <th>18</th>\n",
              "      <th>19</th>\n",
              "      <th>20</th>\n",
              "      <th>21</th>\n",
              "      <th>22</th>\n",
              "      <th>23</th>\n",
              "      <th>24</th>\n",
              "      <th>25</th>\n",
              "      <th>26</th>\n",
              "      <th>27</th>\n",
              "      <th>28</th>\n",
              "      <th>29</th>\n",
              "      <th>30</th>\n",
              "      <th>31</th>\n",
              "    </tr>\n",
              "  </thead>\n",
              "  <tbody>\n",
              "    <tr>\n",
              "      <th>주요재무정보</th>\n",
              "      <td>매출액</td>\n",
              "      <td>영업이익</td>\n",
              "      <td>영업이익(발표기준)</td>\n",
              "      <td>세전계속사업이익</td>\n",
              "      <td>당기순이익</td>\n",
              "      <td>당기순이익(지배)</td>\n",
              "      <td>당기순이익(비지배)</td>\n",
              "      <td>자산총계</td>\n",
              "      <td>부채총계</td>\n",
              "      <td>자본총계</td>\n",
              "      <td>자본총계(지배)</td>\n",
              "      <td>자본총계(비지배)</td>\n",
              "      <td>자본금</td>\n",
              "      <td>영업활동현금흐름</td>\n",
              "      <td>투자활동현금흐름</td>\n",
              "      <td>재무활동현금흐름</td>\n",
              "      <td>CAPEX</td>\n",
              "      <td>FCF</td>\n",
              "      <td>이자발생부채</td>\n",
              "      <td>영업이익률</td>\n",
              "      <td>순이익률</td>\n",
              "      <td>ROE(%)</td>\n",
              "      <td>ROA(%)</td>\n",
              "      <td>부채비율</td>\n",
              "      <td>자본유보율</td>\n",
              "      <td>EPS(원)</td>\n",
              "      <td>PER(배)</td>\n",
              "      <td>BPS(원)</td>\n",
              "      <td>PBR(배)</td>\n",
              "      <td>현금DPS(원)</td>\n",
              "      <td>현금배당수익률</td>\n",
              "      <td>현금배당성향(%)</td>\n",
              "    </tr>\n",
              "    <tr>\n",
              "      <th>2019/09\\n(IFRS연결)</th>\n",
              "      <td>14753</td>\n",
              "      <td>574</td>\n",
              "      <td>574</td>\n",
              "      <td>376</td>\n",
              "      <td>274</td>\n",
              "      <td>277</td>\n",
              "      <td>-3</td>\n",
              "      <td>37747</td>\n",
              "      <td>28854</td>\n",
              "      <td>8893</td>\n",
              "      <td>8889</td>\n",
              "      <td>4</td>\n",
              "      <td>2000</td>\n",
              "      <td>1652</td>\n",
              "      <td>-284</td>\n",
              "      <td>-900</td>\n",
              "      <td>159</td>\n",
              "      <td>1493</td>\n",
              "      <td>19035</td>\n",
              "      <td>3.89</td>\n",
              "      <td>1.86</td>\n",
              "      <td>13.18</td>\n",
              "      <td>3.62</td>\n",
              "      <td>324.45</td>\n",
              "      <td>395.1</td>\n",
              "      <td>692</td>\n",
              "      <td>31.19</td>\n",
              "      <td>23484</td>\n",
              "      <td>3.67</td>\n",
              "      <td>0</td>\n",
              "      <td>NaN</td>\n",
              "      <td>0</td>\n",
              "    </tr>\n",
              "    <tr>\n",
              "      <th>2019/12\\n(IFRS연결)</th>\n",
              "      <td>15440</td>\n",
              "      <td>776</td>\n",
              "      <td>776</td>\n",
              "      <td>538</td>\n",
              "      <td>380</td>\n",
              "      <td>380</td>\n",
              "      <td>0</td>\n",
              "      <td>35273</td>\n",
              "      <td>26077</td>\n",
              "      <td>9195</td>\n",
              "      <td>9192</td>\n",
              "      <td>4</td>\n",
              "      <td>2000</td>\n",
              "      <td>-480</td>\n",
              "      <td>-208</td>\n",
              "      <td>1230</td>\n",
              "      <td>109</td>\n",
              "      <td>-589</td>\n",
              "      <td>15615</td>\n",
              "      <td>5.03</td>\n",
              "      <td>2.46</td>\n",
              "      <td>20.16</td>\n",
              "      <td>5.81</td>\n",
              "      <td>283.59</td>\n",
              "      <td>411.78</td>\n",
              "      <td>950</td>\n",
              "      <td>21.4</td>\n",
              "      <td>24282</td>\n",
              "      <td>3.74</td>\n",
              "      <td>350</td>\n",
              "      <td>NaN</td>\n",
              "      <td>34.94</td>\n",
              "    </tr>\n",
              "    <tr>\n",
              "      <th>2020/03\\n(IFRS연결)</th>\n",
              "      <td>9437</td>\n",
              "      <td>-668</td>\n",
              "      <td>-668</td>\n",
              "      <td>-925</td>\n",
              "      <td>-736</td>\n",
              "      <td>-736</td>\n",
              "      <td>0</td>\n",
              "      <td>33188</td>\n",
              "      <td>24813</td>\n",
              "      <td>8375</td>\n",
              "      <td>8371</td>\n",
              "      <td>4</td>\n",
              "      <td>2000</td>\n",
              "      <td>-4525</td>\n",
              "      <td>-237</td>\n",
              "      <td>1288</td>\n",
              "      <td>155</td>\n",
              "      <td>-4680</td>\n",
              "      <td>17505</td>\n",
              "      <td>-7.08</td>\n",
              "      <td>-7.8</td>\n",
              "      <td>5.39</td>\n",
              "      <td>1.25</td>\n",
              "      <td>296.28</td>\n",
              "      <td>368.36</td>\n",
              "      <td>-1839</td>\n",
              "      <td>63.76</td>\n",
              "      <td>22114</td>\n",
              "      <td>3.19</td>\n",
              "      <td>NaN</td>\n",
              "      <td>NaN</td>\n",
              "      <td>0</td>\n",
              "    </tr>\n",
              "    <tr>\n",
              "      <th>2020/06\\n(IFRS연결)</th>\n",
              "      <td>5230</td>\n",
              "      <td>-634</td>\n",
              "      <td>-634</td>\n",
              "      <td>-819</td>\n",
              "      <td>-677</td>\n",
              "      <td>-678</td>\n",
              "      <td>1</td>\n",
              "      <td>33039</td>\n",
              "      <td>25364</td>\n",
              "      <td>7676</td>\n",
              "      <td>7671</td>\n",
              "      <td>5</td>\n",
              "      <td>2000</td>\n",
              "      <td>879</td>\n",
              "      <td>-856</td>\n",
              "      <td>448</td>\n",
              "      <td>90</td>\n",
              "      <td>789</td>\n",
              "      <td>18933</td>\n",
              "      <td>-12.13</td>\n",
              "      <td>-12.95</td>\n",
              "      <td>-9.31</td>\n",
              "      <td>-2.14</td>\n",
              "      <td>330.45</td>\n",
              "      <td>334.46</td>\n",
              "      <td>-1695</td>\n",
              "      <td>NaN</td>\n",
              "      <td>20265</td>\n",
              "      <td>3.5</td>\n",
              "      <td>NaN</td>\n",
              "      <td>NaN</td>\n",
              "      <td>0</td>\n",
              "    </tr>\n",
              "    <tr>\n",
              "      <th>2020/09\\n(IFRS연결)</th>\n",
              "      <td>8795</td>\n",
              "      <td>-198</td>\n",
              "      <td>-198</td>\n",
              "      <td>-366</td>\n",
              "      <td>-285</td>\n",
              "      <td>-285</td>\n",
              "      <td>0</td>\n",
              "      <td>32683</td>\n",
              "      <td>25318</td>\n",
              "      <td>7365</td>\n",
              "      <td>7360</td>\n",
              "      <td>5</td>\n",
              "      <td>2000</td>\n",
              "      <td>3104</td>\n",
              "      <td>-1388</td>\n",
              "      <td>-882</td>\n",
              "      <td>129</td>\n",
              "      <td>2975</td>\n",
              "      <td>17755</td>\n",
              "      <td>-2.25</td>\n",
              "      <td>-3.24</td>\n",
              "      <td>-16.22</td>\n",
              "      <td>-3.74</td>\n",
              "      <td>343.77</td>\n",
              "      <td>320.21</td>\n",
              "      <td>-712</td>\n",
              "      <td>NaN</td>\n",
              "      <td>19444</td>\n",
              "      <td>3.91</td>\n",
              "      <td>NaN</td>\n",
              "      <td>NaN</td>\n",
              "      <td>NaN</td>\n",
              "    </tr>\n",
              "    <tr>\n",
              "      <th>2020/12(E)\\n(IFRS연결)</th>\n",
              "      <td>9980</td>\n",
              "      <td>50</td>\n",
              "      <td>NaN</td>\n",
              "      <td>-109</td>\n",
              "      <td>-100</td>\n",
              "      <td>-100</td>\n",
              "      <td>NaN</td>\n",
              "      <td>32388</td>\n",
              "      <td>25171</td>\n",
              "      <td>7216</td>\n",
              "      <td>7263</td>\n",
              "      <td>NaN</td>\n",
              "      <td>2000</td>\n",
              "      <td>NaN</td>\n",
              "      <td>NaN</td>\n",
              "      <td>NaN</td>\n",
              "      <td>NaN</td>\n",
              "      <td>NaN</td>\n",
              "      <td>NaN</td>\n",
              "      <td>0.5</td>\n",
              "      <td>-1.01</td>\n",
              "      <td>NaN</td>\n",
              "      <td>NaN</td>\n",
              "      <td>348.79</td>\n",
              "      <td>NaN</td>\n",
              "      <td>-251</td>\n",
              "      <td>NaN</td>\n",
              "      <td>19187</td>\n",
              "      <td>4.22</td>\n",
              "      <td>NaN</td>\n",
              "      <td>NaN</td>\n",
              "      <td>NaN</td>\n",
              "    </tr>\n",
              "    <tr>\n",
              "      <th>2021/03(E)\\n(IFRS연결)</th>\n",
              "      <td>9761</td>\n",
              "      <td>144</td>\n",
              "      <td>NaN</td>\n",
              "      <td>14</td>\n",
              "      <td>71</td>\n",
              "      <td>53</td>\n",
              "      <td>NaN</td>\n",
              "      <td>NaN</td>\n",
              "      <td>NaN</td>\n",
              "      <td>NaN</td>\n",
              "      <td>NaN</td>\n",
              "      <td>NaN</td>\n",
              "      <td>NaN</td>\n",
              "      <td>NaN</td>\n",
              "      <td>NaN</td>\n",
              "      <td>NaN</td>\n",
              "      <td>NaN</td>\n",
              "      <td>NaN</td>\n",
              "      <td>NaN</td>\n",
              "      <td>1.47</td>\n",
              "      <td>0.73</td>\n",
              "      <td>NaN</td>\n",
              "      <td>NaN</td>\n",
              "      <td>NaN</td>\n",
              "      <td>NaN</td>\n",
              "      <td>133</td>\n",
              "      <td>NaN</td>\n",
              "      <td>NaN</td>\n",
              "      <td>NaN</td>\n",
              "      <td>NaN</td>\n",
              "      <td>NaN</td>\n",
              "      <td>NaN</td>\n",
              "    </tr>\n",
              "    <tr>\n",
              "      <th>2021/06(E)\\n(IFRS연결)</th>\n",
              "      <td>9820</td>\n",
              "      <td>265</td>\n",
              "      <td>NaN</td>\n",
              "      <td>172</td>\n",
              "      <td>214</td>\n",
              "      <td>123</td>\n",
              "      <td>NaN</td>\n",
              "      <td>NaN</td>\n",
              "      <td>NaN</td>\n",
              "      <td>NaN</td>\n",
              "      <td>NaN</td>\n",
              "      <td>NaN</td>\n",
              "      <td>NaN</td>\n",
              "      <td>NaN</td>\n",
              "      <td>NaN</td>\n",
              "      <td>NaN</td>\n",
              "      <td>NaN</td>\n",
              "      <td>NaN</td>\n",
              "      <td>NaN</td>\n",
              "      <td>2.7</td>\n",
              "      <td>2.18</td>\n",
              "      <td>NaN</td>\n",
              "      <td>NaN</td>\n",
              "      <td>NaN</td>\n",
              "      <td>NaN</td>\n",
              "      <td>308</td>\n",
              "      <td>NaN</td>\n",
              "      <td>NaN</td>\n",
              "      <td>NaN</td>\n",
              "      <td>NaN</td>\n",
              "      <td>NaN</td>\n",
              "      <td>NaN</td>\n",
              "    </tr>\n",
              "  </tbody>\n",
              "</table>\n",
              "</div>"
            ],
            "text/plain": [
              "                         0     1           2   ...        29       30         31\n",
              "주요재무정보                  매출액  영업이익  영업이익(발표기준)  ...  현금DPS(원)  현금배당수익률  현금배당성향(%)\n",
              "2019/09\\n(IFRS연결)     14753   574         574  ...         0      NaN          0\n",
              "2019/12\\n(IFRS연결)     15440   776         776  ...       350      NaN      34.94\n",
              "2020/03\\n(IFRS연결)      9437  -668        -668  ...       NaN      NaN          0\n",
              "2020/06\\n(IFRS연결)      5230  -634        -634  ...       NaN      NaN          0\n",
              "2020/09\\n(IFRS연결)      8795  -198        -198  ...       NaN      NaN        NaN\n",
              "2020/12(E)\\n(IFRS연결)   9980    50         NaN  ...       NaN      NaN        NaN\n",
              "2021/03(E)\\n(IFRS연결)   9761   144         NaN  ...       NaN      NaN        NaN\n",
              "2021/06(E)\\n(IFRS연결)   9820   265         NaN  ...       NaN      NaN        NaN\n",
              "\n",
              "[9 rows x 32 columns]"
            ]
          },
          "metadata": {
            "tags": []
          },
          "execution_count": 95
        }
      ]
    },
    {
      "cell_type": "code",
      "metadata": {
        "colab": {
          "base_uri": "https://localhost:8080/",
          "height": 569
        },
        "id": "uEAfPBODdAsq",
        "outputId": "00d3299d-790c-46d8-a3fa-31cc04c1d016"
      },
      "source": [
        "df2 = pd.read_excel(travel_data_url, sheet_name = '035250').T #035250\n",
        "df2"
      ],
      "execution_count": 86,
      "outputs": [
        {
          "output_type": "execute_result",
          "data": {
            "text/html": [
              "<div>\n",
              "<style scoped>\n",
              "    .dataframe tbody tr th:only-of-type {\n",
              "        vertical-align: middle;\n",
              "    }\n",
              "\n",
              "    .dataframe tbody tr th {\n",
              "        vertical-align: top;\n",
              "    }\n",
              "\n",
              "    .dataframe thead th {\n",
              "        text-align: right;\n",
              "    }\n",
              "</style>\n",
              "<table border=\"1\" class=\"dataframe\">\n",
              "  <thead>\n",
              "    <tr style=\"text-align: right;\">\n",
              "      <th></th>\n",
              "      <th>0</th>\n",
              "      <th>1</th>\n",
              "      <th>2</th>\n",
              "      <th>3</th>\n",
              "      <th>4</th>\n",
              "      <th>5</th>\n",
              "      <th>6</th>\n",
              "      <th>7</th>\n",
              "      <th>8</th>\n",
              "      <th>9</th>\n",
              "      <th>10</th>\n",
              "      <th>11</th>\n",
              "      <th>12</th>\n",
              "      <th>13</th>\n",
              "      <th>14</th>\n",
              "      <th>15</th>\n",
              "      <th>16</th>\n",
              "      <th>17</th>\n",
              "      <th>18</th>\n",
              "      <th>19</th>\n",
              "      <th>20</th>\n",
              "      <th>21</th>\n",
              "      <th>22</th>\n",
              "      <th>23</th>\n",
              "      <th>24</th>\n",
              "      <th>25</th>\n",
              "      <th>26</th>\n",
              "      <th>27</th>\n",
              "      <th>28</th>\n",
              "      <th>29</th>\n",
              "      <th>30</th>\n",
              "      <th>31</th>\n",
              "    </tr>\n",
              "  </thead>\n",
              "  <tbody>\n",
              "    <tr>\n",
              "      <th>주요재무정보</th>\n",
              "      <td>매출액</td>\n",
              "      <td>영업이익</td>\n",
              "      <td>영업이익(발표기준)</td>\n",
              "      <td>세전계속사업이익</td>\n",
              "      <td>당기순이익</td>\n",
              "      <td>당기순이익(지배)</td>\n",
              "      <td>당기순이익(비지배)</td>\n",
              "      <td>자산총계</td>\n",
              "      <td>부채총계</td>\n",
              "      <td>자본총계</td>\n",
              "      <td>자본총계(지배)</td>\n",
              "      <td>자본총계(비지배)</td>\n",
              "      <td>자본금</td>\n",
              "      <td>영업활동현금흐름</td>\n",
              "      <td>투자활동현금흐름</td>\n",
              "      <td>재무활동현금흐름</td>\n",
              "      <td>CAPEX</td>\n",
              "      <td>FCF</td>\n",
              "      <td>이자발생부채</td>\n",
              "      <td>영업이익률</td>\n",
              "      <td>순이익률</td>\n",
              "      <td>ROE(%)</td>\n",
              "      <td>ROA(%)</td>\n",
              "      <td>부채비율</td>\n",
              "      <td>자본유보율</td>\n",
              "      <td>EPS(원)</td>\n",
              "      <td>PER(배)</td>\n",
              "      <td>BPS(원)</td>\n",
              "      <td>PBR(배)</td>\n",
              "      <td>현금DPS(원)</td>\n",
              "      <td>현금배당수익률</td>\n",
              "      <td>현금배당성향(%)</td>\n",
              "    </tr>\n",
              "    <tr>\n",
              "      <th>2019/09\\n(IFRS연결)</th>\n",
              "      <td>4055</td>\n",
              "      <td>1392</td>\n",
              "      <td>1392</td>\n",
              "      <td>1554</td>\n",
              "      <td>1286</td>\n",
              "      <td>1286</td>\n",
              "      <td>0</td>\n",
              "      <td>41698</td>\n",
              "      <td>4781</td>\n",
              "      <td>36917</td>\n",
              "      <td>36916</td>\n",
              "      <td>NaN</td>\n",
              "      <td>1070</td>\n",
              "      <td>-22</td>\n",
              "      <td>-1260</td>\n",
              "      <td>-4</td>\n",
              "      <td>167</td>\n",
              "      <td>-189</td>\n",
              "      <td>48</td>\n",
              "      <td>34.33</td>\n",
              "      <td>31.72</td>\n",
              "      <td>8.27</td>\n",
              "      <td>7.2</td>\n",
              "      <td>12.95</td>\n",
              "      <td>3513.86</td>\n",
              "      <td>601</td>\n",
              "      <td>21</td>\n",
              "      <td>18209</td>\n",
              "      <td>1.62</td>\n",
              "      <td>0</td>\n",
              "      <td>NaN</td>\n",
              "      <td>0</td>\n",
              "    </tr>\n",
              "    <tr>\n",
              "      <th>2019/12\\n(IFRS연결)</th>\n",
              "      <td>3728</td>\n",
              "      <td>641</td>\n",
              "      <td>641</td>\n",
              "      <td>769</td>\n",
              "      <td>526</td>\n",
              "      <td>526</td>\n",
              "      <td>0</td>\n",
              "      <td>44381</td>\n",
              "      <td>7204</td>\n",
              "      <td>37178</td>\n",
              "      <td>37177</td>\n",
              "      <td>NaN</td>\n",
              "      <td>1070</td>\n",
              "      <td>2067</td>\n",
              "      <td>-2370</td>\n",
              "      <td>-4</td>\n",
              "      <td>383</td>\n",
              "      <td>1684</td>\n",
              "      <td>680</td>\n",
              "      <td>17.18</td>\n",
              "      <td>14.11</td>\n",
              "      <td>9.16</td>\n",
              "      <td>7.72</td>\n",
              "      <td>19.38</td>\n",
              "      <td>3538.24</td>\n",
              "      <td>246</td>\n",
              "      <td>18.92</td>\n",
              "      <td>18337</td>\n",
              "      <td>1.61</td>\n",
              "      <td>900</td>\n",
              "      <td>NaN</td>\n",
              "      <td>346.75</td>\n",
              "    </tr>\n",
              "    <tr>\n",
              "      <th>2020/03\\n(IFRS연결)</th>\n",
              "      <td>2360</td>\n",
              "      <td>-1868</td>\n",
              "      <td>-1868</td>\n",
              "      <td>-2204</td>\n",
              "      <td>-1561</td>\n",
              "      <td>-1561</td>\n",
              "      <td>0</td>\n",
              "      <td>43702</td>\n",
              "      <td>9945</td>\n",
              "      <td>33757</td>\n",
              "      <td>33757</td>\n",
              "      <td>NaN</td>\n",
              "      <td>1070</td>\n",
              "      <td>-684</td>\n",
              "      <td>909</td>\n",
              "      <td>-4</td>\n",
              "      <td>124</td>\n",
              "      <td>-808</td>\n",
              "      <td>651</td>\n",
              "      <td>-79.14</td>\n",
              "      <td>-66.15</td>\n",
              "      <td>2.21</td>\n",
              "      <td>1.75</td>\n",
              "      <td>29.46</td>\n",
              "      <td>3218.48</td>\n",
              "      <td>-730</td>\n",
              "      <td>55.53</td>\n",
              "      <td>16650</td>\n",
              "      <td>1.19</td>\n",
              "      <td>NaN</td>\n",
              "      <td>NaN</td>\n",
              "      <td>NaN</td>\n",
              "    </tr>\n",
              "    <tr>\n",
              "      <th>2020/06\\n(IFRS연결)</th>\n",
              "      <td>346</td>\n",
              "      <td>-1038</td>\n",
              "      <td>-1038</td>\n",
              "      <td>-723</td>\n",
              "      <td>-456</td>\n",
              "      <td>-456</td>\n",
              "      <td>0</td>\n",
              "      <td>39178</td>\n",
              "      <td>5900</td>\n",
              "      <td>33277</td>\n",
              "      <td>33277</td>\n",
              "      <td>1</td>\n",
              "      <td>1070</td>\n",
              "      <td>-3070</td>\n",
              "      <td>5414</td>\n",
              "      <td>-1842</td>\n",
              "      <td>82</td>\n",
              "      <td>-3153</td>\n",
              "      <td>639</td>\n",
              "      <td>-299.75</td>\n",
              "      <td>-131.55</td>\n",
              "      <td>-0.59</td>\n",
              "      <td>-0.5</td>\n",
              "      <td>17.73</td>\n",
              "      <td>3173.64</td>\n",
              "      <td>-213</td>\n",
              "      <td>NaN</td>\n",
              "      <td>16414</td>\n",
              "      <td>1.31</td>\n",
              "      <td>NaN</td>\n",
              "      <td>NaN</td>\n",
              "      <td>0</td>\n",
              "    </tr>\n",
              "    <tr>\n",
              "      <th>2020/09\\n(IFRS연결)</th>\n",
              "      <td>766</td>\n",
              "      <td>-649</td>\n",
              "      <td>-649</td>\n",
              "      <td>-552</td>\n",
              "      <td>-409</td>\n",
              "      <td>-409</td>\n",
              "      <td>0</td>\n",
              "      <td>37434</td>\n",
              "      <td>4560</td>\n",
              "      <td>32875</td>\n",
              "      <td>32874</td>\n",
              "      <td>0</td>\n",
              "      <td>1070</td>\n",
              "      <td>-1584</td>\n",
              "      <td>2327</td>\n",
              "      <td>-4</td>\n",
              "      <td>260</td>\n",
              "      <td>-1844</td>\n",
              "      <td>646</td>\n",
              "      <td>-84.68</td>\n",
              "      <td>-53.33</td>\n",
              "      <td>-5.44</td>\n",
              "      <td>-4.8</td>\n",
              "      <td>13.87</td>\n",
              "      <td>3136</td>\n",
              "      <td>-191</td>\n",
              "      <td>NaN</td>\n",
              "      <td>16215</td>\n",
              "      <td>1.33</td>\n",
              "      <td>NaN</td>\n",
              "      <td>NaN</td>\n",
              "      <td>NaN</td>\n",
              "    </tr>\n",
              "    <tr>\n",
              "      <th>2020/12(E)\\n(IFRS연결)</th>\n",
              "      <td>1581</td>\n",
              "      <td>-434</td>\n",
              "      <td>NaN</td>\n",
              "      <td>-331</td>\n",
              "      <td>-465</td>\n",
              "      <td>-314</td>\n",
              "      <td>NaN</td>\n",
              "      <td>38271</td>\n",
              "      <td>5998</td>\n",
              "      <td>32274</td>\n",
              "      <td>32212</td>\n",
              "      <td>NaN</td>\n",
              "      <td>1070</td>\n",
              "      <td>NaN</td>\n",
              "      <td>NaN</td>\n",
              "      <td>NaN</td>\n",
              "      <td>NaN</td>\n",
              "      <td>NaN</td>\n",
              "      <td>NaN</td>\n",
              "      <td>-27.49</td>\n",
              "      <td>-29.42</td>\n",
              "      <td>NaN</td>\n",
              "      <td>NaN</td>\n",
              "      <td>18.58</td>\n",
              "      <td>NaN</td>\n",
              "      <td>-147</td>\n",
              "      <td>NaN</td>\n",
              "      <td>15888</td>\n",
              "      <td>1.46</td>\n",
              "      <td>NaN</td>\n",
              "      <td>NaN</td>\n",
              "      <td>NaN</td>\n",
              "    </tr>\n",
              "    <tr>\n",
              "      <th>2021/03(E)\\n(IFRS연결)</th>\n",
              "      <td>1473</td>\n",
              "      <td>-187</td>\n",
              "      <td>NaN</td>\n",
              "      <td>NaN</td>\n",
              "      <td>NaN</td>\n",
              "      <td>-33</td>\n",
              "      <td>NaN</td>\n",
              "      <td>NaN</td>\n",
              "      <td>NaN</td>\n",
              "      <td>NaN</td>\n",
              "      <td>NaN</td>\n",
              "      <td>NaN</td>\n",
              "      <td>NaN</td>\n",
              "      <td>NaN</td>\n",
              "      <td>NaN</td>\n",
              "      <td>NaN</td>\n",
              "      <td>NaN</td>\n",
              "      <td>NaN</td>\n",
              "      <td>NaN</td>\n",
              "      <td>-12.7</td>\n",
              "      <td>NaN</td>\n",
              "      <td>NaN</td>\n",
              "      <td>NaN</td>\n",
              "      <td>NaN</td>\n",
              "      <td>NaN</td>\n",
              "      <td>-15</td>\n",
              "      <td>NaN</td>\n",
              "      <td>NaN</td>\n",
              "      <td>NaN</td>\n",
              "      <td>NaN</td>\n",
              "      <td>NaN</td>\n",
              "      <td>NaN</td>\n",
              "    </tr>\n",
              "    <tr>\n",
              "      <th>2021/06(E)\\n(IFRS연결)</th>\n",
              "      <td>1746</td>\n",
              "      <td>-65</td>\n",
              "      <td>NaN</td>\n",
              "      <td>NaN</td>\n",
              "      <td>NaN</td>\n",
              "      <td>135</td>\n",
              "      <td>NaN</td>\n",
              "      <td>NaN</td>\n",
              "      <td>NaN</td>\n",
              "      <td>NaN</td>\n",
              "      <td>NaN</td>\n",
              "      <td>NaN</td>\n",
              "      <td>NaN</td>\n",
              "      <td>NaN</td>\n",
              "      <td>NaN</td>\n",
              "      <td>NaN</td>\n",
              "      <td>NaN</td>\n",
              "      <td>NaN</td>\n",
              "      <td>NaN</td>\n",
              "      <td>-3.72</td>\n",
              "      <td>NaN</td>\n",
              "      <td>NaN</td>\n",
              "      <td>NaN</td>\n",
              "      <td>NaN</td>\n",
              "      <td>NaN</td>\n",
              "      <td>63</td>\n",
              "      <td>NaN</td>\n",
              "      <td>NaN</td>\n",
              "      <td>NaN</td>\n",
              "      <td>NaN</td>\n",
              "      <td>NaN</td>\n",
              "      <td>NaN</td>\n",
              "    </tr>\n",
              "  </tbody>\n",
              "</table>\n",
              "</div>"
            ],
            "text/plain": [
              "                        0     1           2   ...        29       30         31\n",
              "주요재무정보                 매출액  영업이익  영업이익(발표기준)  ...  현금DPS(원)  현금배당수익률  현금배당성향(%)\n",
              "2019/09\\n(IFRS연결)     4055  1392        1392  ...         0      NaN          0\n",
              "2019/12\\n(IFRS연결)     3728   641         641  ...       900      NaN     346.75\n",
              "2020/03\\n(IFRS연결)     2360 -1868       -1868  ...       NaN      NaN        NaN\n",
              "2020/06\\n(IFRS연결)      346 -1038       -1038  ...       NaN      NaN          0\n",
              "2020/09\\n(IFRS연결)      766  -649        -649  ...       NaN      NaN        NaN\n",
              "2020/12(E)\\n(IFRS연결)  1581  -434         NaN  ...       NaN      NaN        NaN\n",
              "2021/03(E)\\n(IFRS연결)  1473  -187         NaN  ...       NaN      NaN        NaN\n",
              "2021/06(E)\\n(IFRS연결)  1746   -65         NaN  ...       NaN      NaN        NaN\n",
              "\n",
              "[9 rows x 32 columns]"
            ]
          },
          "metadata": {
            "tags": []
          },
          "execution_count": 86
        }
      ]
    },
    {
      "cell_type": "code",
      "metadata": {
        "id": "qAbysAZtr9sE"
      },
      "source": [
        "names = df1.iloc[0]\n",
        "df1 = df1[1:]\n",
        "df1.columns = names\n",
        "names = df2.iloc[0]\n",
        "df2 = df2[1:]\n",
        "df2.columns = names\n",
        "# 첫번째 행을 column으로 지정"
      ],
      "execution_count": 21,
      "outputs": []
    },
    {
      "cell_type": "markdown",
      "metadata": {
        "id": "156P6ndeKojO"
      },
      "source": [
        "## 2. 데이터 확인\n",
        "\n",
        "- 데이터의 dimension을 확인하세요.\n",
        "    - dimension : 데이터를 표현하는 데 필요한 축\n",
        "- 데이터의 결측치가 어디에 있는지 확인 후 0으로 대체하세요.\n",
        "- 각 데이터 별로 **FCF**의 값을 barplot으로 시각화하세요.\n",
        "  - 0보다 큰값, 작은값의 수의 총합을 `num1`, `num2`에 저장하세요\n"
      ]
    },
    {
      "cell_type": "code",
      "metadata": {
        "id": "s_ld2YJujRSb",
        "colab": {
          "base_uri": "https://localhost:8080/"
        },
        "outputId": "8067467d-ab26-4db8-b475-e7a1172c5773"
      },
      "source": [
        "df1.info()\n",
        "df2.info()"
      ],
      "execution_count": 22,
      "outputs": [
        {
          "output_type": "stream",
          "text": [
            "<class 'pandas.core.frame.DataFrame'>\n",
            "Index: 8 entries, 2019/09\n",
            "(IFRS연결) to 2021/06(E)\n",
            "(IFRS연결)\n",
            "Data columns (total 32 columns):\n",
            " #   Column      Non-Null Count  Dtype \n",
            "---  ------      --------------  ----- \n",
            " 0   매출액         8 non-null      object\n",
            " 1   영업이익        8 non-null      object\n",
            " 2   영업이익(발표기준)  5 non-null      object\n",
            " 3   세전계속사업이익    8 non-null      object\n",
            " 4   당기순이익       8 non-null      object\n",
            " 5   당기순이익(지배)   8 non-null      object\n",
            " 6   당기순이익(비지배)  5 non-null      object\n",
            " 7   자산총계        6 non-null      object\n",
            " 8   부채총계        6 non-null      object\n",
            " 9   자본총계        6 non-null      object\n",
            " 10  자본총계(지배)    6 non-null      object\n",
            " 11  자본총계(비지배)   5 non-null      object\n",
            " 12  자본금         6 non-null      object\n",
            " 13  영업활동현금흐름    5 non-null      object\n",
            " 14  투자활동현금흐름    5 non-null      object\n",
            " 15  재무활동현금흐름    5 non-null      object\n",
            " 16  CAPEX       5 non-null      object\n",
            " 17  FCF         5 non-null      object\n",
            " 18  이자발생부채      5 non-null      object\n",
            " 19  영업이익률       8 non-null      object\n",
            " 20  순이익률        8 non-null      object\n",
            " 21  ROE(%)      5 non-null      object\n",
            " 22  ROA(%)      5 non-null      object\n",
            " 23  부채비율        6 non-null      object\n",
            " 24  자본유보율       5 non-null      object\n",
            " 25  EPS(원)      8 non-null      object\n",
            " 26  PER(배)      3 non-null      object\n",
            " 27  BPS(원)      6 non-null      object\n",
            " 28  PBR(배)      6 non-null      object\n",
            " 29  현금DPS(원)    2 non-null      object\n",
            " 30  현금배당수익률     0 non-null      object\n",
            " 31  현금배당성향(%)   4 non-null      object\n",
            "dtypes: object(32)\n",
            "memory usage: 2.1+ KB\n",
            "<class 'pandas.core.frame.DataFrame'>\n",
            "Index: 8 entries, 2019/09\n",
            "(IFRS연결) to 2021/06(E)\n",
            "(IFRS연결)\n",
            "Data columns (total 32 columns):\n",
            " #   Column      Non-Null Count  Dtype \n",
            "---  ------      --------------  ----- \n",
            " 0   매출액         8 non-null      object\n",
            " 1   영업이익        8 non-null      object\n",
            " 2   영업이익(발표기준)  5 non-null      object\n",
            " 3   세전계속사업이익    6 non-null      object\n",
            " 4   당기순이익       6 non-null      object\n",
            " 5   당기순이익(지배)   8 non-null      object\n",
            " 6   당기순이익(비지배)  5 non-null      object\n",
            " 7   자산총계        6 non-null      object\n",
            " 8   부채총계        6 non-null      object\n",
            " 9   자본총계        6 non-null      object\n",
            " 10  자본총계(지배)    6 non-null      object\n",
            " 11  자본총계(비지배)   2 non-null      object\n",
            " 12  자본금         6 non-null      object\n",
            " 13  영업활동현금흐름    5 non-null      object\n",
            " 14  투자활동현금흐름    5 non-null      object\n",
            " 15  재무활동현금흐름    5 non-null      object\n",
            " 16  CAPEX       5 non-null      object\n",
            " 17  FCF         5 non-null      object\n",
            " 18  이자발생부채      5 non-null      object\n",
            " 19  영업이익률       8 non-null      object\n",
            " 20  순이익률        6 non-null      object\n",
            " 21  ROE(%)      5 non-null      object\n",
            " 22  ROA(%)      5 non-null      object\n",
            " 23  부채비율        6 non-null      object\n",
            " 24  자본유보율       5 non-null      object\n",
            " 25  EPS(원)      8 non-null      object\n",
            " 26  PER(배)      3 non-null      object\n",
            " 27  BPS(원)      6 non-null      object\n",
            " 28  PBR(배)      6 non-null      object\n",
            " 29  현금DPS(원)    2 non-null      object\n",
            " 30  현금배당수익률     0 non-null      object\n",
            " 31  현금배당성향(%)   3 non-null      object\n",
            "dtypes: object(32)\n",
            "memory usage: 2.1+ KB\n"
          ],
          "name": "stdout"
        }
      ]
    },
    {
      "cell_type": "code",
      "metadata": {
        "id": "xVWgpcx7cmDY"
      },
      "source": [
        "df1 = df1.fillna(0)"
      ],
      "execution_count": 23,
      "outputs": []
    },
    {
      "cell_type": "code",
      "metadata": {
        "id": "kOznrH0Lc2Ik"
      },
      "source": [
        "df2 = df2.fillna(0)"
      ],
      "execution_count": 24,
      "outputs": []
    },
    {
      "cell_type": "code",
      "metadata": {
        "colab": {
          "base_uri": "https://localhost:8080/"
        },
        "id": "8gd9iCC4jTqo",
        "outputId": "154251b4-c62b-4832-a546-79fe4ab1828b"
      },
      "source": [
        "df1['FCF']"
      ],
      "execution_count": 25,
      "outputs": [
        {
          "output_type": "execute_result",
          "data": {
            "text/plain": [
              "2019/09\\n(IFRS연결)       1493.0\n",
              "2019/12\\n(IFRS연결)       -589.0\n",
              "2020/03\\n(IFRS연결)      -4680.0\n",
              "2020/06\\n(IFRS연결)        789.0\n",
              "2020/09\\n(IFRS연결)       2975.0\n",
              "2020/12(E)\\n(IFRS연결)       0.0\n",
              "2021/03(E)\\n(IFRS연결)       0.0\n",
              "2021/06(E)\\n(IFRS연결)       0.0\n",
              "Name: FCF, dtype: float64"
            ]
          },
          "metadata": {
            "tags": []
          },
          "execution_count": 25
        }
      ]
    },
    {
      "cell_type": "code",
      "metadata": {
        "colab": {
          "base_uri": "https://localhost:8080/",
          "height": 310
        },
        "id": "v2x6bjFNmUeJ",
        "outputId": "4b9a9457-1a76-4890-edb2-0bed6698c5d4"
      },
      "source": [
        "df1['FCF'].plot.bar();"
      ],
      "execution_count": 26,
      "outputs": [
        {
          "output_type": "display_data",
          "data": {
            "image/png": "[encoded data removed]",
            "text/plain": [
              "<Figure size 432x288 with 1 Axes>"
            ]
          },
          "metadata": {
            "tags": [],
            "needs_background": "light"
          }
        }
      ]
    },
    {
      "cell_type": "code",
      "metadata": {
        "colab": {
          "base_uri": "https://localhost:8080/",
          "height": 310
        },
        "id": "po_yxTmztID-",
        "outputId": "eba75374-2459-41b2-d42e-4d1d583f8d97"
      },
      "source": [
        "df2['FCF'].plot.bar();"
      ],
      "execution_count": 27,
      "outputs": [
        {
          "output_type": "display_data",
          "data": {
            "image/png": "[encoded data removed]",
            "text/plain": [
              "<Figure size 432x288 with 1 Axes>"
            ]
          },
          "metadata": {
            "tags": [],
            "needs_background": "light"
          }
        }
      ]
    },
    {
      "cell_type": "code",
      "metadata": {
        "colab": {
          "base_uri": "https://localhost:8080/"
        },
        "id": "ya4s0huuuCY8",
        "outputId": "9659fd80-95db-42d8-9ef8-776873a9408a"
      },
      "source": [
        "num1 = 0\n",
        "num2 = 0\n",
        "for i in df1['FCF']:\n",
        "    if i >= 0:\n",
        "        num1 += i\n",
        "    else:\n",
        "        num2 += i\n",
        "for i in df2['FCF']:\n",
        "    if i >= 0:\n",
        "        num1 += i\n",
        "    else:\n",
        "        num2 += i\n",
        "print(num1) #FCF의 양수의 합\n",
        "print(num2) #FCF의 음수의 합"
      ],
      "execution_count": 30,
      "outputs": [
        {
          "output_type": "stream",
          "text": [
            "6941.0\n",
            "-11263.0\n"
          ],
          "name": "stdout"
        }
      ]
    },
    {
      "cell_type": "markdown",
      "metadata": {
        "id": "OGMOBwEBTqKS"
      },
      "source": [
        "## 3. File export\n",
        "\n",
        "- 읽었던 엑셀 파일의 내용을 2개의 csv로 각각 출력하세요. (python export csv)\n",
        "\n",
        "  - 이름은 각각 `df1.csv`, `df2.csv` 입니다.\n"
      ]
    },
    {
      "cell_type": "code",
      "metadata": {
        "id": "xe47NX7qk53H"
      },
      "source": [
        "df1.to_csv('df1.csv')\n",
        "df2.to_csv('df2.csv')"
      ],
      "execution_count": 32,
      "outputs": []
    },
    {
      "cell_type": "markdown",
      "metadata": {
        "id": "DCZ01w4Ps-jO"
      },
      "source": [
        "## 4. Error Handling\n",
        "\n",
        "- 다음의 에러를 고치세요. 결과값은 6912가 나와야합니다.\n"
      ]
    },
    {
      "cell_type": "code",
      "metadata": {
        "colab": {
          "base_uri": "https://localhost:8080/"
        },
        "id": "NJdISe69ZT7E",
        "outputId": "6651c1f7-0f71-4b08-ec20-ec0191bad2e5"
      },
      "source": [
        "a = 1234\n",
        "b = 5678\n",
        "a+b"
      ],
      "execution_count": 31,
      "outputs": [
        {
          "output_type": "execute_result",
          "data": {
            "text/plain": [
              "6912"
            ]
          },
          "metadata": {
            "tags": []
          },
          "execution_count": 31
        }
      ]
    },
    {
      "cell_type": "markdown",
      "metadata": {
        "id": "KROePyMWQc08"
      },
      "source": [
        "## 5. EDA\n",
        "\n",
        "아래의 코드는 palmer penguin 데이터를 불러올 수 있는 코드입니다.\n",
        "\n",
        "```python\n",
        "import seaborn as sns\n",
        "\n",
        "pp = sns.load_dataset('penguins')\n",
        "```\n",
        "\n",
        "이를 참조하여, `pp`의 `species`와 `sex`변수에 대해서 cross-tabulation을 시행하고, 6개의 값들 중 가장 큰 값을 `num3`에, 가장 작은 값을 `num4`에 저장하세요."
      ]
    },
    {
      "cell_type": "code",
      "metadata": {
        "id": "GuENkrLISFeR",
        "colab": {
          "base_uri": "https://localhost:8080/",
          "height": 419
        },
        "outputId": "8bd9863e-4b55-434d-eae6-aaef38ab1e4a"
      },
      "source": [
        "import seaborn as sns\n",
        " \n",
        "pp = sns.load_dataset('penguins')\n",
        "pp"
      ],
      "execution_count": 85,
      "outputs": [
        {
          "output_type": "execute_result",
          "data": {
            "text/html": [
              "<div>\n",
              "<style scoped>\n",
              "    .dataframe tbody tr th:only-of-type {\n",
              "        vertical-align: middle;\n",
              "    }\n",
              "\n",
              "    .dataframe tbody tr th {\n",
              "        vertical-align: top;\n",
              "    }\n",
              "\n",
              "    .dataframe thead th {\n",
              "        text-align: right;\n",
              "    }\n",
              "</style>\n",
              "<table border=\"1\" class=\"dataframe\">\n",
              "  <thead>\n",
              "    <tr style=\"text-align: right;\">\n",
              "      <th></th>\n",
              "      <th>species</th>\n",
              "      <th>island</th>\n",
              "      <th>bill_length_mm</th>\n",
              "      <th>bill_depth_mm</th>\n",
              "      <th>flipper_length_mm</th>\n",
              "      <th>body_mass_g</th>\n",
              "      <th>sex</th>\n",
              "    </tr>\n",
              "  </thead>\n",
              "  <tbody>\n",
              "    <tr>\n",
              "      <th>0</th>\n",
              "      <td>Adelie</td>\n",
              "      <td>Torgersen</td>\n",
              "      <td>39.1</td>\n",
              "      <td>18.7</td>\n",
              "      <td>181.0</td>\n",
              "      <td>3750.0</td>\n",
              "      <td>Male</td>\n",
              "    </tr>\n",
              "    <tr>\n",
              "      <th>1</th>\n",
              "      <td>Adelie</td>\n",
              "      <td>Torgersen</td>\n",
              "      <td>39.5</td>\n",
              "      <td>17.4</td>\n",
              "      <td>186.0</td>\n",
              "      <td>3800.0</td>\n",
              "      <td>Female</td>\n",
              "    </tr>\n",
              "    <tr>\n",
              "      <th>2</th>\n",
              "      <td>Adelie</td>\n",
              "      <td>Torgersen</td>\n",
              "      <td>40.3</td>\n",
              "      <td>18.0</td>\n",
              "      <td>195.0</td>\n",
              "      <td>3250.0</td>\n",
              "      <td>Female</td>\n",
              "    </tr>\n",
              "    <tr>\n",
              "      <th>3</th>\n",
              "      <td>Adelie</td>\n",
              "      <td>Torgersen</td>\n",
              "      <td>NaN</td>\n",
              "      <td>NaN</td>\n",
              "      <td>NaN</td>\n",
              "      <td>NaN</td>\n",
              "      <td>NaN</td>\n",
              "    </tr>\n",
              "    <tr>\n",
              "      <th>4</th>\n",
              "      <td>Adelie</td>\n",
              "      <td>Torgersen</td>\n",
              "      <td>36.7</td>\n",
              "      <td>19.3</td>\n",
              "      <td>193.0</td>\n",
              "      <td>3450.0</td>\n",
              "      <td>Female</td>\n",
              "    </tr>\n",
              "    <tr>\n",
              "      <th>...</th>\n",
              "      <td>...</td>\n",
              "      <td>...</td>\n",
              "      <td>...</td>\n",
              "      <td>...</td>\n",
              "      <td>...</td>\n",
              "      <td>...</td>\n",
              "      <td>...</td>\n",
              "    </tr>\n",
              "    <tr>\n",
              "      <th>339</th>\n",
              "      <td>Gentoo</td>\n",
              "      <td>Biscoe</td>\n",
              "      <td>NaN</td>\n",
              "      <td>NaN</td>\n",
              "      <td>NaN</td>\n",
              "      <td>NaN</td>\n",
              "      <td>NaN</td>\n",
              "    </tr>\n",
              "    <tr>\n",
              "      <th>340</th>\n",
              "      <td>Gentoo</td>\n",
              "      <td>Biscoe</td>\n",
              "      <td>46.8</td>\n",
              "      <td>14.3</td>\n",
              "      <td>215.0</td>\n",
              "      <td>4850.0</td>\n",
              "      <td>Female</td>\n",
              "    </tr>\n",
              "    <tr>\n",
              "      <th>341</th>\n",
              "      <td>Gentoo</td>\n",
              "      <td>Biscoe</td>\n",
              "      <td>50.4</td>\n",
              "      <td>15.7</td>\n",
              "      <td>222.0</td>\n",
              "      <td>5750.0</td>\n",
              "      <td>Male</td>\n",
              "    </tr>\n",
              "    <tr>\n",
              "      <th>342</th>\n",
              "      <td>Gentoo</td>\n",
              "      <td>Biscoe</td>\n",
              "      <td>45.2</td>\n",
              "      <td>14.8</td>\n",
              "      <td>212.0</td>\n",
              "      <td>5200.0</td>\n",
              "      <td>Female</td>\n",
              "    </tr>\n",
              "    <tr>\n",
              "      <th>343</th>\n",
              "      <td>Gentoo</td>\n",
              "      <td>Biscoe</td>\n",
              "      <td>49.9</td>\n",
              "      <td>16.1</td>\n",
              "      <td>213.0</td>\n",
              "      <td>5400.0</td>\n",
              "      <td>Male</td>\n",
              "    </tr>\n",
              "  </tbody>\n",
              "</table>\n",
              "<p>344 rows × 7 columns</p>\n",
              "</div>"
            ],
            "text/plain": [
              "    species     island  bill_length_mm  ...  flipper_length_mm  body_mass_g     sex\n",
              "0    Adelie  Torgersen            39.1  ...              181.0       3750.0    Male\n",
              "1    Adelie  Torgersen            39.5  ...              186.0       3800.0  Female\n",
              "2    Adelie  Torgersen            40.3  ...              195.0       3250.0  Female\n",
              "3    Adelie  Torgersen             NaN  ...                NaN          NaN     NaN\n",
              "4    Adelie  Torgersen            36.7  ...              193.0       3450.0  Female\n",
              "..      ...        ...             ...  ...                ...          ...     ...\n",
              "339  Gentoo     Biscoe             NaN  ...                NaN          NaN     NaN\n",
              "340  Gentoo     Biscoe            46.8  ...              215.0       4850.0  Female\n",
              "341  Gentoo     Biscoe            50.4  ...              222.0       5750.0    Male\n",
              "342  Gentoo     Biscoe            45.2  ...              212.0       5200.0  Female\n",
              "343  Gentoo     Biscoe            49.9  ...              213.0       5400.0    Male\n",
              "\n",
              "[344 rows x 7 columns]"
            ]
          },
          "metadata": {
            "tags": []
          },
          "execution_count": 85
        }
      ]
    },
    {
      "cell_type": "code",
      "metadata": {
        "colab": {
          "base_uri": "https://localhost:8080/",
          "height": 173
        },
        "id": "8blF2pdM7JDn",
        "outputId": "ec2806cf-af6f-4b05-b7c9-bc15c3d06865"
      },
      "source": [
        "df3 = pd.crosstab(pp.species, pp.sex)\n",
        "df3.head()"
      ],
      "execution_count": 55,
      "outputs": [
        {
          "output_type": "execute_result",
          "data": {
            "text/html": [
              "<div>\n",
              "<style scoped>\n",
              "    .dataframe tbody tr th:only-of-type {\n",
              "        vertical-align: middle;\n",
              "    }\n",
              "\n",
              "    .dataframe tbody tr th {\n",
              "        vertical-align: top;\n",
              "    }\n",
              "\n",
              "    .dataframe thead th {\n",
              "        text-align: right;\n",
              "    }\n",
              "</style>\n",
              "<table border=\"1\" class=\"dataframe\">\n",
              "  <thead>\n",
              "    <tr style=\"text-align: right;\">\n",
              "      <th>sex</th>\n",
              "      <th>Female</th>\n",
              "      <th>Male</th>\n",
              "    </tr>\n",
              "    <tr>\n",
              "      <th>species</th>\n",
              "      <th></th>\n",
              "      <th></th>\n",
              "    </tr>\n",
              "  </thead>\n",
              "  <tbody>\n",
              "    <tr>\n",
              "      <th>Adelie</th>\n",
              "      <td>73</td>\n",
              "      <td>73</td>\n",
              "    </tr>\n",
              "    <tr>\n",
              "      <th>Chinstrap</th>\n",
              "      <td>34</td>\n",
              "      <td>34</td>\n",
              "    </tr>\n",
              "    <tr>\n",
              "      <th>Gentoo</th>\n",
              "      <td>58</td>\n",
              "      <td>61</td>\n",
              "    </tr>\n",
              "  </tbody>\n",
              "</table>\n",
              "</div>"
            ],
            "text/plain": [
              "sex        Female  Male\n",
              "species                \n",
              "Adelie         73    73\n",
              "Chinstrap      34    34\n",
              "Gentoo         58    61"
            ]
          },
          "metadata": {
            "tags": []
          },
          "execution_count": 55
        }
      ]
    },
    {
      "cell_type": "code",
      "metadata": {
        "colab": {
          "base_uri": "https://localhost:8080/"
        },
        "id": "1u9Nja2J-X6x",
        "outputId": "d6a0445b-4d54-4f70-fa68-d0865e7d6c67"
      },
      "source": [
        "num3 = 0\n",
        "if df3['Female'].max() >= df3['Male'].max():\n",
        "    num3 += df3['Female'].max()\n",
        "else:\n",
        "    num3 += df3['Male'].max()\n",
        "print(num3)"
      ],
      "execution_count": 70,
      "outputs": [
        {
          "output_type": "stream",
          "text": [
            "73\n"
          ],
          "name": "stdout"
        }
      ]
    },
    {
      "cell_type": "code",
      "metadata": {
        "colab": {
          "base_uri": "https://localhost:8080/"
        },
        "id": "rhZn1a2dCGw_",
        "outputId": "b77f177e-3ef3-47e1-d57d-7c7ab7f9fd26"
      },
      "source": [
        "num4 = 0\n",
        "if df3['Female'].min() < df3['Male'].min():\n",
        "    num4 += df3['Female'].min()\n",
        "else:\n",
        "    num4 += df3['Male'].min()\n",
        "print(num4)"
      ],
      "execution_count": 76,
      "outputs": [
        {
          "output_type": "stream",
          "text": [
            "34\n"
          ],
          "name": "stdout"
        }
      ]
    },
    {
      "cell_type": "markdown",
      "metadata": {
        "id": "axPHh5t5s124"
      },
      "source": [
        "## 🔥 도전과제 "
      ]
    },
    {
      "cell_type": "markdown",
      "metadata": {
        "id": "Obp0rnowSgF8"
      },
      "source": [
        "### penguins 데이터를 계속 사용합니다.\n",
        "\n",
        "이에 대해 아래의 task들을 시행하세요.\n",
        "\n",
        "- 결측치 처리 (제거)\n",
        "\n",
        "- bill_length_mm에 대해서 qqplot 그리기\n",
        "\n",
        "- island에 대해서 다른 4개의 numerical feature 를 boxplot으로 표현하기\n",
        "\n",
        "- 각 numerical feature에 대해서 summary statistics : mean, sd, Quantiles(1Q, 2Q, 3Q, 4Q)를 계산하세요."
      ]
    },
    {
      "cell_type": "code",
      "metadata": {
        "id": "0tVL1EYBTS45",
        "colab": {
          "base_uri": "https://localhost:8080/",
          "height": 419
        },
        "outputId": "68751e5b-5115-45f0-fc9c-3326b105dd9e"
      },
      "source": [
        "#결측치 처리 (제거)\n",
        "pdf = pd.DataFrame(pp)\n",
        "pdf = pdf.dropna()\n",
        "pdf"
      ],
      "execution_count": 84,
      "outputs": [
        {
          "output_type": "execute_result",
          "data": {
            "text/html": [
              "<div>\n",
              "<style scoped>\n",
              "    .dataframe tbody tr th:only-of-type {\n",
              "        vertical-align: middle;\n",
              "    }\n",
              "\n",
              "    .dataframe tbody tr th {\n",
              "        vertical-align: top;\n",
              "    }\n",
              "\n",
              "    .dataframe thead th {\n",
              "        text-align: right;\n",
              "    }\n",
              "</style>\n",
              "<table border=\"1\" class=\"dataframe\">\n",
              "  <thead>\n",
              "    <tr style=\"text-align: right;\">\n",
              "      <th></th>\n",
              "      <th>species</th>\n",
              "      <th>island</th>\n",
              "      <th>bill_length_mm</th>\n",
              "      <th>bill_depth_mm</th>\n",
              "      <th>flipper_length_mm</th>\n",
              "      <th>body_mass_g</th>\n",
              "      <th>sex</th>\n",
              "    </tr>\n",
              "  </thead>\n",
              "  <tbody>\n",
              "    <tr>\n",
              "      <th>0</th>\n",
              "      <td>Adelie</td>\n",
              "      <td>Torgersen</td>\n",
              "      <td>39.1</td>\n",
              "      <td>18.7</td>\n",
              "      <td>181.0</td>\n",
              "      <td>3750.0</td>\n",
              "      <td>Male</td>\n",
              "    </tr>\n",
              "    <tr>\n",
              "      <th>1</th>\n",
              "      <td>Adelie</td>\n",
              "      <td>Torgersen</td>\n",
              "      <td>39.5</td>\n",
              "      <td>17.4</td>\n",
              "      <td>186.0</td>\n",
              "      <td>3800.0</td>\n",
              "      <td>Female</td>\n",
              "    </tr>\n",
              "    <tr>\n",
              "      <th>2</th>\n",
              "      <td>Adelie</td>\n",
              "      <td>Torgersen</td>\n",
              "      <td>40.3</td>\n",
              "      <td>18.0</td>\n",
              "      <td>195.0</td>\n",
              "      <td>3250.0</td>\n",
              "      <td>Female</td>\n",
              "    </tr>\n",
              "    <tr>\n",
              "      <th>4</th>\n",
              "      <td>Adelie</td>\n",
              "      <td>Torgersen</td>\n",
              "      <td>36.7</td>\n",
              "      <td>19.3</td>\n",
              "      <td>193.0</td>\n",
              "      <td>3450.0</td>\n",
              "      <td>Female</td>\n",
              "    </tr>\n",
              "    <tr>\n",
              "      <th>5</th>\n",
              "      <td>Adelie</td>\n",
              "      <td>Torgersen</td>\n",
              "      <td>39.3</td>\n",
              "      <td>20.6</td>\n",
              "      <td>190.0</td>\n",
              "      <td>3650.0</td>\n",
              "      <td>Male</td>\n",
              "    </tr>\n",
              "    <tr>\n",
              "      <th>...</th>\n",
              "      <td>...</td>\n",
              "      <td>...</td>\n",
              "      <td>...</td>\n",
              "      <td>...</td>\n",
              "      <td>...</td>\n",
              "      <td>...</td>\n",
              "      <td>...</td>\n",
              "    </tr>\n",
              "    <tr>\n",
              "      <th>338</th>\n",
              "      <td>Gentoo</td>\n",
              "      <td>Biscoe</td>\n",
              "      <td>47.2</td>\n",
              "      <td>13.7</td>\n",
              "      <td>214.0</td>\n",
              "      <td>4925.0</td>\n",
              "      <td>Female</td>\n",
              "    </tr>\n",
              "    <tr>\n",
              "      <th>340</th>\n",
              "      <td>Gentoo</td>\n",
              "      <td>Biscoe</td>\n",
              "      <td>46.8</td>\n",
              "      <td>14.3</td>\n",
              "      <td>215.0</td>\n",
              "      <td>4850.0</td>\n",
              "      <td>Female</td>\n",
              "    </tr>\n",
              "    <tr>\n",
              "      <th>341</th>\n",
              "      <td>Gentoo</td>\n",
              "      <td>Biscoe</td>\n",
              "      <td>50.4</td>\n",
              "      <td>15.7</td>\n",
              "      <td>222.0</td>\n",
              "      <td>5750.0</td>\n",
              "      <td>Male</td>\n",
              "    </tr>\n",
              "    <tr>\n",
              "      <th>342</th>\n",
              "      <td>Gentoo</td>\n",
              "      <td>Biscoe</td>\n",
              "      <td>45.2</td>\n",
              "      <td>14.8</td>\n",
              "      <td>212.0</td>\n",
              "      <td>5200.0</td>\n",
              "      <td>Female</td>\n",
              "    </tr>\n",
              "    <tr>\n",
              "      <th>343</th>\n",
              "      <td>Gentoo</td>\n",
              "      <td>Biscoe</td>\n",
              "      <td>49.9</td>\n",
              "      <td>16.1</td>\n",
              "      <td>213.0</td>\n",
              "      <td>5400.0</td>\n",
              "      <td>Male</td>\n",
              "    </tr>\n",
              "  </tbody>\n",
              "</table>\n",
              "<p>333 rows × 7 columns</p>\n",
              "</div>"
            ],
            "text/plain": [
              "    species     island  bill_length_mm  ...  flipper_length_mm  body_mass_g     sex\n",
              "0    Adelie  Torgersen            39.1  ...              181.0       3750.0    Male\n",
              "1    Adelie  Torgersen            39.5  ...              186.0       3800.0  Female\n",
              "2    Adelie  Torgersen            40.3  ...              195.0       3250.0  Female\n",
              "4    Adelie  Torgersen            36.7  ...              193.0       3450.0  Female\n",
              "5    Adelie  Torgersen            39.3  ...              190.0       3650.0    Male\n",
              "..      ...        ...             ...  ...                ...          ...     ...\n",
              "338  Gentoo     Biscoe            47.2  ...              214.0       4925.0  Female\n",
              "340  Gentoo     Biscoe            46.8  ...              215.0       4850.0  Female\n",
              "341  Gentoo     Biscoe            50.4  ...              222.0       5750.0    Male\n",
              "342  Gentoo     Biscoe            45.2  ...              212.0       5200.0  Female\n",
              "343  Gentoo     Biscoe            49.9  ...              213.0       5400.0    Male\n",
              "\n",
              "[333 rows x 7 columns]"
            ]
          },
          "metadata": {
            "tags": []
          },
          "execution_count": 84
        }
      ]
    },
    {
      "cell_type": "code",
      "metadata": {
        "colab": {
          "base_uri": "https://localhost:8080/",
          "height": 294
        },
        "id": "k2QQZM_EGVFI",
        "outputId": "ca20adcd-1f4c-4161-e2d4-8ccd8b2a4148"
      },
      "source": [
        "#bill_length_mm에 대해서 qqplot 그리기\n",
        "import scipy.stats as stats\n",
        "import matplotlib.pyplot as plt\n",
        "\n",
        "stats.probplot(pdf['bill_length_mm'], plot = plt)\n",
        "plt.show()"
      ],
      "execution_count": 99,
      "outputs": [
        {
          "output_type": "display_data",
          "data": {
            "image/png": "[encoded data removed]",
            "text/plain": [
              "<Figure size 432x288 with 1 Axes>"
            ]
          },
          "metadata": {
            "tags": [],
            "needs_background": "light"
          }
        }
      ]
    },
    {
      "cell_type": "code",
      "metadata": {
        "colab": {
          "base_uri": "https://localhost:8080/",
          "height": 302
        },
        "id": "4EGCnhSRaHJv",
        "outputId": "b6607ecb-cefd-4d77-cf38-255bdc37bf6f"
      },
      "source": [
        "#island에 대해서 다른 4개의 numerical feature 를 boxplot으로 표현하기\n",
        "import seaborn as sns\n",
        "pdfi = pdf.drop(['sex', 'species'], axis=1)\n",
        "sns.boxplot(x = pdfi['island'], y = pdfi['bill_length_mm'])"
      ],
      "execution_count": 107,
      "outputs": [
        {
          "output_type": "execute_result",
          "data": {
            "text/plain": [
              "<matplotlib.axes._subplots.AxesSubplot at 0x7f1af02bdf50>"
            ]
          },
          "metadata": {
            "tags": []
          },
          "execution_count": 107
        },
        {
          "output_type": "display_data",
          "data": {
            "image/png": "[encoded data removed]",
            "text/plain": [
              "<Figure size 432x288 with 1 Axes>"
            ]
          },
          "metadata": {
            "tags": []
          }
        }
      ]
    },
    {
      "cell_type": "code",
      "metadata": {
        "colab": {
          "base_uri": "https://localhost:8080/",
          "height": 302
        },
        "id": "5EWoonYrcyP5",
        "outputId": "068ce033-94b6-41fd-a04b-00190168615b"
      },
      "source": [
        "sns.boxplot(x = pdfi['island'], y = pdfi['bill_depth_mm'])"
      ],
      "execution_count": 110,
      "outputs": [
        {
          "output_type": "execute_result",
          "data": {
            "text/plain": [
              "<matplotlib.axes._subplots.AxesSubplot at 0x7f1af03291d0>"
            ]
          },
          "metadata": {
            "tags": []
          },
          "execution_count": 110
        },
        {
          "output_type": "display_data",
          "data": {
            "image/png": "[encoded data removed]",
            "text/plain": [
              "<Figure size 432x288 with 1 Axes>"
            ]
          },
          "metadata": {
            "tags": []
          }
        }
      ]
    },
    {
      "cell_type": "code",
      "metadata": {
        "colab": {
          "base_uri": "https://localhost:8080/",
          "height": 302
        },
        "id": "tf2hjRGLcylh",
        "outputId": "76152f68-faa4-46e2-9083-cf5863c77654"
      },
      "source": [
        "sns.boxplot(x = pdfi['island'], y = pdfi['flipper_length_mm'])"
      ],
      "execution_count": 111,
      "outputs": [
        {
          "output_type": "execute_result",
          "data": {
            "text/plain": [
              "<matplotlib.axes._subplots.AxesSubplot at 0x7f1af01cf610>"
            ]
          },
          "metadata": {
            "tags": []
          },
          "execution_count": 111
        },
        {
          "output_type": "display_data",
          "data": {
            "image/png": "[encoded data removed]",
            "text/plain": [
              "<Figure size 432x288 with 1 Axes>"
            ]
          },
          "metadata": {
            "tags": []
          }
        }
      ]
    },
    {
      "cell_type": "code",
      "metadata": {
        "colab": {
          "base_uri": "https://localhost:8080/",
          "height": 302
        },
        "id": "mIgnfMNhcy3k",
        "outputId": "f0a46959-61e6-4ac0-a660-d2d0893b8fea"
      },
      "source": [
        "sns.boxplot(x = pdfi['island'], y = pdfi['body_mass_g'])"
      ],
      "execution_count": 112,
      "outputs": [
        {
          "output_type": "execute_result",
          "data": {
            "text/plain": [
              "<matplotlib.axes._subplots.AxesSubplot at 0x7f1af01002d0>"
            ]
          },
          "metadata": {
            "tags": []
          },
          "execution_count": 112
        },
        {
          "output_type": "display_data",
          "data": {
            "image/png": "[encoded data removed]",
            "text/plain": [
              "<Figure size 432x288 with 1 Axes>"
            ]
          },
          "metadata": {
            "tags": []
          }
        }
      ]
    },
    {
      "cell_type": "code",
      "metadata": {
        "colab": {
          "base_uri": "https://localhost:8080/"
        },
        "id": "PaTB89KEdJRH",
        "outputId": "00862497-44f0-4392-fc0d-c074253b57e3"
      },
      "source": [
        "#각 numerical feature에 대해서 summary statistics : mean, sd, Quantiles(1Q, 2Q, 3Q, 4Q)를 계산하세요.\n",
        "pdfi['bill_length_mm'].describe()"
      ],
      "execution_count": 113,
      "outputs": [
        {
          "output_type": "execute_result",
          "data": {
            "text/plain": [
              "count    333.000000\n",
              "mean      43.992793\n",
              "std        5.468668\n",
              "min       32.100000\n",
              "25%       39.500000\n",
              "50%       44.500000\n",
              "75%       48.600000\n",
              "max       59.600000\n",
              "Name: bill_length_mm, dtype: float64"
            ]
          },
          "metadata": {
            "tags": []
          },
          "execution_count": 113
        }
      ]
    },
    {
      "cell_type": "code",
      "metadata": {
        "colab": {
          "base_uri": "https://localhost:8080/"
        },
        "id": "Fbp5HapZdfRN",
        "outputId": "18ea0c91-2724-4cf1-f5e9-7aaf8db44c56"
      },
      "source": [
        "pdfi['bill_depth_mm'].describe()"
      ],
      "execution_count": 114,
      "outputs": [
        {
          "output_type": "execute_result",
          "data": {
            "text/plain": [
              "count    333.000000\n",
              "mean      17.164865\n",
              "std        1.969235\n",
              "min       13.100000\n",
              "25%       15.600000\n",
              "50%       17.300000\n",
              "75%       18.700000\n",
              "max       21.500000\n",
              "Name: bill_depth_mm, dtype: float64"
            ]
          },
          "metadata": {
            "tags": []
          },
          "execution_count": 114
        }
      ]
    },
    {
      "cell_type": "code",
      "metadata": {
        "colab": {
          "base_uri": "https://localhost:8080/"
        },
        "id": "N1ILoeWydfh3",
        "outputId": "73c9c6fc-0d14-4526-f6e6-c94d3aecdf60"
      },
      "source": [
        "pdfi['flipper_length_mm'].describe()"
      ],
      "execution_count": 115,
      "outputs": [
        {
          "output_type": "execute_result",
          "data": {
            "text/plain": [
              "count    333.000000\n",
              "mean     200.966967\n",
              "std       14.015765\n",
              "min      172.000000\n",
              "25%      190.000000\n",
              "50%      197.000000\n",
              "75%      213.000000\n",
              "max      231.000000\n",
              "Name: flipper_length_mm, dtype: float64"
            ]
          },
          "metadata": {
            "tags": []
          },
          "execution_count": 115
        }
      ]
    },
    {
      "cell_type": "code",
      "metadata": {
        "colab": {
          "base_uri": "https://localhost:8080/"
        },
        "id": "UmENZmY9dfwQ",
        "outputId": "14ced9c6-4343-4736-e4ca-047feb552ed8"
      },
      "source": [
        "pdfi['body_mass_g'].describe()"
      ],
      "execution_count": 116,
      "outputs": [
        {
          "output_type": "execute_result",
          "data": {
            "text/plain": [
              "count     333.000000\n",
              "mean     4207.057057\n",
              "std       805.215802\n",
              "min      2700.000000\n",
              "25%      3550.000000\n",
              "50%      4050.000000\n",
              "75%      4775.000000\n",
              "max      6300.000000\n",
              "Name: body_mass_g, dtype: float64"
            ]
          },
          "metadata": {
            "tags": []
          },
          "execution_count": 116
        }
      ]
    },
    {
      "cell_type": "code",
      "metadata": {
        "colab": {
          "base_uri": "https://localhost:8080/"
        },
        "id": "WhKh3oQgvZsy",
        "outputId": "8c4aa20e-ab6c-4c69-d81d-bc955d6519ad"
      },
      "source": [
        "# 한글폰트 사용 in colab\n",
        "%matplotlib inline  \n",
        "\n",
        "import matplotlib as mpl \n",
        "import matplotlib.pyplot as plt \n",
        "import matplotlib.font_manager as fm  \n",
        "\n",
        "!apt-get update -qq\n",
        "!apt-get install fonts-nanum* -qq\n",
        "\n",
        "path = '/usr/share/fonts/truetype/nanum/NanumBarunGothic.ttf' \n",
        "font_name = fm.FontProperties(fname=path, size=10).get_name()\n",
        "print(font_name)\n",
        "plt.rc('font', family=font_name)\n",
        "\n",
        "fm._rebuild()\n",
        "mpl.rcParams['axes.unicode_minus'] = False"
      ],
      "execution_count": 9,
      "outputs": [
        {
          "output_type": "stream",
          "text": [
            "NanumBarunGothic\n"
          ],
          "name": "stdout"
        }
      ]
    }
  ]
}