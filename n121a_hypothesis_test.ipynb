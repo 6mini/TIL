{
  "nbformat": 4,
  "nbformat_minor": 0,
  "metadata": {
    "colab": {
      "name": "n121a-hypothesis-test.ipynb",
      "provenance": [],
      "include_colab_link": true
    },
    "kernelspec": {
      "display_name": "Python 3",
      "language": "python",
      "name": "python3"
    },
    "language_info": {
      "codemirror_mode": {
        "name": "ipython",
        "version": 3
      },
      "file_extension": ".py",
      "mimetype": "text/x-python",
      "name": "python",
      "nbconvert_exporter": "python",
      "pygments_lexer": "ipython3",
      "version": "3.8.2"
    }
  },
  "cells": [
    {
      "cell_type": "markdown",
      "metadata": {
        "id": "view-in-github",
        "colab_type": "text"
      },
      "source": [
        "<a href=\"https://colab.research.google.com/github/6mini/AI_Fashion_Analyzer/blob/main/n121a_hypothesis_test.ipynb\" target=\"_parent\"><img src=\"https://colab.research.google.com/assets/colab-badge.svg\" alt=\"Open In Colab\"/></a>"
      ]
    },
    {
      "cell_type": "markdown",
      "metadata": {
        "id": "Sa5KWMO1ngPN"
      },
      "source": [
        "<img src='https://i.imgur.com/RDAD11M.png' width = '200' align = 'right'>\n",
        "\n",
        "## *DATA SCIENCE / SECTION 1 / SPRINT 2 / NOTE 1*\n",
        "\n",
        "# 📝 Assignment"
      ]
    },
    {
      "cell_type": "markdown",
      "metadata": {
        "id": "OKn5niZkhwDw"
      },
      "source": [
        "# 가설 검정"
      ]
    },
    {
      "cell_type": "markdown",
      "metadata": {
        "id": "gZDO3KBZOJNp"
      },
      "source": [
        "## 1. One-Sample T-test 연습"
      ]
    },
    {
      "cell_type": "markdown",
      "metadata": {
        "id": "CdRkOn9X5BdF"
      },
      "source": [
        "### 데이터 불러오기\n",
        "- [서울시 가로수 데이터셋](https://data.seoul.go.kr/dataList/367/S/2/datasetView.do)을 사용합니다.\n",
        "\n",
        "다음 링크를 참조하세요. \n",
        "<https://ds-lecture-data.s3.ap-northeast-2.amazonaws.com/seoul_tree/seoul_tree.txt>\n"
      ]
    },
    {
      "cell_type": "code",
      "metadata": {
        "id": "bd5YFp7Xvu8P",
        "colab": {
          "base_uri": "https://localhost:8080/",
          "height": 408
        },
        "outputId": "4d0860bb-987e-4f6e-8ca2-5e127a3b55e0"
      },
      "source": [
        "import pandas as pd\n",
        "\n",
        "trees = pd.read_csv('https://ds-lecture-data.s3.ap-northeast-2.amazonaws.com/seoul_tree/seoul_tree.txt', sep = '\\t', skiprows = 1)\n",
        "trees = trees.replace({'-':0})\n",
        "trees.head()"
      ],
      "execution_count": 1,
      "outputs": [
        {
          "output_type": "execute_result",
          "data": {
            "text/html": [
              "<div>\n",
              "<style scoped>\n",
              "    .dataframe tbody tr th:only-of-type {\n",
              "        vertical-align: middle;\n",
              "    }\n",
              "\n",
              "    .dataframe tbody tr th {\n",
              "        vertical-align: top;\n",
              "    }\n",
              "\n",
              "    .dataframe thead th {\n",
              "        text-align: right;\n",
              "    }\n",
              "</style>\n",
              "<table border=\"1\" class=\"dataframe\">\n",
              "  <thead>\n",
              "    <tr style=\"text-align: right;\">\n",
              "      <th></th>\n",
              "      <th>기간</th>\n",
              "      <th>자치구</th>\n",
              "      <th>노선수</th>\n",
              "      <th>수량</th>\n",
              "      <th>은행나무</th>\n",
              "      <th>양버즘나무</th>\n",
              "      <th>느티나무</th>\n",
              "      <th>왕벚나무</th>\n",
              "      <th>은단풍나무</th>\n",
              "      <th>메타세콰이어</th>\n",
              "      <th>회화나무</th>\n",
              "      <th>가죽나무</th>\n",
              "      <th>감나무</th>\n",
              "      <th>수양버들</th>\n",
              "      <th>튜울립나무</th>\n",
              "      <th>칠엽수</th>\n",
              "      <th>포플러</th>\n",
              "      <th>느릅나무</th>\n",
              "      <th>살구나무</th>\n",
              "      <th>무궁화</th>\n",
              "      <th>소나무</th>\n",
              "      <th>목련</th>\n",
              "      <th>이팝나무</th>\n",
              "      <th>기타</th>\n",
              "    </tr>\n",
              "  </thead>\n",
              "  <tbody>\n",
              "    <tr>\n",
              "      <th>0</th>\n",
              "      <td>2019</td>\n",
              "      <td>서울시</td>\n",
              "      <td>1,412</td>\n",
              "      <td>307,351</td>\n",
              "      <td>108,050</td>\n",
              "      <td>62,474</td>\n",
              "      <td>37,473</td>\n",
              "      <td>34,150</td>\n",
              "      <td>545</td>\n",
              "      <td>5,171</td>\n",
              "      <td>7,816</td>\n",
              "      <td>52</td>\n",
              "      <td>871</td>\n",
              "      <td>32</td>\n",
              "      <td>948</td>\n",
              "      <td>1,533</td>\n",
              "      <td>7</td>\n",
              "      <td>504</td>\n",
              "      <td>234</td>\n",
              "      <td>2,374</td>\n",
              "      <td>4,539</td>\n",
              "      <td>378</td>\n",
              "      <td>20,088</td>\n",
              "      <td>20,112</td>\n",
              "    </tr>\n",
              "    <tr>\n",
              "      <th>1</th>\n",
              "      <td>2019</td>\n",
              "      <td>종로구</td>\n",
              "      <td>70</td>\n",
              "      <td>7,329</td>\n",
              "      <td>4,072</td>\n",
              "      <td>1,071</td>\n",
              "      <td>619</td>\n",
              "      <td>421</td>\n",
              "      <td>0</td>\n",
              "      <td>1</td>\n",
              "      <td>140</td>\n",
              "      <td>1</td>\n",
              "      <td>0</td>\n",
              "      <td>8</td>\n",
              "      <td>0</td>\n",
              "      <td>17</td>\n",
              "      <td>0</td>\n",
              "      <td>0</td>\n",
              "      <td>0</td>\n",
              "      <td>0</td>\n",
              "      <td>239</td>\n",
              "      <td>0</td>\n",
              "      <td>711</td>\n",
              "      <td>29</td>\n",
              "    </tr>\n",
              "    <tr>\n",
              "      <th>2</th>\n",
              "      <td>2019</td>\n",
              "      <td>중구</td>\n",
              "      <td>48</td>\n",
              "      <td>8,250</td>\n",
              "      <td>3,640</td>\n",
              "      <td>162</td>\n",
              "      <td>460</td>\n",
              "      <td>289</td>\n",
              "      <td>0</td>\n",
              "      <td>0</td>\n",
              "      <td>176</td>\n",
              "      <td>0</td>\n",
              "      <td>0</td>\n",
              "      <td>0</td>\n",
              "      <td>7</td>\n",
              "      <td>0</td>\n",
              "      <td>0</td>\n",
              "      <td>0</td>\n",
              "      <td>21</td>\n",
              "      <td>46</td>\n",
              "      <td>2,162</td>\n",
              "      <td>0</td>\n",
              "      <td>470</td>\n",
              "      <td>817</td>\n",
              "    </tr>\n",
              "    <tr>\n",
              "      <th>3</th>\n",
              "      <td>2019</td>\n",
              "      <td>용산구</td>\n",
              "      <td>39</td>\n",
              "      <td>7,835</td>\n",
              "      <td>4,444</td>\n",
              "      <td>1,422</td>\n",
              "      <td>373</td>\n",
              "      <td>262</td>\n",
              "      <td>0</td>\n",
              "      <td>0</td>\n",
              "      <td>37</td>\n",
              "      <td>0</td>\n",
              "      <td>74</td>\n",
              "      <td>0</td>\n",
              "      <td>13</td>\n",
              "      <td>16</td>\n",
              "      <td>0</td>\n",
              "      <td>0</td>\n",
              "      <td>39</td>\n",
              "      <td>0</td>\n",
              "      <td>51</td>\n",
              "      <td>126</td>\n",
              "      <td>198</td>\n",
              "      <td>780</td>\n",
              "    </tr>\n",
              "    <tr>\n",
              "      <th>4</th>\n",
              "      <td>2019</td>\n",
              "      <td>성동구</td>\n",
              "      <td>38</td>\n",
              "      <td>8,120</td>\n",
              "      <td>1,090</td>\n",
              "      <td>2,401</td>\n",
              "      <td>1,975</td>\n",
              "      <td>602</td>\n",
              "      <td>29</td>\n",
              "      <td>48</td>\n",
              "      <td>325</td>\n",
              "      <td>33</td>\n",
              "      <td>146</td>\n",
              "      <td>0</td>\n",
              "      <td>0</td>\n",
              "      <td>1</td>\n",
              "      <td>3</td>\n",
              "      <td>59</td>\n",
              "      <td>0</td>\n",
              "      <td>0</td>\n",
              "      <td>53</td>\n",
              "      <td>0</td>\n",
              "      <td>709</td>\n",
              "      <td>646</td>\n",
              "    </tr>\n",
              "  </tbody>\n",
              "</table>\n",
              "</div>"
            ],
            "text/plain": [
              "     기간  자치구    노선수       수량     은행나무  ...    무궁화    소나무   목련    이팝나무      기타\n",
              "0  2019  서울시  1,412  307,351  108,050  ...  2,374  4,539  378  20,088  20,112\n",
              "1  2019  종로구     70    7,329    4,072  ...      0    239    0     711      29\n",
              "2  2019   중구     48    8,250    3,640  ...     46  2,162    0     470     817\n",
              "3  2019  용산구     39    7,835    4,444  ...      0     51  126     198     780\n",
              "4  2019  성동구     38    8,120    1,090  ...      0     53    0     709     646\n",
              "\n",
              "[5 rows x 24 columns]"
            ]
          },
          "metadata": {
            "tags": []
          },
          "execution_count": 1
        }
      ]
    },
    {
      "cell_type": "markdown",
      "metadata": {
        "id": "oxsx9cN7dUPp"
      },
      "source": [
        "### \"서울시에는 구별로 평균 약 400 그루 정도의 `이팝나무`가 있다\"라는 가설에 대해 가설검정을 시행하세요.\n",
        "\n",
        "- 단, `서울시`, `공원녹지사업소`, `시설관리공단` 부분의 데이터는 제외합니다.\n",
        "- 가설검정 결과의 pvalue 값을 `pv1`에 저장하세요. (`.pvalue` 사용)"
      ]
    },
    {
      "cell_type": "code",
      "metadata": {
        "id": "nfucb5GYpn1D",
        "colab": {
          "base_uri": "https://localhost:8080/",
          "height": 289
        },
        "outputId": "15b1dc7e-3f5a-45ab-ee98-b4a0b1a3be45"
      },
      "source": [
        "# 서울시, 공원녹지사업소, 시설관리공단 부분의 데이터는 제외\n",
        "tridx1 = trees[trees['자치구'] == '서울시'].index\n",
        "tridx2 = trees[trees['자치구'] == '공원녹지사업소'].index\n",
        "tridx3 = trees[trees['자치구'] == '시설관리공단'].index\n",
        "trees = trees.drop(tridx1)\n",
        "trees = trees.drop(tridx2)\n",
        "trees = trees.drop(tridx3)\n",
        "trees.head()"
      ],
      "execution_count": 2,
      "outputs": [
        {
          "output_type": "execute_result",
          "data": {
            "text/html": [
              "<div>\n",
              "<style scoped>\n",
              "    .dataframe tbody tr th:only-of-type {\n",
              "        vertical-align: middle;\n",
              "    }\n",
              "\n",
              "    .dataframe tbody tr th {\n",
              "        vertical-align: top;\n",
              "    }\n",
              "\n",
              "    .dataframe thead th {\n",
              "        text-align: right;\n",
              "    }\n",
              "</style>\n",
              "<table border=\"1\" class=\"dataframe\">\n",
              "  <thead>\n",
              "    <tr style=\"text-align: right;\">\n",
              "      <th></th>\n",
              "      <th>기간</th>\n",
              "      <th>자치구</th>\n",
              "      <th>노선수</th>\n",
              "      <th>수량</th>\n",
              "      <th>은행나무</th>\n",
              "      <th>양버즘나무</th>\n",
              "      <th>느티나무</th>\n",
              "      <th>왕벚나무</th>\n",
              "      <th>은단풍나무</th>\n",
              "      <th>메타세콰이어</th>\n",
              "      <th>회화나무</th>\n",
              "      <th>가죽나무</th>\n",
              "      <th>감나무</th>\n",
              "      <th>수양버들</th>\n",
              "      <th>튜울립나무</th>\n",
              "      <th>칠엽수</th>\n",
              "      <th>포플러</th>\n",
              "      <th>느릅나무</th>\n",
              "      <th>살구나무</th>\n",
              "      <th>무궁화</th>\n",
              "      <th>소나무</th>\n",
              "      <th>목련</th>\n",
              "      <th>이팝나무</th>\n",
              "      <th>기타</th>\n",
              "    </tr>\n",
              "  </thead>\n",
              "  <tbody>\n",
              "    <tr>\n",
              "      <th>1</th>\n",
              "      <td>2019</td>\n",
              "      <td>종로구</td>\n",
              "      <td>70</td>\n",
              "      <td>7,329</td>\n",
              "      <td>4,072</td>\n",
              "      <td>1,071</td>\n",
              "      <td>619</td>\n",
              "      <td>421</td>\n",
              "      <td>0</td>\n",
              "      <td>1</td>\n",
              "      <td>140</td>\n",
              "      <td>1</td>\n",
              "      <td>0</td>\n",
              "      <td>8</td>\n",
              "      <td>0</td>\n",
              "      <td>17</td>\n",
              "      <td>0</td>\n",
              "      <td>0</td>\n",
              "      <td>0</td>\n",
              "      <td>0</td>\n",
              "      <td>239</td>\n",
              "      <td>0</td>\n",
              "      <td>711</td>\n",
              "      <td>29</td>\n",
              "    </tr>\n",
              "    <tr>\n",
              "      <th>2</th>\n",
              "      <td>2019</td>\n",
              "      <td>중구</td>\n",
              "      <td>48</td>\n",
              "      <td>8,250</td>\n",
              "      <td>3,640</td>\n",
              "      <td>162</td>\n",
              "      <td>460</td>\n",
              "      <td>289</td>\n",
              "      <td>0</td>\n",
              "      <td>0</td>\n",
              "      <td>176</td>\n",
              "      <td>0</td>\n",
              "      <td>0</td>\n",
              "      <td>0</td>\n",
              "      <td>7</td>\n",
              "      <td>0</td>\n",
              "      <td>0</td>\n",
              "      <td>0</td>\n",
              "      <td>21</td>\n",
              "      <td>46</td>\n",
              "      <td>2,162</td>\n",
              "      <td>0</td>\n",
              "      <td>470</td>\n",
              "      <td>817</td>\n",
              "    </tr>\n",
              "    <tr>\n",
              "      <th>3</th>\n",
              "      <td>2019</td>\n",
              "      <td>용산구</td>\n",
              "      <td>39</td>\n",
              "      <td>7,835</td>\n",
              "      <td>4,444</td>\n",
              "      <td>1,422</td>\n",
              "      <td>373</td>\n",
              "      <td>262</td>\n",
              "      <td>0</td>\n",
              "      <td>0</td>\n",
              "      <td>37</td>\n",
              "      <td>0</td>\n",
              "      <td>74</td>\n",
              "      <td>0</td>\n",
              "      <td>13</td>\n",
              "      <td>16</td>\n",
              "      <td>0</td>\n",
              "      <td>0</td>\n",
              "      <td>39</td>\n",
              "      <td>0</td>\n",
              "      <td>51</td>\n",
              "      <td>126</td>\n",
              "      <td>198</td>\n",
              "      <td>780</td>\n",
              "    </tr>\n",
              "    <tr>\n",
              "      <th>4</th>\n",
              "      <td>2019</td>\n",
              "      <td>성동구</td>\n",
              "      <td>38</td>\n",
              "      <td>8,120</td>\n",
              "      <td>1,090</td>\n",
              "      <td>2,401</td>\n",
              "      <td>1,975</td>\n",
              "      <td>602</td>\n",
              "      <td>29</td>\n",
              "      <td>48</td>\n",
              "      <td>325</td>\n",
              "      <td>33</td>\n",
              "      <td>146</td>\n",
              "      <td>0</td>\n",
              "      <td>0</td>\n",
              "      <td>1</td>\n",
              "      <td>3</td>\n",
              "      <td>59</td>\n",
              "      <td>0</td>\n",
              "      <td>0</td>\n",
              "      <td>53</td>\n",
              "      <td>0</td>\n",
              "      <td>709</td>\n",
              "      <td>646</td>\n",
              "    </tr>\n",
              "    <tr>\n",
              "      <th>5</th>\n",
              "      <td>2019</td>\n",
              "      <td>광진구</td>\n",
              "      <td>28</td>\n",
              "      <td>7,223</td>\n",
              "      <td>1,247</td>\n",
              "      <td>2,306</td>\n",
              "      <td>1,057</td>\n",
              "      <td>940</td>\n",
              "      <td>0</td>\n",
              "      <td>0</td>\n",
              "      <td>153</td>\n",
              "      <td>0</td>\n",
              "      <td>25</td>\n",
              "      <td>0</td>\n",
              "      <td>58</td>\n",
              "      <td>101</td>\n",
              "      <td>0</td>\n",
              "      <td>0</td>\n",
              "      <td>0</td>\n",
              "      <td>0</td>\n",
              "      <td>20</td>\n",
              "      <td>113</td>\n",
              "      <td>760</td>\n",
              "      <td>443</td>\n",
              "    </tr>\n",
              "  </tbody>\n",
              "</table>\n",
              "</div>"
            ],
            "text/plain": [
              "     기간  자치구 노선수     수량   은행나무  양버즘나무  ... 살구나무 무궁화    소나무   목련 이팝나무   기타\n",
              "1  2019  종로구  70  7,329  4,072  1,071  ...    0   0    239    0  711   29\n",
              "2  2019   중구  48  8,250  3,640    162  ...   21  46  2,162    0  470  817\n",
              "3  2019  용산구  39  7,835  4,444  1,422  ...   39   0     51  126  198  780\n",
              "4  2019  성동구  38  8,120  1,090  2,401  ...    0   0     53    0  709  646\n",
              "5  2019  광진구  28  7,223  1,247  2,306  ...    0   0     20  113  760  443\n",
              "\n",
              "[5 rows x 24 columns]"
            ]
          },
          "metadata": {
            "tags": []
          },
          "execution_count": 2
        }
      ]
    },
    {
      "cell_type": "code",
      "metadata": {
        "colab": {
          "base_uri": "https://localhost:8080/"
        },
        "id": "Y5Ul-3wIuF4F",
        "outputId": "317148e8-dadb-4806-a9fa-28dd36cee0ca"
      },
      "source": [
        "epop = pd.to_numeric(trees['이팝나무'].str.replace(',',''))\n",
        "epop.head()"
      ],
      "execution_count": 3,
      "outputs": [
        {
          "output_type": "execute_result",
          "data": {
            "text/plain": [
              "1    711\n",
              "2    470\n",
              "3    198\n",
              "4    709\n",
              "5    760\n",
              "Name: 이팝나무, dtype: int64"
            ]
          },
          "metadata": {
            "tags": []
          },
          "execution_count": 3
        }
      ]
    },
    {
      "cell_type": "code",
      "metadata": {
        "colab": {
          "base_uri": "https://localhost:8080/"
        },
        "id": "4sah3XzUuW9q",
        "outputId": "8707f63f-b9b8-4cdf-845f-ec3d054e5c9e"
      },
      "source": [
        "import numpy as np\n",
        "from scipy import stats as st\n",
        "\n",
        "print(np.mean(epop))\n",
        "\n",
        "# 서울시에는 구별로 평균 약 400 그루 정도의 이팝나무가 있다\"라는 가설에 대해 가설검정을 시행\n",
        "pv1 = st.ttest_1samp(epop, 400).pvalue\n",
        "print(pv1)"
      ],
      "execution_count": 4,
      "outputs": [
        {
          "output_type": "stream",
          "text": [
            "688.64\n",
            "0.002470712850935819\n"
          ],
          "name": "stdout"
        }
      ]
    },
    {
      "cell_type": "markdown",
      "metadata": {
        "id": "yAkyHaEnbNYa"
      },
      "source": [
        "### 이번에는 10개의 구를 샘플링하여, 위에 대한 가설검정을 다시 한번 시행해보세요.\n",
        "\n",
        "- 단, 아래의 코드를 참조하여 sample을 위한 seed 는 123로 설정하세요.\n",
        "- 가설검정 결과의 pvalue값을 `pv2`에 저장하세요\n"
      ]
    },
    {
      "cell_type": "code",
      "metadata": {
        "id": "DbQPGNNLq_AN",
        "colab": {
          "base_uri": "https://localhost:8080/"
        },
        "outputId": "ec45ad5e-4bba-4f27-e6ba-4ed1bc2df63c"
      },
      "source": [
        "# random seed와 choice의 관계\n",
        "np.random.seed(123)\n",
        "epop2 = np.random.choice(epop, size = 10)\n",
        "# 중복제거\n",
        "epop2 = np.unique(epop2) \n",
        "pv2 = st.ttest_1samp(epop2, 400).pvalue\n",
        "pv2"
      ],
      "execution_count": 24,
      "outputs": [
        {
          "output_type": "execute_result",
          "data": {
            "text/plain": [
              "0.38638498922886266"
            ]
          },
          "metadata": {
            "tags": []
          },
          "execution_count": 24
        }
      ]
    },
    {
      "cell_type": "markdown",
      "metadata": {
        "id": "GF2L27QHaWor"
      },
      "source": [
        ""
      ]
    },
    {
      "cell_type": "markdown",
      "metadata": {
        "id": "TPT-ZTt0PuIk"
      },
      "source": [
        "## 2. Two-Sample T-test 연습"
      ]
    },
    {
      "cell_type": "markdown",
      "metadata": {
        "id": "2WZnCBsR_2jT"
      },
      "source": [
        "### \"서울시의 구별 평균 느티나무수와 왕벚나무의 수는 차이가 없다\"라는 가설에 대해 가설검정을 시행하세요.\n",
        "\n",
        "- 단, `서울시`, `공원녹지사업소`, `시설관리공단` 부분의 데이터는 제외합니다.\n",
        "- 가설검정 결과의 pvalue를 `pv3`에 저장하세요"
      ]
    },
    {
      "cell_type": "code",
      "metadata": {
        "id": "lAs832N1tc7k",
        "colab": {
          "base_uri": "https://localhost:8080/"
        },
        "outputId": "01f6a210-56c9-4384-b170-8f3dd2106984"
      },
      "source": [
        "# H0 : 느티 = 왕벚\n",
        "# H1 : 느티 != 왕벚\n",
        "nttree = pd.to_numeric(trees['느티나무'].str.replace(',',''))\n",
        "kingtree = pd.to_numeric(trees['왕벚나무'].str.replace(',',''))\n",
        "print(nttree.head())\n",
        "print(kingtree.head())"
      ],
      "execution_count": 6,
      "outputs": [
        {
          "output_type": "stream",
          "text": [
            "1     619\n",
            "2     460\n",
            "3     373\n",
            "4    1975\n",
            "5    1057\n",
            "Name: 느티나무, dtype: int64\n",
            "1    421\n",
            "2    289\n",
            "3    262\n",
            "4    602\n",
            "5    940\n",
            "Name: 왕벚나무, dtype: int64\n"
          ],
          "name": "stdout"
        }
      ]
    },
    {
      "cell_type": "code",
      "metadata": {
        "colab": {
          "base_uri": "https://localhost:8080/"
        },
        "id": "57ausdBFzs-A",
        "outputId": "db2964a0-8a94-482f-ac1d-ff68557cf63a"
      },
      "source": [
        "print(np.mean(nttree))\n",
        "print(np.mean(kingtree))"
      ],
      "execution_count": 7,
      "outputs": [
        {
          "output_type": "stream",
          "text": [
            "1415.12\n",
            "1292.0\n"
          ],
          "name": "stdout"
        }
      ]
    },
    {
      "cell_type": "code",
      "metadata": {
        "colab": {
          "base_uri": "https://localhost:8080/"
        },
        "id": "o1UqtVnAzyrv",
        "outputId": "a78b7e24-d2b4-436e-a986-039d8eb101f9"
      },
      "source": [
        "pv3 = st.ttest_ind(nttree,kingtree).pvalue\n",
        "pv3\n",
        "# H0 기각할 수 없다."
      ],
      "execution_count": 8,
      "outputs": [
        {
          "output_type": "execute_result",
          "data": {
            "text/plain": [
              "0.6455096880085703"
            ]
          },
          "metadata": {
            "tags": []
          },
          "execution_count": 8
        }
      ]
    },
    {
      "cell_type": "markdown",
      "metadata": {
        "id": "vhhXvirEAeCH"
      },
      "source": [
        "\n",
        "### Two-Sample One-tailed test를 사용하여 **평균 느티나무수가 왕벚나무 수보다 크다**라는 가설에 대한 가설검정을 시행하세요.\n",
        "- 해당 가설검정의 결과를 `ans`에 저장하세요.\n",
        "\n",
        "이 때 `ans`가 가질 수 있는 값은 아래와 같습니다 :\n",
        "1. \"느티나무\" ( 느티나무의 수가 통계적으로 유의하게 많은 경우 )\n",
        "2. \"왕벚나무\" ( 왕벚나무의 수가 통계적으로 유의하게 많은 경우 )\n",
        "3. \"없음\" (통계적으로 유의하지 않은 경우)\n",
        "\n",
        "Two-Sample One-tailed test를 scipy에서 하는 방법은 아래의 링크를 참고 하세요  \n",
        "참고 링크 : https://docs.scipy.org/doc/scipy/reference/generated/scipy.stats.ttest_ind.html"
      ]
    },
    {
      "cell_type": "code",
      "metadata": {
        "id": "e-fCzianhwD1",
        "colab": {
          "base_uri": "https://localhost:8080/"
        },
        "outputId": "8d95ff16-d122-43eb-b40e-e5fe590f6244"
      },
      "source": [
        "# 아래의 코드를 실행해주세요\n",
        "!pip install scipy --upgrade"
      ],
      "execution_count": 9,
      "outputs": [
        {
          "output_type": "stream",
          "text": [
            "Requirement already up-to-date: scipy in /usr/local/lib/python3.7/dist-packages (1.7.0)\n",
            "Requirement already satisfied, skipping upgrade: numpy<1.23.0,>=1.16.5 in /usr/local/lib/python3.7/dist-packages (from scipy) (1.19.5)\n"
          ],
          "name": "stdout"
        }
      ]
    },
    {
      "cell_type": "code",
      "metadata": {
        "id": "Ceu4f-6CgBex"
      },
      "source": [
        "t = st.ttest_ind(nttree,kingtree).statistic"
      ],
      "execution_count": 10,
      "outputs": []
    },
    {
      "cell_type": "code",
      "metadata": {
        "id": "bCE3UgpbP69p",
        "colab": {
          "base_uri": "https://localhost:8080/"
        },
        "outputId": "74a63c86-07ba-4773-a81e-f2f2a20f05c2"
      },
      "source": [
        "# one tailed\n",
        "# 귀무 : 느티 > 왕벚\n",
        "# 대안 : 왕벚 >=느티\n",
        "\n",
        "print(st.ttest_ind(nttree,kingtree))\n",
        "print(st.ttest_ind(kingtree,nttree))\n",
        "\n",
        "if pv3 / 2 < 0.05 and t > 0:\n",
        "    ans = \"느티나무\"\n",
        "elif pv3 / 2 < 0.05 and t < 0:\n",
        "    ans = \"왕벚나무\"\n",
        "else:\n",
        "    ans = \"없음\""
      ],
      "execution_count": 11,
      "outputs": [
        {
          "output_type": "stream",
          "text": [
            "Ttest_indResult(statistic=0.4629256014492562, pvalue=0.6455096880085703)\n",
            "Ttest_indResult(statistic=-0.4629256014492562, pvalue=0.6455096880085703)\n"
          ],
          "name": "stdout"
        }
      ]
    },
    {
      "cell_type": "code",
      "metadata": {
        "colab": {
          "base_uri": "https://localhost:8080/",
          "height": 35
        },
        "id": "WHK0ABjpi5QB",
        "outputId": "76298a1e-d9f7-4fb1-d623-70c2ea55ca91"
      },
      "source": [
        "ans"
      ],
      "execution_count": 12,
      "outputs": [
        {
          "output_type": "execute_result",
          "data": {
            "application/vnd.google.colaboratory.intrinsic+json": {
              "type": "string"
            },
            "text/plain": [
              "'없음'"
            ]
          },
          "metadata": {
            "tags": []
          },
          "execution_count": 12
        }
      ]
    },
    {
      "cell_type": "markdown",
      "metadata": {
        "id": "C5pkmOuKgK9Y"
      },
      "source": [
        "## 🔥 **도전과제**\n",
        "> 2문제 모두 하면 됩니다.\n",
        "\n"
      ]
    },
    {
      "cell_type": "markdown",
      "metadata": {
        "id": "3114xDdlPjFx"
      },
      "source": [
        "### 1. Compare mean for multiple-sample \n",
        " \n",
        "다음 링크를 참조하세요. <https://reneshbedre.github.io/blog/anova.html>\n",
        "\n",
        "구별, 은행나무, 양버즘나무, 느티나무에 대해서 ANOVA Test를 실행하세요.\n",
        "\n",
        "단, `서울시`, `공원녹지사업소`, `시설관리공단` 부분의 데이터는 제외합니다."
      ]
    },
    {
      "cell_type": "code",
      "metadata": {
        "id": "dPmXOHh1Cfea",
        "colab": {
          "base_uri": "https://localhost:8080/"
        },
        "outputId": "257e50ec-2cc9-4d58-e1ed-70f812a89046"
      },
      "source": [
        "bank = pd.to_numeric(trees['은행나무'].str.replace(',',''))\n",
        "sheep = pd.to_numeric(trees['양버즘나무'].str.replace(',',''))\n",
        "print(bank.head())\n",
        "print(sheep.head())\n",
        "print(nttree.head())"
      ],
      "execution_count": 13,
      "outputs": [
        {
          "output_type": "stream",
          "text": [
            "1    4072\n",
            "2    3640\n",
            "3    4444\n",
            "4    1090\n",
            "5    1247\n",
            "Name: 은행나무, dtype: int64\n",
            "1    1071\n",
            "2     162\n",
            "3    1422\n",
            "4    2401\n",
            "5    2306\n",
            "Name: 양버즘나무, dtype: int64\n",
            "1     619\n",
            "2     460\n",
            "3     373\n",
            "4    1975\n",
            "5    1057\n",
            "Name: 느티나무, dtype: int64\n"
          ],
          "name": "stdout"
        }
      ]
    },
    {
      "cell_type": "code",
      "metadata": {
        "colab": {
          "base_uri": "https://localhost:8080/"
        },
        "id": "2wt7Y4nnudCS",
        "outputId": "a4ee5b36-b1a8-409f-db64-0435261b5225"
      },
      "source": [
        "from statsmodels.formula.api import ols\n",
        "from statsmodels.stats.anova import anova_lm\n",
        "import matplotlib.pyplot as plt\n",
        "# anova test\n",
        "print(st.f_oneway(bank, sheep, nttree))\n",
        "afv, apv = st.f_oneway(bank, sheep, nttree)\n",
        "print('ANOVA Test 결과 : F={0:.1f}, P={1:.5f}'.format(afv, apv))\n",
        "if apv < 0.05:\n",
        "    print('P-value 값이 충분히 작음으로 인해 그룹의 평균값이 통계적으로 유의미하게 차이납니다.')"
      ],
      "execution_count": 23,
      "outputs": [
        {
          "output_type": "stream",
          "text": [
            "F_onewayResult(statistic=17.006289557888046, pvalue=8.935183167883698e-07)\n",
            "ANOVA Test 결과 : F=17.0, P=0.00000\n",
            "P-value 값이 충분히 작음으로 인해 그룹의 평균값이 통계적으로 유의미하게 차이납니다.\n"
          ],
          "name": "stdout"
        }
      ]
    },
    {
      "cell_type": "markdown",
      "metadata": {
        "id": "nLl4aWDPCVaO"
      },
      "source": [
        "### 2. Sampling\n",
        "\n",
        "- 세션 시간에 배웠던 4가지 sampling (Simple Random, Systematic, Stratified Random, Cluster) 방식을 구현해보세요.\n",
        "\n",
        "- 이를 위한 데이터는 1 부터 100을 담은 numpy array이며, Sampling 해야 하는 수는 20개 입니다.\n",
        "\n",
        "- Stratified Random Sampling을 위한 그룹을 나누는 기준은 1-10, 11-20, ... 과 같은 방식입니다.\n",
        "\n",
        "- Cluster Sampling에서 그룹을 나누는 기준은 5로 나눴을때의 나머지 값입니다. (0,1,2,3,4)"
      ]
    },
    {
      "cell_type": "code",
      "metadata": {
        "id": "QUPwaynLAQjS"
      },
      "source": [
        "# 1-100 배열 만들기\n",
        "nparr = []\n",
        "for i in range(1, 101):\n",
        "    nparr.append(i)"
      ],
      "execution_count": 15,
      "outputs": []
    },
    {
      "cell_type": "code",
      "metadata": {
        "colab": {
          "base_uri": "https://localhost:8080/",
          "height": 204
        },
        "id": "r-Gyv3NZ8QzR",
        "outputId": "4477dc38-5a8a-452d-b482-7bd18d931e7c"
      },
      "source": [
        "#배열 데이터 프레임화\n",
        "ar = np.array(nparr)\n",
        "df_ar = pd.DataFrame(ar)\n",
        "df_ar.head()"
      ],
      "execution_count": 16,
      "outputs": [
        {
          "output_type": "execute_result",
          "data": {
            "text/html": [
              "<div>\n",
              "<style scoped>\n",
              "    .dataframe tbody tr th:only-of-type {\n",
              "        vertical-align: middle;\n",
              "    }\n",
              "\n",
              "    .dataframe tbody tr th {\n",
              "        vertical-align: top;\n",
              "    }\n",
              "\n",
              "    .dataframe thead th {\n",
              "        text-align: right;\n",
              "    }\n",
              "</style>\n",
              "<table border=\"1\" class=\"dataframe\">\n",
              "  <thead>\n",
              "    <tr style=\"text-align: right;\">\n",
              "      <th></th>\n",
              "      <th>0</th>\n",
              "    </tr>\n",
              "  </thead>\n",
              "  <tbody>\n",
              "    <tr>\n",
              "      <th>0</th>\n",
              "      <td>1</td>\n",
              "    </tr>\n",
              "    <tr>\n",
              "      <th>1</th>\n",
              "      <td>2</td>\n",
              "    </tr>\n",
              "    <tr>\n",
              "      <th>2</th>\n",
              "      <td>3</td>\n",
              "    </tr>\n",
              "    <tr>\n",
              "      <th>3</th>\n",
              "      <td>4</td>\n",
              "    </tr>\n",
              "    <tr>\n",
              "      <th>4</th>\n",
              "      <td>5</td>\n",
              "    </tr>\n",
              "  </tbody>\n",
              "</table>\n",
              "</div>"
            ],
            "text/plain": [
              "   0\n",
              "0  1\n",
              "1  2\n",
              "2  3\n",
              "3  4\n",
              "4  5"
            ]
          },
          "metadata": {
            "tags": []
          },
          "execution_count": 16
        }
      ]
    },
    {
      "cell_type": "code",
      "metadata": {
        "colab": {
          "base_uri": "https://localhost:8080/",
          "height": 669
        },
        "id": "scGsVXm68vv4",
        "outputId": "f7eaa9cb-3b7f-47d2-c540-008f0a240076"
      },
      "source": [
        "#simple\n",
        "simple_random_sample = df_ar.sample(n = 20).sort_values(by=0)\n",
        "simple_random_sample"
      ],
      "execution_count": 17,
      "outputs": [
        {
          "output_type": "execute_result",
          "data": {
            "text/html": [
              "<div>\n",
              "<style scoped>\n",
              "    .dataframe tbody tr th:only-of-type {\n",
              "        vertical-align: middle;\n",
              "    }\n",
              "\n",
              "    .dataframe tbody tr th {\n",
              "        vertical-align: top;\n",
              "    }\n",
              "\n",
              "    .dataframe thead th {\n",
              "        text-align: right;\n",
              "    }\n",
              "</style>\n",
              "<table border=\"1\" class=\"dataframe\">\n",
              "  <thead>\n",
              "    <tr style=\"text-align: right;\">\n",
              "      <th></th>\n",
              "      <th>0</th>\n",
              "    </tr>\n",
              "  </thead>\n",
              "  <tbody>\n",
              "    <tr>\n",
              "      <th>0</th>\n",
              "      <td>1</td>\n",
              "    </tr>\n",
              "    <tr>\n",
              "      <th>4</th>\n",
              "      <td>5</td>\n",
              "    </tr>\n",
              "    <tr>\n",
              "      <th>5</th>\n",
              "      <td>6</td>\n",
              "    </tr>\n",
              "    <tr>\n",
              "      <th>8</th>\n",
              "      <td>9</td>\n",
              "    </tr>\n",
              "    <tr>\n",
              "      <th>13</th>\n",
              "      <td>14</td>\n",
              "    </tr>\n",
              "    <tr>\n",
              "      <th>31</th>\n",
              "      <td>32</td>\n",
              "    </tr>\n",
              "    <tr>\n",
              "      <th>35</th>\n",
              "      <td>36</td>\n",
              "    </tr>\n",
              "    <tr>\n",
              "      <th>42</th>\n",
              "      <td>43</td>\n",
              "    </tr>\n",
              "    <tr>\n",
              "      <th>44</th>\n",
              "      <td>45</td>\n",
              "    </tr>\n",
              "    <tr>\n",
              "      <th>50</th>\n",
              "      <td>51</td>\n",
              "    </tr>\n",
              "    <tr>\n",
              "      <th>59</th>\n",
              "      <td>60</td>\n",
              "    </tr>\n",
              "    <tr>\n",
              "      <th>70</th>\n",
              "      <td>71</td>\n",
              "    </tr>\n",
              "    <tr>\n",
              "      <th>81</th>\n",
              "      <td>82</td>\n",
              "    </tr>\n",
              "    <tr>\n",
              "      <th>82</th>\n",
              "      <td>83</td>\n",
              "    </tr>\n",
              "    <tr>\n",
              "      <th>86</th>\n",
              "      <td>87</td>\n",
              "    </tr>\n",
              "    <tr>\n",
              "      <th>88</th>\n",
              "      <td>89</td>\n",
              "    </tr>\n",
              "    <tr>\n",
              "      <th>92</th>\n",
              "      <td>93</td>\n",
              "    </tr>\n",
              "    <tr>\n",
              "      <th>94</th>\n",
              "      <td>95</td>\n",
              "    </tr>\n",
              "    <tr>\n",
              "      <th>97</th>\n",
              "      <td>98</td>\n",
              "    </tr>\n",
              "    <tr>\n",
              "      <th>98</th>\n",
              "      <td>99</td>\n",
              "    </tr>\n",
              "  </tbody>\n",
              "</table>\n",
              "</div>"
            ],
            "text/plain": [
              "     0\n",
              "0    1\n",
              "4    5\n",
              "5    6\n",
              "8    9\n",
              "13  14\n",
              "31  32\n",
              "35  36\n",
              "42  43\n",
              "44  45\n",
              "50  51\n",
              "59  60\n",
              "70  71\n",
              "81  82\n",
              "82  83\n",
              "86  87\n",
              "88  89\n",
              "92  93\n",
              "94  95\n",
              "97  98\n",
              "98  99"
            ]
          },
          "metadata": {
            "tags": []
          },
          "execution_count": 17
        }
      ]
    },
    {
      "cell_type": "code",
      "metadata": {
        "colab": {
          "base_uri": "https://localhost:8080/",
          "height": 669
        },
        "id": "oMWk_J-494Cb",
        "outputId": "67dbf559-f829-4ee3-b607-09aa21d42446"
      },
      "source": [
        "# systematic 함수 생성\n",
        "def systematic_sampling(df, step):\n",
        "    indexes = np.arange(0,len(df),step=step)\n",
        "    systematic_sample = df.iloc[indexes]\n",
        "    return systematic_sample\n",
        "    \n",
        "# 20개 뽑기 위해 step 5로 설정\n",
        "systematic_sample = systematic_sampling(df_ar, 5)\n",
        "systematic_sample"
      ],
      "execution_count": 18,
      "outputs": [
        {
          "output_type": "execute_result",
          "data": {
            "text/html": [
              "<div>\n",
              "<style scoped>\n",
              "    .dataframe tbody tr th:only-of-type {\n",
              "        vertical-align: middle;\n",
              "    }\n",
              "\n",
              "    .dataframe tbody tr th {\n",
              "        vertical-align: top;\n",
              "    }\n",
              "\n",
              "    .dataframe thead th {\n",
              "        text-align: right;\n",
              "    }\n",
              "</style>\n",
              "<table border=\"1\" class=\"dataframe\">\n",
              "  <thead>\n",
              "    <tr style=\"text-align: right;\">\n",
              "      <th></th>\n",
              "      <th>0</th>\n",
              "    </tr>\n",
              "  </thead>\n",
              "  <tbody>\n",
              "    <tr>\n",
              "      <th>0</th>\n",
              "      <td>1</td>\n",
              "    </tr>\n",
              "    <tr>\n",
              "      <th>5</th>\n",
              "      <td>6</td>\n",
              "    </tr>\n",
              "    <tr>\n",
              "      <th>10</th>\n",
              "      <td>11</td>\n",
              "    </tr>\n",
              "    <tr>\n",
              "      <th>15</th>\n",
              "      <td>16</td>\n",
              "    </tr>\n",
              "    <tr>\n",
              "      <th>20</th>\n",
              "      <td>21</td>\n",
              "    </tr>\n",
              "    <tr>\n",
              "      <th>25</th>\n",
              "      <td>26</td>\n",
              "    </tr>\n",
              "    <tr>\n",
              "      <th>30</th>\n",
              "      <td>31</td>\n",
              "    </tr>\n",
              "    <tr>\n",
              "      <th>35</th>\n",
              "      <td>36</td>\n",
              "    </tr>\n",
              "    <tr>\n",
              "      <th>40</th>\n",
              "      <td>41</td>\n",
              "    </tr>\n",
              "    <tr>\n",
              "      <th>45</th>\n",
              "      <td>46</td>\n",
              "    </tr>\n",
              "    <tr>\n",
              "      <th>50</th>\n",
              "      <td>51</td>\n",
              "    </tr>\n",
              "    <tr>\n",
              "      <th>55</th>\n",
              "      <td>56</td>\n",
              "    </tr>\n",
              "    <tr>\n",
              "      <th>60</th>\n",
              "      <td>61</td>\n",
              "    </tr>\n",
              "    <tr>\n",
              "      <th>65</th>\n",
              "      <td>66</td>\n",
              "    </tr>\n",
              "    <tr>\n",
              "      <th>70</th>\n",
              "      <td>71</td>\n",
              "    </tr>\n",
              "    <tr>\n",
              "      <th>75</th>\n",
              "      <td>76</td>\n",
              "    </tr>\n",
              "    <tr>\n",
              "      <th>80</th>\n",
              "      <td>81</td>\n",
              "    </tr>\n",
              "    <tr>\n",
              "      <th>85</th>\n",
              "      <td>86</td>\n",
              "    </tr>\n",
              "    <tr>\n",
              "      <th>90</th>\n",
              "      <td>91</td>\n",
              "    </tr>\n",
              "    <tr>\n",
              "      <th>95</th>\n",
              "      <td>96</td>\n",
              "    </tr>\n",
              "  </tbody>\n",
              "</table>\n",
              "</div>"
            ],
            "text/plain": [
              "     0\n",
              "0    1\n",
              "5    6\n",
              "10  11\n",
              "15  16\n",
              "20  21\n",
              "25  26\n",
              "30  31\n",
              "35  36\n",
              "40  41\n",
              "45  46\n",
              "50  51\n",
              "55  56\n",
              "60  61\n",
              "65  66\n",
              "70  71\n",
              "75  76\n",
              "80  81\n",
              "85  86\n",
              "90  91\n",
              "95  96"
            ]
          },
          "metadata": {
            "tags": []
          },
          "execution_count": 18
        }
      ]
    },
    {
      "cell_type": "code",
      "metadata": {
        "colab": {
          "base_uri": "https://localhost:8080/",
          "height": 669
        },
        "id": "PZla0d6eGuQM",
        "outputId": "8a7b05f4-48d4-493e-e1f3-b3e12024f03d"
      },
      "source": [
        "# Stratified 추출 함수\n",
        "def Stratified_sampling(df, number_of_Stratifieds):\n",
        "    df['Stratified_id'] = np.repeat([range(1,number_of_Stratifieds+1)],len(df)/number_of_Stratifieds)\n",
        "    indexes = []\n",
        "    for i in range(0,len(df)):\n",
        "        if df['Stratified_id'].iloc[i]%5 == 0:\n",
        "            indexes.append(i)\n",
        "    Stratified_sample = df.iloc[indexes]\n",
        "    return Stratified_sample\n",
        "        \n",
        "Stratified_sample = Stratified_sampling(df_ar,10)\n",
        "Stratified_sample"
      ],
      "execution_count": 19,
      "outputs": [
        {
          "output_type": "execute_result",
          "data": {
            "text/html": [
              "<div>\n",
              "<style scoped>\n",
              "    .dataframe tbody tr th:only-of-type {\n",
              "        vertical-align: middle;\n",
              "    }\n",
              "\n",
              "    .dataframe tbody tr th {\n",
              "        vertical-align: top;\n",
              "    }\n",
              "\n",
              "    .dataframe thead th {\n",
              "        text-align: right;\n",
              "    }\n",
              "</style>\n",
              "<table border=\"1\" class=\"dataframe\">\n",
              "  <thead>\n",
              "    <tr style=\"text-align: right;\">\n",
              "      <th></th>\n",
              "      <th>0</th>\n",
              "      <th>Stratified_id</th>\n",
              "    </tr>\n",
              "  </thead>\n",
              "  <tbody>\n",
              "    <tr>\n",
              "      <th>40</th>\n",
              "      <td>41</td>\n",
              "      <td>5</td>\n",
              "    </tr>\n",
              "    <tr>\n",
              "      <th>41</th>\n",
              "      <td>42</td>\n",
              "      <td>5</td>\n",
              "    </tr>\n",
              "    <tr>\n",
              "      <th>42</th>\n",
              "      <td>43</td>\n",
              "      <td>5</td>\n",
              "    </tr>\n",
              "    <tr>\n",
              "      <th>43</th>\n",
              "      <td>44</td>\n",
              "      <td>5</td>\n",
              "    </tr>\n",
              "    <tr>\n",
              "      <th>44</th>\n",
              "      <td>45</td>\n",
              "      <td>5</td>\n",
              "    </tr>\n",
              "    <tr>\n",
              "      <th>45</th>\n",
              "      <td>46</td>\n",
              "      <td>5</td>\n",
              "    </tr>\n",
              "    <tr>\n",
              "      <th>46</th>\n",
              "      <td>47</td>\n",
              "      <td>5</td>\n",
              "    </tr>\n",
              "    <tr>\n",
              "      <th>47</th>\n",
              "      <td>48</td>\n",
              "      <td>5</td>\n",
              "    </tr>\n",
              "    <tr>\n",
              "      <th>48</th>\n",
              "      <td>49</td>\n",
              "      <td>5</td>\n",
              "    </tr>\n",
              "    <tr>\n",
              "      <th>49</th>\n",
              "      <td>50</td>\n",
              "      <td>5</td>\n",
              "    </tr>\n",
              "    <tr>\n",
              "      <th>90</th>\n",
              "      <td>91</td>\n",
              "      <td>10</td>\n",
              "    </tr>\n",
              "    <tr>\n",
              "      <th>91</th>\n",
              "      <td>92</td>\n",
              "      <td>10</td>\n",
              "    </tr>\n",
              "    <tr>\n",
              "      <th>92</th>\n",
              "      <td>93</td>\n",
              "      <td>10</td>\n",
              "    </tr>\n",
              "    <tr>\n",
              "      <th>93</th>\n",
              "      <td>94</td>\n",
              "      <td>10</td>\n",
              "    </tr>\n",
              "    <tr>\n",
              "      <th>94</th>\n",
              "      <td>95</td>\n",
              "      <td>10</td>\n",
              "    </tr>\n",
              "    <tr>\n",
              "      <th>95</th>\n",
              "      <td>96</td>\n",
              "      <td>10</td>\n",
              "    </tr>\n",
              "    <tr>\n",
              "      <th>96</th>\n",
              "      <td>97</td>\n",
              "      <td>10</td>\n",
              "    </tr>\n",
              "    <tr>\n",
              "      <th>97</th>\n",
              "      <td>98</td>\n",
              "      <td>10</td>\n",
              "    </tr>\n",
              "    <tr>\n",
              "      <th>98</th>\n",
              "      <td>99</td>\n",
              "      <td>10</td>\n",
              "    </tr>\n",
              "    <tr>\n",
              "      <th>99</th>\n",
              "      <td>100</td>\n",
              "      <td>10</td>\n",
              "    </tr>\n",
              "  </tbody>\n",
              "</table>\n",
              "</div>"
            ],
            "text/plain": [
              "      0  Stratified_id\n",
              "40   41              5\n",
              "41   42              5\n",
              "42   43              5\n",
              "43   44              5\n",
              "44   45              5\n",
              "45   46              5\n",
              "46   47              5\n",
              "47   48              5\n",
              "48   49              5\n",
              "49   50              5\n",
              "90   91             10\n",
              "91   92             10\n",
              "92   93             10\n",
              "93   94             10\n",
              "94   95             10\n",
              "95   96             10\n",
              "96   97             10\n",
              "97   98             10\n",
              "98   99             10\n",
              "99  100             10"
            ]
          },
          "metadata": {
            "tags": []
          },
          "execution_count": 19
        }
      ]
    },
    {
      "cell_type": "code",
      "metadata": {
        "colab": {
          "base_uri": "https://localhost:8080/",
          "height": 204
        },
        "id": "K051_m-vKBxA",
        "outputId": "99b58775-a7a8-4bb1-80f9-874d9e9083b9"
      },
      "source": [
        "# 나머지 값에 따른 별로 그룹 만들어주기\n",
        "cl_arr = []\n",
        "for i in range(1,101):\n",
        "    if i % 5 == 0:\n",
        "        cl_arr.append(0)\n",
        "    if i % 5 == 1:\n",
        "        cl_arr.append(1)\n",
        "    if i % 5 == 2:\n",
        "        cl_arr.append(2)\n",
        "    if i % 5 == 3:\n",
        "        cl_arr.append(3)\n",
        "    if i % 5 == 4:\n",
        "        cl_arr.append(4)\n",
        "df_ar['cl_id'] = cl_arr\n",
        "df_ar.head()"
      ],
      "execution_count": 20,
      "outputs": [
        {
          "output_type": "execute_result",
          "data": {
            "text/html": [
              "<div>\n",
              "<style scoped>\n",
              "    .dataframe tbody tr th:only-of-type {\n",
              "        vertical-align: middle;\n",
              "    }\n",
              "\n",
              "    .dataframe tbody tr th {\n",
              "        vertical-align: top;\n",
              "    }\n",
              "\n",
              "    .dataframe thead th {\n",
              "        text-align: right;\n",
              "    }\n",
              "</style>\n",
              "<table border=\"1\" class=\"dataframe\">\n",
              "  <thead>\n",
              "    <tr style=\"text-align: right;\">\n",
              "      <th></th>\n",
              "      <th>0</th>\n",
              "      <th>Stratified_id</th>\n",
              "      <th>cl_id</th>\n",
              "    </tr>\n",
              "  </thead>\n",
              "  <tbody>\n",
              "    <tr>\n",
              "      <th>0</th>\n",
              "      <td>1</td>\n",
              "      <td>1</td>\n",
              "      <td>1</td>\n",
              "    </tr>\n",
              "    <tr>\n",
              "      <th>1</th>\n",
              "      <td>2</td>\n",
              "      <td>1</td>\n",
              "      <td>2</td>\n",
              "    </tr>\n",
              "    <tr>\n",
              "      <th>2</th>\n",
              "      <td>3</td>\n",
              "      <td>1</td>\n",
              "      <td>3</td>\n",
              "    </tr>\n",
              "    <tr>\n",
              "      <th>3</th>\n",
              "      <td>4</td>\n",
              "      <td>1</td>\n",
              "      <td>4</td>\n",
              "    </tr>\n",
              "    <tr>\n",
              "      <th>4</th>\n",
              "      <td>5</td>\n",
              "      <td>1</td>\n",
              "      <td>0</td>\n",
              "    </tr>\n",
              "  </tbody>\n",
              "</table>\n",
              "</div>"
            ],
            "text/plain": [
              "   0  Stratified_id  cl_id\n",
              "0  1              1      1\n",
              "1  2              1      2\n",
              "2  3              1      3\n",
              "3  4              1      4\n",
              "4  5              1      0"
            ]
          },
          "metadata": {
            "tags": []
          },
          "execution_count": 20
        }
      ]
    },
    {
      "cell_type": "code",
      "metadata": {
        "colab": {
          "base_uri": "https://localhost:8080/",
          "height": 669
        },
        "id": "1QKv9XuGNoEh",
        "outputId": "a013362d-13ad-4582-d23d-239d3e8b950d"
      },
      "source": [
        "# 난수 하나만 추출하여 나머지 그룹 추출\n",
        "from random import *\n",
        "rdi = randrange(4)\n",
        "Cluster_Sample = df_ar[df_ar['cl_id'] == rdi]\n",
        "Cluster_Sample"
      ],
      "execution_count": 21,
      "outputs": [
        {
          "output_type": "execute_result",
          "data": {
            "text/html": [
              "<div>\n",
              "<style scoped>\n",
              "    .dataframe tbody tr th:only-of-type {\n",
              "        vertical-align: middle;\n",
              "    }\n",
              "\n",
              "    .dataframe tbody tr th {\n",
              "        vertical-align: top;\n",
              "    }\n",
              "\n",
              "    .dataframe thead th {\n",
              "        text-align: right;\n",
              "    }\n",
              "</style>\n",
              "<table border=\"1\" class=\"dataframe\">\n",
              "  <thead>\n",
              "    <tr style=\"text-align: right;\">\n",
              "      <th></th>\n",
              "      <th>0</th>\n",
              "      <th>Stratified_id</th>\n",
              "      <th>cl_id</th>\n",
              "    </tr>\n",
              "  </thead>\n",
              "  <tbody>\n",
              "    <tr>\n",
              "      <th>1</th>\n",
              "      <td>2</td>\n",
              "      <td>1</td>\n",
              "      <td>2</td>\n",
              "    </tr>\n",
              "    <tr>\n",
              "      <th>6</th>\n",
              "      <td>7</td>\n",
              "      <td>1</td>\n",
              "      <td>2</td>\n",
              "    </tr>\n",
              "    <tr>\n",
              "      <th>11</th>\n",
              "      <td>12</td>\n",
              "      <td>2</td>\n",
              "      <td>2</td>\n",
              "    </tr>\n",
              "    <tr>\n",
              "      <th>16</th>\n",
              "      <td>17</td>\n",
              "      <td>2</td>\n",
              "      <td>2</td>\n",
              "    </tr>\n",
              "    <tr>\n",
              "      <th>21</th>\n",
              "      <td>22</td>\n",
              "      <td>3</td>\n",
              "      <td>2</td>\n",
              "    </tr>\n",
              "    <tr>\n",
              "      <th>26</th>\n",
              "      <td>27</td>\n",
              "      <td>3</td>\n",
              "      <td>2</td>\n",
              "    </tr>\n",
              "    <tr>\n",
              "      <th>31</th>\n",
              "      <td>32</td>\n",
              "      <td>4</td>\n",
              "      <td>2</td>\n",
              "    </tr>\n",
              "    <tr>\n",
              "      <th>36</th>\n",
              "      <td>37</td>\n",
              "      <td>4</td>\n",
              "      <td>2</td>\n",
              "    </tr>\n",
              "    <tr>\n",
              "      <th>41</th>\n",
              "      <td>42</td>\n",
              "      <td>5</td>\n",
              "      <td>2</td>\n",
              "    </tr>\n",
              "    <tr>\n",
              "      <th>46</th>\n",
              "      <td>47</td>\n",
              "      <td>5</td>\n",
              "      <td>2</td>\n",
              "    </tr>\n",
              "    <tr>\n",
              "      <th>51</th>\n",
              "      <td>52</td>\n",
              "      <td>6</td>\n",
              "      <td>2</td>\n",
              "    </tr>\n",
              "    <tr>\n",
              "      <th>56</th>\n",
              "      <td>57</td>\n",
              "      <td>6</td>\n",
              "      <td>2</td>\n",
              "    </tr>\n",
              "    <tr>\n",
              "      <th>61</th>\n",
              "      <td>62</td>\n",
              "      <td>7</td>\n",
              "      <td>2</td>\n",
              "    </tr>\n",
              "    <tr>\n",
              "      <th>66</th>\n",
              "      <td>67</td>\n",
              "      <td>7</td>\n",
              "      <td>2</td>\n",
              "    </tr>\n",
              "    <tr>\n",
              "      <th>71</th>\n",
              "      <td>72</td>\n",
              "      <td>8</td>\n",
              "      <td>2</td>\n",
              "    </tr>\n",
              "    <tr>\n",
              "      <th>76</th>\n",
              "      <td>77</td>\n",
              "      <td>8</td>\n",
              "      <td>2</td>\n",
              "    </tr>\n",
              "    <tr>\n",
              "      <th>81</th>\n",
              "      <td>82</td>\n",
              "      <td>9</td>\n",
              "      <td>2</td>\n",
              "    </tr>\n",
              "    <tr>\n",
              "      <th>86</th>\n",
              "      <td>87</td>\n",
              "      <td>9</td>\n",
              "      <td>2</td>\n",
              "    </tr>\n",
              "    <tr>\n",
              "      <th>91</th>\n",
              "      <td>92</td>\n",
              "      <td>10</td>\n",
              "      <td>2</td>\n",
              "    </tr>\n",
              "    <tr>\n",
              "      <th>96</th>\n",
              "      <td>97</td>\n",
              "      <td>10</td>\n",
              "      <td>2</td>\n",
              "    </tr>\n",
              "  </tbody>\n",
              "</table>\n",
              "</div>"
            ],
            "text/plain": [
              "     0  Stratified_id  cl_id\n",
              "1    2              1      2\n",
              "6    7              1      2\n",
              "11  12              2      2\n",
              "16  17              2      2\n",
              "21  22              3      2\n",
              "26  27              3      2\n",
              "31  32              4      2\n",
              "36  37              4      2\n",
              "41  42              5      2\n",
              "46  47              5      2\n",
              "51  52              6      2\n",
              "56  57              6      2\n",
              "61  62              7      2\n",
              "66  67              7      2\n",
              "71  72              8      2\n",
              "76  77              8      2\n",
              "81  82              9      2\n",
              "86  87              9      2\n",
              "91  92             10      2\n",
              "96  97             10      2"
            ]
          },
          "metadata": {
            "tags": []
          },
          "execution_count": 21
        }
      ]
    },
    {
      "cell_type": "code",
      "metadata": {
        "colab": {
          "base_uri": "https://localhost:8080/"
        },
        "id": "aTpztSEvQU3A",
        "outputId": "0fa5adc0-3be0-4f66-f60a-3f9d3d429dd4"
      },
      "source": [
        "print(simple_random_sample)\n",
        "print(systematic_sample)\n",
        "print(Stratified_sample)\n",
        "print(Cluster_Sample)"
      ],
      "execution_count": 22,
      "outputs": [
        {
          "output_type": "stream",
          "text": [
            "     0\n",
            "0    1\n",
            "4    5\n",
            "5    6\n",
            "8    9\n",
            "13  14\n",
            "31  32\n",
            "35  36\n",
            "42  43\n",
            "44  45\n",
            "50  51\n",
            "59  60\n",
            "70  71\n",
            "81  82\n",
            "82  83\n",
            "86  87\n",
            "88  89\n",
            "92  93\n",
            "94  95\n",
            "97  98\n",
            "98  99\n",
            "     0\n",
            "0    1\n",
            "5    6\n",
            "10  11\n",
            "15  16\n",
            "20  21\n",
            "25  26\n",
            "30  31\n",
            "35  36\n",
            "40  41\n",
            "45  46\n",
            "50  51\n",
            "55  56\n",
            "60  61\n",
            "65  66\n",
            "70  71\n",
            "75  76\n",
            "80  81\n",
            "85  86\n",
            "90  91\n",
            "95  96\n",
            "      0  Stratified_id\n",
            "40   41              5\n",
            "41   42              5\n",
            "42   43              5\n",
            "43   44              5\n",
            "44   45              5\n",
            "45   46              5\n",
            "46   47              5\n",
            "47   48              5\n",
            "48   49              5\n",
            "49   50              5\n",
            "90   91             10\n",
            "91   92             10\n",
            "92   93             10\n",
            "93   94             10\n",
            "94   95             10\n",
            "95   96             10\n",
            "96   97             10\n",
            "97   98             10\n",
            "98   99             10\n",
            "99  100             10\n",
            "     0  Stratified_id  cl_id\n",
            "1    2              1      2\n",
            "6    7              1      2\n",
            "11  12              2      2\n",
            "16  17              2      2\n",
            "21  22              3      2\n",
            "26  27              3      2\n",
            "31  32              4      2\n",
            "36  37              4      2\n",
            "41  42              5      2\n",
            "46  47              5      2\n",
            "51  52              6      2\n",
            "56  57              6      2\n",
            "61  62              7      2\n",
            "66  67              7      2\n",
            "71  72              8      2\n",
            "76  77              8      2\n",
            "81  82              9      2\n",
            "86  87              9      2\n",
            "91  92             10      2\n",
            "96  97             10      2\n"
          ],
          "name": "stdout"
        }
      ]
    }
  ]
}