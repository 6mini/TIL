{
  "nbformat": 4,
  "nbformat_minor": 0,
  "metadata": {
    "kernelspec": {
      "display_name": "Python 3",
      "language": "python",
      "name": "python3"
    },
    "language_info": {
      "codemirror_mode": {
        "name": "ipython",
        "version": 3
      },
      "file_extension": ".py",
      "mimetype": "text/x-python",
      "name": "python",
      "nbconvert_exporter": "python",
      "pygments_lexer": "ipython3",
      "version": "3.7.7"
    },
    "colab": {
      "name": "n222a-random-forests.ipynb",
      "provenance": [],
      "include_colab_link": true
    }
  },
  "cells": [
    {
      "cell_type": "markdown",
      "metadata": {
        "id": "view-in-github",
        "colab_type": "text"
      },
      "source": [
        "<a href=\"https://colab.research.google.com/github/6mini/TIL/blob/main/n222a_random_forests.ipynb\" target=\"_parent\"><img src=\"https://colab.research.google.com/assets/colab-badge.svg\" alt=\"Open In Colab\"/></a>"
      ]
    },
    {
      "cell_type": "markdown",
      "metadata": {
        "id": "pYdPW8Jmzt2a"
      },
      "source": [
        "<img align=\"right\" src=\"https://ds-cs-images.s3.ap-northeast-2.amazonaws.com/Codestates_Fulllogo_Color.png\" width=100>\n",
        "\n",
        "## *DATA SCIENCE / SECTION 2 / SPRINT 2 / NOTE 2*\n",
        "\n",
        "# 📝 Assignment\n",
        "---"
      ]
    },
    {
      "cell_type": "markdown",
      "metadata": {
        "id": "7IXUfiQ2UKj6"
      },
      "source": [
        "# 랜덤포레스트(Random Forests)\n",
        "\n",
        "### 1) 캐글 대회를 이어서 진행합니다. EDA, 데이터 전처리 부분을 업데이트 하세요.\n",
        "- EDA는 항상 완벽할 수 없지요 한 주간 계속 같은 데이터로 과제를 진행하므로 부족한 부분을 추가하거나 논하세요.\n",
        "- (지금은 feature engineering에 너무 시간을 들이지 마세요!)\n",
        "- Ordinal Encoding을 적용해 보세요.\n",
        "- **(객관식) 다음 특성들 중에 순서를 고려한 Ordinal Encoding이 필요해 보이는 특성을 선택하고 과제 제출폼에 제출하세요.**\n",
        "    1. opinion_h1n1_vacc_effective\n",
        "    2. state\n",
        "    3. marital\n",
        "    4. employment_occupation\n"
      ]
    },
    {
      "cell_type": "code",
      "metadata": {
        "id": "-nQh0bRzldEl"
      },
      "source": [
        "'''\n",
        "behavioral_antiviral_meds - 항바이러스제를 복용했습니다. (이진)\n",
        "\n",
        "behavioral_avoidance - 독감 같은 증상을 가진 다른 사람들과의 긴밀한 접촉을 피했습니다. (이진)\n",
        "\n",
        "behavioral_face_mask - 페이스 마스크를 구입했습니다. (이진)\n",
        "\n",
        "behavioral_wash_hands - 손을 자주 씻거나 손 세정제를 사용했습니다. (이진)\n",
        "\n",
        "behavalion_large_garings - 큰 모임에서 시간이 단축되었습니다. (이진)\n",
        "\n",
        "behavioral_outside_home - 자신의 가정 이외의 사람들과의 접촉이 감소하였다. (이진)\n",
        "\n",
        "bevehaval_touch_face - 눈, 코, 입의 접촉을 피했습니다. (이진)\n",
        "\n",
        "doctor_recc_h1n1 - H1N1 독감백신은 의사가 권장하였다. (이진)\n",
        "\n",
        "doctor_recc_seasonal - 계절 독감 백신은 의사가 권장하였다. (이진)\n",
        "\n",
        "chronic_med_condition - 천식 또는 다른 폐 질환, 당뇨병, 심장 질환, 신장 질환, 겸상적혈구 빈혈 또는 기타 빈혈, 신경성 또는 신경근육 질환, 간 질환 또는 만성 질환 또는 만성 질환에 의해 복용된 약화된 면역 체계를 가지고 있다. 병. (병)\n",
        "\n",
        "child_under_6_months - 생후 6개월 미만 아동과 정기적으로 밀접하게 접촉합니다. (이진)\n",
        "\n",
        "health_insurance - 건강보험이 있습니다. (이진)\n",
        "\n",
        "health_worker - 의료 종사자입니다. (이진)\n",
        "\n",
        "opinion_h1n1_vacc_effective - H1N1 백신 효과에 대한 응답자의 의견. 전혀 효과적이지 않다; 매우 효과적이지 않다; 잘 모른다; 다소 효과적이다; 매우 효과적이다.\n",
        "\n",
        "opinion_h1n1_risk - 백신 없이 H1N1 독감에 걸릴 위험에 대한 응답자의 의견. 매우 낮음, 다소 낮음, 잘모름, 다소 높음, 매우 높음\n",
        "\n",
        "opinion_h1n1_sick_from_vacc - H1N1 백신을 복용하여 병에 걸리는 것에 대한 응답자의 걱정. 전혀 걱정 안 해. 별로 걱정 안 해. 몰라. 어느 정도 걱정해. 아주 걱정해.\n",
        "\n",
        "opinion_seas_vacc_effective - 계절 독감 백신 효과에 대한 응답자의 의견. 전혀 효과적이지 않다; 매우 효과적이지 않다; 잘 모른다; 다소 효과적이다; 매우 효과적이다.\n",
        "\n",
        "opinion_sea_risk - 백신 없이 계절성 독감에 걸릴 위험에 대한 응답자의 의견. 매우 낮음, 다소 낮음, 잘모름, 다소 높음, 매우 높음\n",
        "\n",
        "opinion_sea_sick_from_vacc - 계절성 독감 백신을 복용하여 병에 걸리는 것에 대한 응답자들의 걱정. 전혀 걱정 안 해. 별로 걱정 안 해. 몰라. 어느 정도 걱정해. 아주 걱정해.\n",
        "\n",
        "agegrp - 응답자 연령 그룹. 6개월 - 9년, 10 - 17년, 18 - 34년, 35 - 44년, 45 - 54년, 55 - 64년, 65년 이상\n",
        "\n",
        "education_comp - 자체 보고된 교육 수준입니다. 1 = = 12년, 2 = 12년, 3 = 일부 대학, 4 = 대학 졸업\n",
        "\n",
        "raceeth4_i - 응답자 레이스 1 = 히스패닉, 2 = 비히스패닉, 흑인 전용, 3 = 비히스패닉, 백인 전용, 4 = 비히스패닉, 기타 또는 다중 인종\n",
        "\n",
        "sex_i - 응답자의 성별. 1 = 남성, 2 = 여성 2\n",
        "\n",
        "inc_pov - 2008년 인구조사 빈곤 문턱에 대한 응답자의 가구 연간 소득. 1 = = 75,000달러, 2 = = 75,000달러, 3 = 빈곤 이하, 4 = 미상\n",
        "\n",
        "marital - 응답자의 혼인 여부. 1 = 결혼, 2 = 결혼하지 않음\n",
        "\n",
        "rent_own_r - 응답자의 주거 상황. 1 = 자택 소유, 2 = 자택 임대 또는 기타 약정\n",
        "\n",
        "employment_status - 응답자의 고용상태입니다. 고용; 노동력이 아님; 실업자\n",
        "\n",
        "census_region - 거주 지역의 참 인구 조사 지역(1=178; 2=198; 3=남쪽, 4=서쪽)\n",
        "\n",
        "census_msa - 미국 인구조사에 의해 정의된 대로 응답자가 대도시 통계 지역(MSA) 내에 거주하는 경우.\n",
        "\n",
        "n_adult_r - 가구의 기타 성인 수.\n",
        "\n",
        "household_children - 가구의 자녀 수입니다.\n",
        "\n",
        "n_people_r - 가구의 성인 수.\n",
        "\n",
        "employment_industry - 산업 응답자 유형을 에 고용합니다.\n",
        "\n",
        "employment_occupation - 응답자 직업 유형. 값은 짧은 임의 문자열로 표시됩니다.\n",
        "\n",
        "hhs_region - HHS 감시 지역 번호\n",
        "Region 1: CT,ME,MA,NH,RI,VT\n",
        "Region 2: NJ,NY\n",
        "Region 3: DE, DC, MD, PA, VA,WV\n",
        "Region 4: AL, FL, GA, KY, MS, NC, SC,TN\n",
        "Region 5: IL, IN, MI, MN, OH,WI\n",
        "Region 6: AR, LA, NM, OK, TX\n",
        "Region 7: IA,KS,MO,NE\n",
        "Region 8: CO, MT, ND, SD, UT, WY\n",
        "Region 9: AZ, CA, HI, NV\n",
        "Region 10: AK, ID, OR, WA\n",
        "\n",
        "state - 거주 상태\n",
        "'''"
      ],
      "execution_count": null,
      "outputs": []
    },
    {
      "cell_type": "code",
      "metadata": {
        "id": "y7LmZCnjzt2d"
      },
      "source": [
        "# !pip install category_encoders\n",
        "# !pip install pandas-profiling==2.11.0"
      ],
      "execution_count": null,
      "outputs": []
    },
    {
      "cell_type": "code",
      "metadata": {
        "id": "5mMaeYOb4dAq"
      },
      "source": [
        "# !pip uninstall h5py\n",
        "# !pip install h5py==2.10.0"
      ],
      "execution_count": null,
      "outputs": []
    },
    {
      "cell_type": "code",
      "metadata": {
        "id": "k82xx0es44AD"
      },
      "source": [
        "# !PyJWT==1.7.1"
      ],
      "execution_count": null,
      "outputs": []
    },
    {
      "cell_type": "code",
      "metadata": {
        "id": "Snpm3ac_5fjf"
      },
      "source": [
        "# !pip install scikit-learn  -U\n",
        "# 최종 'str' object has no attribute 'decode' 에러 해결"
      ],
      "execution_count": null,
      "outputs": []
    },
    {
      "cell_type": "code",
      "metadata": {
        "id": "u_1P1_SE0PXa"
      },
      "source": [
        "import pandas as pd\n",
        "from sklearn.model_selection import train_test_split\n",
        "\n",
        "target = 'vacc_h1n1_f'\n",
        "\n",
        "train = pd.merge(pd.read_csv('train.csv'), \n",
        "                 pd.read_csv('train_labels.csv')[target], left_index=True, right_index=True)\n",
        "test = pd.read_csv('test.csv')\n",
        "sample_submission = pd.read_csv('submission.csv')"
      ],
      "execution_count": null,
      "outputs": []
    },
    {
      "cell_type": "code",
      "metadata": {
        "id": "LXasiune0q90"
      },
      "source": [
        "# 몇몇 데이터 확인 과정은 이전 n221 어사인먼트에 있으니 생략"
      ],
      "execution_count": null,
      "outputs": []
    },
    {
      "cell_type": "code",
      "metadata": {
        "colab": {
          "base_uri": "https://localhost:8080/"
        },
        "id": "YbIgMAVq00bB",
        "outputId": "26dde7c2-c691-4e12-a704-cc1be06ac038"
      },
      "source": [
        "# 이번엔 8:2와 75:25 비교해보기\n",
        "train, val = train_test_split(train, train_size=0.80, test_size=0.20, stratify=train[target], random_state=2)\n",
        "# train, val = train_test_split(train, stratify=train[target], random_state=2)\n",
        "\n",
        "train.shape, val.shape, test.shape"
      ],
      "execution_count": null,
      "outputs": [
        {
          "output_type": "execute_result",
          "data": {
            "text/plain": [
              "((33723, 39), (8431, 39), (28104, 38))"
            ]
          },
          "metadata": {
            "tags": []
          },
          "execution_count": 131
        }
      ]
    },
    {
      "cell_type": "code",
      "metadata": {
        "colab": {
          "base_uri": "https://localhost:8080/"
        },
        "id": "IN4I7lTl1BGO",
        "outputId": "8f91c510-dead-4878-e047-fd643643ace0"
      },
      "source": [
        "train[target].value_counts(normalize=True)\n",
        "# 기준모델 : 0.76"
      ],
      "execution_count": null,
      "outputs": [
        {
          "output_type": "execute_result",
          "data": {
            "text/plain": [
              "0    0.760935\n",
              "1    0.239065\n",
              "Name: vacc_h1n1_f, dtype: float64"
            ]
          },
          "metadata": {
            "tags": []
          },
          "execution_count": 132
        }
      ]
    },
    {
      "cell_type": "code",
      "metadata": {
        "id": "f82QuyO91Iqs"
      },
      "source": [
        "import numpy as np\n",
        "\n",
        "def engineer(df):\n",
        "    # # 새로운 특성을 생성\n",
        "    # behaviorals = [col for col in df.columns if 'behavioral' in col] \n",
        "    # df['behaviorals'] = df[behaviorals].sum(axis=1)\n",
        "    \n",
        "    #의사소견\n",
        "    df['doctor'] = df['doctor_recc_h1n1'] + df['doctor_recc_seasonal'] \n",
        "    \n",
        "    #경각심\n",
        "    df['mind'] = df['health_worker'] + df['h1n1_knowledge'] + df['h1n1_concern']\n",
        "\n",
        "    # dels = [col for col in df.columns if ('employment' in col or 'seas' in col)]\n",
        "    # df.drop(columns=dels, inplace=True)\n",
        "        \n",
        "    # 높은 카디널리티를 가지는 특성을 제거합니다.-> 제거하지 않고 원핫인코딩해보기\n",
        "    # selected_cols = df.select_dtypes(include=['number', 'object'])\n",
        "    # labels = selected_cols.nunique() # 특성별 카디널리티 리스트\n",
        "    # selected_features = labels[labels <= 30].index.tolist() # 카디널리티가 30보다 작은 특성만 선택합니다.\n",
        "    # df = df[selected_features]\n",
        "\n",
        "    # 순서형 데이터 직접 순서 지정\n",
        "    df['opinion_h1n1_vacc_effective']  =  pd.to_numeric(df['opinion_h1n1_vacc_effective'].replace(['Refused', 'Not At All Effective' ,'Not Very Effective' ,\"Dont Know\", 'Somewhat Effective', 'Very Effective'], [0, 1, 2, 3, 4, 5]))\n",
        "    df['opinion_h1n1_risk']  =  pd.to_numeric(df['opinion_h1n1_risk'].replace(['Refused', 'Very Low' ,'Somewhat Low' ,\"Dont Know\", 'Somewhat High', 'Very High'], [0, 1, 2, 3, 4, 5]))\n",
        "    df['opinion_h1n1_sick_from_vacc']  =  pd.to_numeric(df['opinion_h1n1_sick_from_vacc'].replace(['Refused', 'Not At All Worried' ,'Not Very Worried' ,\"Dont Know\", 'Somewhat Worried', 'Very Worried'], [0, 1, 2, 3, 4, 5]))\n",
        "    df['agegrp']  =  pd.to_numeric(df['agegrp'].replace(['6 Months - 9 Years', '10 - 17 Years', '18 - 34 Years', '35 - 44 Years', '45 - 54 Years', '55 - 64 Years', '65+ Years'], [1, 2, 3, 4, 5, 6, 7]))\n",
        "    df['census_msa']  =  pd.to_numeric(df['census_msa'].replace(['Non-MSA', 'MSA, Not Principle City', 'MSA, Principle City'], [1, 2, 3]))\n",
        "    df['rent_own_r'] = df['rent_own_r'].replace([77.0, 99.0], [1, 1])\n",
        "\n",
        "    behaviorals = [col for col in df.columns if 'behavioral' in col] \n",
        "    df['behaviorals'] = df[behaviorals].sum(axis=1)\n",
        "\n",
        "    opinion = [col for col in df.columns if 'opinion' in col] \n",
        "    df['opinion'] = df[opinion].sum(axis=1)\n",
        "    \n",
        "    # df = df.fillna(-1)\n",
        "    \n",
        "    dels = [col for col in df.columns if ('employment' in col or 'seas' in col)]\n",
        "    df.drop(columns=dels, inplace=True)\n",
        "    return df\n",
        "\n",
        "train = engineer(train)\n",
        "val = engineer(val)\n",
        "test = engineer(test)"
      ],
      "execution_count": null,
      "outputs": []
    },
    {
      "cell_type": "code",
      "metadata": {
        "id": "r_bI00763szS"
      },
      "source": [
        "features = train.drop(columns=[target]).columns\n",
        "\n",
        "X_train = train[features]\n",
        "y_train = train[target]\n",
        "X_val = val[features]\n",
        "y_val = val[target]\n",
        "X_test = test[features]"
      ],
      "execution_count": null,
      "outputs": []
    },
    {
      "cell_type": "code",
      "metadata": {
        "id": "MbwAN4Y234l2"
      },
      "source": [
        "from category_encoders import OneHotEncoder, OrdinalEncoder, TargetEncoder\n",
        "from sklearn.impute import SimpleImputer\n",
        "from sklearn.preprocessing import StandardScaler\n",
        "from sklearn.linear_model import LogisticRegression\n",
        "from sklearn.pipeline import make_pipeline\n",
        "import matplotlib.pyplot as plt\n",
        "from sklearn.metrics import f1_score\n",
        "from sklearn.ensemble import RandomForestClassifier\n",
        "from sklearn.model_selection import GridSearchCV\n",
        "from sklearn.model_selection import cross_val_score\n",
        "from sklearn.tree import DecisionTreeClassifier"
      ],
      "execution_count": null,
      "outputs": []
    },
    {
      "cell_type": "code",
      "metadata": {
        "colab": {
          "base_uri": "https://localhost:8080/"
        },
        "id": "AhpdO2XZ4A_M",
        "outputId": "f4307c7d-cd73-4c6e-ccb5-dd5ea8696bfc"
      },
      "source": [
        "# 로지스틱에서 확인\n",
        "pipe = make_pipeline(\n",
        "    OneHotEncoder(), \n",
        "    SimpleImputer(), \n",
        "    StandardScaler(), \n",
        "    LogisticRegression(n_jobs=-1)\n",
        ")\n",
        "pipe.fit(X_train, y_train)\n",
        "\n",
        "print('훈련 정확도: ', pipe.score(X_train, y_train))\n",
        "print('검증세트 정확도', pipe.score(X_val, y_val))\n",
        "y_pred = pipe.predict(X_test)\n",
        "pred = pipe.predict(X_val)\n",
        "print('f1 스코어',f1_score(y_val, pred))"
      ],
      "execution_count": null,
      "outputs": [
        {
          "output_type": "stream",
          "text": [
            "/usr/local/lib/python3.7/dist-packages/category_encoders/utils.py:21: FutureWarning: is_categorical is deprecated and will be removed in a future version.  Use is_categorical_dtype instead\n",
            "  elif pd.api.types.is_categorical(cols):\n"
          ],
          "name": "stderr"
        },
        {
          "output_type": "stream",
          "text": [
            "훈련 정확도:  0.8123832399252735\n",
            "검증세트 정확도 0.8173407662199027\n",
            "f1 스코어 0.5556837853433353\n"
          ],
          "name": "stdout"
        }
      ]
    },
    {
      "cell_type": "code",
      "metadata": {
        "id": "lrEfQONPbTCb"
      },
      "source": [
        "# 교차검증 테스트\n",
        "# pipe = make_pipeline(\n",
        "#     OneHotEncoder(), \n",
        "#     SimpleImputer(), \n",
        "#     StandardScaler(), \n",
        "#     LogisticRegression(n_jobs=-1)\n",
        "# )\n",
        "\n",
        "# k = 3\n",
        "\n",
        "# scores = cross_val_score(pipe, X_train, y_train, cv=k, \n",
        "#                          scoring='neg_mean_absolute_error')\n",
        "\n",
        "# print(f'MAE for {k} folds:', -scores)"
      ],
      "execution_count": null,
      "outputs": []
    },
    {
      "cell_type": "markdown",
      "metadata": {
        "id": "79vhERWwzt2e"
      },
      "source": [
        "### 2) 랜덤포레스트 모델을 적용한 후의 결과를 캐글에 제출하세요.\n",
        "- 랜덤포레스트를 적용하고 성능이 오히려 떨어졌을 수도 있습니다! 만약 그렇다면 이유를 본인 논리로 분석해 보세요.\n",
        "- **캐글 Leaderboard의 본인 Score를 과제 제출폼에 제출하세요.**"
      ]
    },
    {
      "cell_type": "code",
      "metadata": {
        "colab": {
          "base_uri": "https://localhost:8080/"
        },
        "id": "0vU6erO852SR",
        "outputId": "93574d3a-c411-4a38-8446-60c26814b742"
      },
      "source": [
        "pipe = make_pipeline(\n",
        "    OrdinalEncoder(), \n",
        "    SimpleImputer(), \n",
        "    RandomForestClassifier(random_state=10, n_jobs=-1, oob_score=True)\n",
        ")\n",
        "\n",
        "pipe.fit(X_train, y_train)\n",
        "print('훈련 정확도', pipe.score(X_train, y_train))\n",
        "print('검증 정확도', pipe.score(X_val, y_val))\n",
        "pred = pipe.predict(X_val)\n",
        "print('f1 스코어',f1_score(y_val, pred))"
      ],
      "execution_count": null,
      "outputs": [
        {
          "output_type": "stream",
          "text": [
            "훈련 정확도 0.9976870385197046\n",
            "검증 정확도 0.8267109476930375\n",
            "f1 스코어 0.5701676963812886\n"
          ],
          "name": "stdout"
        }
      ]
    },
    {
      "cell_type": "code",
      "metadata": {
        "colab": {
          "base_uri": "https://localhost:8080/"
        },
        "id": "0rHvnzJ6601s",
        "outputId": "c2be7fbb-f82d-4f20-c96d-ef5a93ba21e9"
      },
      "source": [
        "# Imputer strategy - median\n",
        "pipe = make_pipeline(\n",
        "    OrdinalEncoder(), \n",
        "    SimpleImputer(strategy='median'), \n",
        "    RandomForestClassifier(random_state=10, n_jobs=-1, oob_score=True)\n",
        ")\n",
        "\n",
        "pipe.fit(X_train, y_train)\n",
        "print('훈련 정확도', pipe.score(X_train, y_train))\n",
        "print('검증 정확도', pipe.score(X_val, y_val))\n",
        "pred = pipe.predict(X_val)\n",
        "print('f1 스코어',f1_score(y_val, pred))"
      ],
      "execution_count": null,
      "outputs": [
        {
          "output_type": "stream",
          "text": [
            "훈련 정확도 0.9956113038579011\n",
            "검증 정확도 0.8086822440991579\n",
            "f1 스코어 0.5217906907797214\n"
          ],
          "name": "stdout"
        }
      ]
    },
    {
      "cell_type": "code",
      "metadata": {
        "colab": {
          "base_uri": "https://localhost:8080/"
        },
        "id": "oVJgLAN661FR",
        "outputId": "f2e4416f-b3f1-441b-b266-b831c28998eb"
      },
      "source": [
        "# Imputer strategy - most_frequent\n",
        "pipe = make_pipeline(\n",
        "    OrdinalEncoder(), \n",
        "    SimpleImputer(strategy='most_frequent'), \n",
        "    RandomForestClassifier(random_state=10, n_jobs=-1, oob_score=True)\n",
        ")\n",
        "\n",
        "pipe.fit(X_train, y_train)\n",
        "print('훈련 정확도', pipe.score(X_train, y_train))\n",
        "print('검증 정확도', pipe.score(X_val, y_val))\n",
        "pred = pipe.predict(X_val)\n",
        "print('f1 스코어',f1_score(y_val, pred))"
      ],
      "execution_count": null,
      "outputs": [
        {
          "output_type": "stream",
          "text": [
            "훈련 정확도 0.9956113038579011\n",
            "검증 정확도 0.8078519748547028\n",
            "f1 스코어 0.5161290322580645\n"
          ],
          "name": "stdout"
        }
      ]
    },
    {
      "cell_type": "code",
      "metadata": {
        "id": "-D4v7eka7vwh"
      },
      "source": [
        "# 어젠 median의 성능이 제일 좋았는데, 지금은 mean값의 성능이 제일 좋다 "
      ],
      "execution_count": null,
      "outputs": []
    },
    {
      "cell_type": "code",
      "metadata": {
        "colab": {
          "base_uri": "https://localhost:8080/"
        },
        "id": "CXRD5qhhcEtM",
        "outputId": "91e622f3-645e-4604-a9e5-22f02ca18003"
      },
      "source": [
        "# 교차검증 테스트\n",
        "# pipe = make_pipeline(\n",
        "#     OrdinalEncoder(), \n",
        "#     SimpleImputer(), \n",
        "#     RandomForestClassifier(n_estimators=100, random_state=10, max_depth=20, oob_score=True, n_jobs=-1, criterion=\"gini\", min_samples_split=5, max_features=6)\n",
        "# )\n",
        "\n",
        "# k = 3\n",
        "\n",
        "# scores = cross_val_score(pipe, X_train, y_train, cv=k, \n",
        "#                          scoring='neg_mean_absolute_error')\n",
        "\n",
        "# print(f'MAE for {k} folds:', -scores)"
      ],
      "execution_count": null,
      "outputs": [
        {
          "output_type": "stream",
          "text": [
            "MAE for 3 folds: [0.17507339 0.17578507 0.17534027]\n"
          ],
          "name": "stdout"
        }
      ]
    },
    {
      "cell_type": "code",
      "metadata": {
        "id": "-WgI30h-olP3"
      },
      "source": [
        "# 라벨인코딩 -> 모델링이 너무 오래걸려서 안쓸래...\n",
        "# from sklearn.preprocessing import LabelEncoder, PolynomialFeatures\n",
        "\n",
        "# encoder = LabelEncoder()\n",
        "\n",
        "# def pre_na(df):\n",
        "#     cols = list(df.columns)\n",
        "\n",
        "#     for col in cols:\n",
        "#         if df[col].dtype == int or df[col].dtype == float:\n",
        "#             df[col].fillna(value = df[col].mean(), inplace = True)\n",
        "#         else:\n",
        "#             df[col].fillna(value = 'X', inplace = True)\n",
        "\n",
        "#         df[col] = encoder.fit_transform(df[col])\n",
        "\n",
        "#     return df\n",
        "\n",
        "# train = pre_na(train)\n",
        "# val = pre_na(val)\n",
        "# test = pre_na(test)"
      ],
      "execution_count": null,
      "outputs": []
    },
    {
      "cell_type": "code",
      "metadata": {
        "id": "EEwR8FbEmlha"
      },
      "source": [
        "# GridSearchCV 사용\n",
        "# param_grid = {\n",
        "#     'max_features' : ['sqrt', 0.25, 0.5],\n",
        "#     'n_estimators' : [10, 50, 100, 200, 300],\n",
        "#     # 'min_samples_split' : [10, 50, 100, 200, 300, 400, 500, 600, 700, 800, 900, 1000],\n",
        "#     'max_depth' : [10, 20, 30, None]\n",
        "# }\n",
        "\n",
        "# grid = GridSearchCV(RandomForestClassifier(n_jobs = -1), param_grid, cv = 5)\n",
        "# grid.fit(X_train, y_train)\n",
        "\n",
        "# print('best parameters : \\n', grid.best_params_)"
      ],
      "execution_count": null,
      "outputs": []
    },
    {
      "cell_type": "code",
      "metadata": {
        "id": "8iPuInb12mMK"
      },
      "source": [
        "# 그리드서치의 n_estimators = 200, max_depth = 10 , max_features = 0.25 사용"
      ],
      "execution_count": null,
      "outputs": []
    },
    {
      "cell_type": "code",
      "metadata": {
        "id": "TeT2Vs8kt4BP",
        "colab": {
          "base_uri": "https://localhost:8080/"
        },
        "outputId": "b467d4a2-17cf-4270-c575-9cd41ddd1d7c"
      },
      "source": [
        "pipe = make_pipeline(\n",
        "    SimpleImputer(),\n",
        "    RandomForestClassifier(n_jobs = -1, random_state = 10, n_estimators = 200, max_depth = 10 , max_features = 0.25, oob_score = True)\n",
        ")\n",
        "\n",
        "pipe.fit(X_train, y_train)\n",
        "print('훈련 정확도', pipe.score(X_train, y_train))\n",
        "print('검증 정확도', pipe.score(X_val, y_val))\n",
        "pred = pipe.predict(X_val)\n",
        "print('f1 스코어',f1_score(y_val, pred))"
      ],
      "execution_count": null,
      "outputs": [
        {
          "output_type": "stream",
          "text": [
            "훈련 정확도 0.856566734869377\n",
            "검증 정확도 0.8328786620804175\n",
            "f1 스코어 0.5736762481089259\n"
          ],
          "name": "stdout"
        }
      ]
    },
    {
      "cell_type": "code",
      "metadata": {
        "id": "htjakbzHDOrX"
      },
      "source": [
        "tpred = pipe.predict(X_test)\n",
        "submission = pd.read_csv('submission.csv')\n",
        "submission['vacc_h1n1_f'] = tpred\n",
        "submission.to_csv('submission.csv', index= False)"
      ],
      "execution_count": null,
      "outputs": []
    },
    {
      "cell_type": "markdown",
      "metadata": {
        "id": "jodzldt_zt2f"
      },
      "source": [
        "## 🔥 도전과제"
      ]
    },
    {
      "cell_type": "markdown",
      "metadata": {
        "id": "oSegc0KMzt2g"
      },
      "source": [
        "### 3) 수업에 사용하지 않은 다른 종류의 [category_encoders](http://contrib.scikit-learn.org/category_encoders/)을 적용해 보고 인코더에 대해 설명하세요\n"
      ]
    },
    {
      "cell_type": "code",
      "metadata": {
        "id": "rzqXJXrKAP1r",
        "colab": {
          "base_uri": "https://localhost:8080/"
        },
        "outputId": "3c6a83d4-79a1-4716-a11e-3843a4caa58c"
      },
      "source": [
        "# hashing encoder 사용\n",
        "from category_encoders import HashingEncoder\n",
        "pipe = make_pipeline(\n",
        "    HashingEncoder(),\n",
        "    SimpleImputer(), \n",
        "    RandomForestClassifier(n_jobs = -1, random_state = 10, n_estimators = 200, max_depth = 10 , max_features = 0.25, oob_score = True)\n",
        "  )\n",
        "\n",
        "pipe.fit(X_train, y_train)\n",
        "print('훈련 정확도', pipe.score(X_train, y_train))\n",
        "print('검증 정확도', pipe.score(X_val, y_val))\n",
        "pred = pipe.predict(X_val)\n",
        "print('f1 스코어',f1_score(y_val, pred))"
      ],
      "execution_count": null,
      "outputs": [
        {
          "output_type": "stream",
          "text": [
            "훈련 정확도 0.856566734869377\n",
            "검증 정확도 0.8328786620804175\n",
            "f1 스코어 0.5736762481089259\n"
          ],
          "name": "stdout"
        }
      ]
    },
    {
      "cell_type": "code",
      "metadata": {
        "colab": {
          "base_uri": "https://localhost:8080/"
        },
        "id": "6LfKESIfDDCt",
        "outputId": "4f02ac2c-7546-4e02-a49c-09ec730e3582"
      },
      "source": [
        "# 범주가 많은 state에만 적용해보기\n",
        "pipe = make_pipeline(\n",
        "    HashingEncoder(cols = ['state']),\n",
        "    OrdinalEncoder(),\n",
        "    SimpleImputer(),\n",
        "    RandomForestClassifier(n_jobs = -1, random_state = 10, n_estimators = 200, max_depth = 10 , max_features = 0.25, oob_score = True)\n",
        "  )\n",
        "\n",
        "pipe.fit(X_train, y_train)\n",
        "print('훈련 정확도', pipe.score(X_train, y_train))\n",
        "print('검증 정확도', pipe.score(X_val, y_val))\n",
        "pred = pipe.predict(X_val)\n",
        "print('f1 스코어',f1_score(y_val, pred))\n",
        "# 조금 오르네..."
      ],
      "execution_count": null,
      "outputs": [
        {
          "output_type": "stream",
          "text": [
            "/usr/local/lib/python3.7/dist-packages/category_encoders/utils.py:21: FutureWarning: is_categorical is deprecated and will be removed in a future version.  Use is_categorical_dtype instead\n",
            "  elif pd.api.types.is_categorical(cols):\n"
          ],
          "name": "stderr"
        },
        {
          "output_type": "stream",
          "text": [
            "훈련 정확도 0.8581680158941969\n",
            "검증 정확도 0.8314553433756375\n",
            "f1 스코어 0.5610132839048502\n"
          ],
          "name": "stdout"
        }
      ]
    },
    {
      "cell_type": "markdown",
      "metadata": {
        "id": "c8_RdHX6zt2h"
      },
      "source": [
        "## 참고자료\n",
        "\n",
        "- [Random Forests for Complete Beginners](https://victorzhou.com/blog/intro-to-random-forests/)"
      ]
    },
    {
      "cell_type": "code",
      "metadata": {
        "id": "YCb7A3Dm3yM6"
      },
      "source": [
        "# RandomForestClassifier 대신 RandomForestRegressor를 사용해서 threshold 지정으로 스코어 올려보기"
      ],
      "execution_count": null,
      "outputs": []
    },
    {
      "cell_type": "code",
      "metadata": {
        "colab": {
          "base_uri": "https://localhost:8080/"
        },
        "id": "pQWbsTeQqStR",
        "outputId": "b95d9fb1-0c30-4e8e-e35f-c79828a5a211"
      },
      "source": [
        "from sklearn.ensemble import RandomForestRegressor\n",
        "pipe = make_pipeline(\n",
        "    OneHotEncoder(cols = ['state']),\n",
        "    SimpleImputer(),\n",
        "    RandomForestRegressor(n_jobs = -1, random_state = 10, n_estimators = 100, max_depth = 10, max_features = 0.25, oob_score = True)\n",
        ")\n",
        "\n",
        "pipe.fit(X_train, y_train)\n",
        "print('훈련 정확도', pipe.score(X_train, y_train))\n",
        "print('검증 정확도', pipe.score(X_val, y_val))\n",
        "result = pipe.predict(X_val)\n",
        "result = np.where(result > 0.34, 1, 0)\n",
        "print('f1 스코어',f1_score(y_val, result))"
      ],
      "execution_count": null,
      "outputs": [
        {
          "output_type": "stream",
          "text": [
            "/usr/local/lib/python3.7/dist-packages/category_encoders/utils.py:21: FutureWarning: is_categorical is deprecated and will be removed in a future version.  Use is_categorical_dtype instead\n",
            "  elif pd.api.types.is_categorical(cols):\n"
          ],
          "name": "stderr"
        },
        {
          "output_type": "stream",
          "text": [
            "훈련 정확도 0.4144438905602855\n",
            "검증 정확도 0.33364762016367455\n",
            "f1 스코어 0.6341582945356531\n"
          ],
          "name": "stdout"
        }
      ]
    },
    {
      "cell_type": "code",
      "metadata": {
        "id": "YQU1epUi6QM9"
      },
      "source": [
        "# 세상에 제일 높다."
      ],
      "execution_count": null,
      "outputs": []
    },
    {
      "cell_type": "code",
      "metadata": {
        "id": "LqGaMRNblAuN"
      },
      "source": [
        "result = pipe.predict(X_test)\n",
        "result = np.where(result > 0.3, 1, 0)\n",
        "submission = pd.read_csv('submission.csv')\n",
        "submission['vacc_h1n1_f'] = result\n",
        "submission.to_csv('submission.csv', index= False)"
      ],
      "execution_count": null,
      "outputs": []
    }
  ]
}