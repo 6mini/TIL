{
  "nbformat": 4,
  "nbformat_minor": 0,
  "metadata": {
    "colab": {
      "name": "numpy eigenvalue, vector.ipynb",
      "private_outputs": true,
      "provenance": [],
      "authorship_tag": "ABX9TyP4d9yrpUvvFAMPM13/LLrg",
      "include_colab_link": true
    },
    "kernelspec": {
      "name": "python3",
      "display_name": "Python 3"
    },
    "language_info": {
      "name": "python"
    }
  },
  "cells": [
    {
      "cell_type": "markdown",
      "metadata": {
        "id": "view-in-github",
        "colab_type": "text"
      },
      "source": [
        "<a href=\"https://colab.research.google.com/github/6mini/TIL/blob/main/numpy_eigenvalue%2C_vector.ipynb\" target=\"_parent\"><img src=\"https://colab.research.google.com/assets/colab-badge.svg\" alt=\"Open In Colab\"/></a>"
      ]
    },
    {
      "cell_type": "markdown",
      "metadata": {
        "id": "kYkeHp1wUhsw"
      },
      "source": [
        "$\\begin{bmatrix} 4 & 2 \\\\ 2 & 4 \\end{bmatrix}$\n"
      ]
    },
    {
      "cell_type": "code",
      "metadata": {
        "id": "oKbcsnAXUYrq"
      },
      "source": [
        "import numpy as np\n",
        "\n",
        "eig = np.linalg.eig\n",
        "matrix = np.matrix\n",
        "testmatrix = matrix([[4, 2], [2, 4]])\n",
        "\n",
        "print(eig(testmatrix)) #Eigenvalue와 Eigenvector\n",
        "#(array([6., 2.]), matrix([[ 0.70710678, -0.70710678],\n",
        "#                          [ 0.70710678,  0.70710678]]))\n",
        "\n",
        "value = eig(testmatrix)[0] #Eigenvalue\n",
        "vector = eig(testmatrix)[1] #Eigenvector\n",
        "\n",
        "print('Eigenvalue :', value)\n",
        "print('Eigenvector :', vector)\n",
        "# Eigenvalue : [6. 2.]\n",
        "# Eigenvector : [[ 0.70710678 -0.70710678]\n",
        "#                [ 0.70710678  0.70710678]]"
      ],
      "execution_count": null,
      "outputs": []
    },
    {
      "cell_type": "markdown",
      "metadata": {
        "id": "mAaFeb-XUlYG"
      },
      "source": [
        "- 선형변환 매트릭스에 대한 고윳값는 6과 2이다.\n",
        "- 바꿔 말하면, 선형 변환을 했을 때 그 크기는 변하고 방향이 변하지 않는 벡터가 있다고 할 때, 그 벡터의 크기는 각각 2배와 6배가 된다는 의미"
      ]
    }
  ]
}