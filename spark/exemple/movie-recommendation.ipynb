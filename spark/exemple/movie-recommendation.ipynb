{
 "cells": [
  {
   "cell_type": "code",
   "execution_count": 1,
   "id": "a6f15ffe",
   "metadata": {},
   "outputs": [],
   "source": [
    "from pyspark.sql import SparkSession"
   ]
  },
  {
   "cell_type": "code",
   "execution_count": 2,
   "id": "8f8754a7",
   "metadata": {},
   "outputs": [
    {
     "name": "stderr",
     "output_type": "stream",
     "text": [
      "21/12/16 01:50:41 WARN Utils: Your hostname, 6miniui-MacBook-Pro.local resolves to a loopback address: 127.0.0.1; using 192.168.200.112 instead (on interface en0)\n",
      "21/12/16 01:50:41 WARN Utils: Set SPARK_LOCAL_IP if you need to bind to another address\n",
      "Using Spark's default log4j profile: org/apache/spark/log4j-defaults.properties\n",
      "Setting default log level to \"WARN\".\n",
      "To adjust logging level use sc.setLogLevel(newLevel). For SparkR, use setLogLevel(newLevel).\n",
      "21/12/16 01:50:42 WARN NativeCodeLoader: Unable to load native-hadoop library for your platform... using builtin-java classes where applicable\n"
     ]
    }
   ],
   "source": [
    "# Out of Memory 시 지정\n",
    "MAX_MEMORY = \"5g\"\n",
    "spark = SparkSession.builder.appName(\"movie-recommendation\")\\\n",
    "    .config(\"spark.executor.memory\", MAX_MEMORY)\\\n",
    "    .config(\"spark.driver.memory\", MAX_MEMORY)\\\n",
    "    .getOrCreate()"
   ]
  },
  {
   "cell_type": "code",
   "execution_count": 3,
   "id": "e5891199",
   "metadata": {},
   "outputs": [
    {
     "name": "stderr",
     "output_type": "stream",
     "text": [
      "                                                                                \r"
     ]
    }
   ],
   "source": [
    "# 레이팅스 데이터 프레임 생성\n",
    "ratings_df = spark.read.csv(\"/Users/6mini/ml-25m/ratings.csv\", inferSchema=True, header=True)"
   ]
  },
  {
   "cell_type": "code",
   "execution_count": 4,
   "id": "49bb909b",
   "metadata": {},
   "outputs": [
    {
     "name": "stdout",
     "output_type": "stream",
     "text": [
      "+------+-------+------+----------+\n",
      "|userId|movieId|rating| timestamp|\n",
      "+------+-------+------+----------+\n",
      "|     1|    296|   5.0|1147880044|\n",
      "|     1|    306|   3.5|1147868817|\n",
      "|     1|    307|   5.0|1147868828|\n",
      "|     1|    665|   5.0|1147878820|\n",
      "|     1|    899|   3.5|1147868510|\n",
      "|     1|   1088|   4.0|1147868495|\n",
      "|     1|   1175|   3.5|1147868826|\n",
      "|     1|   1217|   3.5|1147878326|\n",
      "|     1|   1237|   5.0|1147868839|\n",
      "|     1|   1250|   4.0|1147868414|\n",
      "|     1|   1260|   3.5|1147877857|\n",
      "|     1|   1653|   4.0|1147868097|\n",
      "|     1|   2011|   2.5|1147868079|\n",
      "|     1|   2012|   2.5|1147868068|\n",
      "|     1|   2068|   2.5|1147869044|\n",
      "|     1|   2161|   3.5|1147868609|\n",
      "|     1|   2351|   4.5|1147877957|\n",
      "|     1|   2573|   4.0|1147878923|\n",
      "|     1|   2632|   5.0|1147878248|\n",
      "|     1|   2692|   5.0|1147869100|\n",
      "+------+-------+------+----------+\n",
      "only showing top 20 rows\n",
      "\n"
     ]
    }
   ],
   "source": [
    "ratings_df.show()"
   ]
  },
  {
   "cell_type": "code",
   "execution_count": 5,
   "id": "d905aec3",
   "metadata": {},
   "outputs": [],
   "source": [
    "# 타임 스탬프 컬럼은 지운다.\n",
    "ratings_df = ratings_df.select([\"userId\", \"movieId\", \"rating\"])"
   ]
  },
  {
   "cell_type": "code",
   "execution_count": 6,
   "id": "13568d5a",
   "metadata": {},
   "outputs": [
    {
     "name": "stdout",
     "output_type": "stream",
     "text": [
      "root\n",
      " |-- userId: integer (nullable = true)\n",
      " |-- movieId: integer (nullable = true)\n",
      " |-- rating: double (nullable = true)\n",
      "\n"
     ]
    }
   ],
   "source": [
    "ratings_df.printSchema()"
   ]
  },
  {
   "cell_type": "code",
   "execution_count": 7,
   "id": "9c426807",
   "metadata": {},
   "outputs": [
    {
     "name": "stderr",
     "output_type": "stream",
     "text": [
      "[Stage 3:===================>                                      (4 + 8) / 12]\r"
     ]
    },
    {
     "name": "stdout",
     "output_type": "stream",
     "text": [
      "+-------+------------------+\n",
      "|summary|            rating|\n",
      "+-------+------------------+\n",
      "|  count|          25000095|\n",
      "|   mean| 3.533854451353085|\n",
      "| stddev|1.0607439611423535|\n",
      "|    min|               0.5|\n",
      "|    max|               5.0|\n",
      "+-------+------------------+\n",
      "\n"
     ]
    },
    {
     "name": "stderr",
     "output_type": "stream",
     "text": [
      "                                                                                \r"
     ]
    }
   ],
   "source": [
    "# 레이팅의 통계를 내본다.\n",
    "ratings_df.select(\"rating\").describe().show()"
   ]
  },
  {
   "cell_type": "code",
   "execution_count": 8,
   "id": "e0eb4a8c",
   "metadata": {},
   "outputs": [],
   "source": [
    "# 트레인 테스트셋 분리\n",
    "train_df, test_df = ratings_df.randomSplit([0.8, 0.2])"
   ]
  },
  {
   "cell_type": "code",
   "execution_count": 9,
   "id": "67ed0cd9",
   "metadata": {},
   "outputs": [],
   "source": [
    "from pyspark.ml.recommendation import ALS"
   ]
  },
  {
   "cell_type": "code",
   "execution_count": 10,
   "id": "991d9b51",
   "metadata": {},
   "outputs": [],
   "source": [
    "# ALS 이용 모델링\n",
    "als = ALS(\n",
    "    maxIter=5, # 반복 횟수\n",
    "    regParam=0.1,\n",
    "    userCol=\"userId\",\n",
    "    itemCol=\"movieId\",\n",
    "    ratingCol=\"rating\",\n",
    "    coldStartStrategy=\"drop\" # 학습되지 못한 데이터의 처리 방법\n",
    ")"
   ]
  },
  {
   "cell_type": "code",
   "execution_count": 11,
   "id": "fb149194",
   "metadata": {},
   "outputs": [
    {
     "name": "stderr",
     "output_type": "stream",
     "text": [
      "21/12/16 01:55:48 WARN InstanceBuilder$NativeBLAS: Failed to load implementation from:dev.ludovic.netlib.blas.JNIBLAS\n",
      "21/12/16 01:55:48 WARN InstanceBuilder$NativeBLAS: Failed to load implementation from:dev.ludovic.netlib.blas.ForeignLinkerBLAS\n",
      "21/12/16 01:55:49 WARN InstanceBuilder$NativeLAPACK: Failed to load implementation from:dev.ludovic.netlib.lapack.JNILAPACK\n",
      "                                                                                \r"
     ]
    }
   ],
   "source": [
    "# 학습\n",
    "model = als.fit(train_df)"
   ]
  },
  {
   "cell_type": "code",
   "execution_count": 12,
   "id": "6512ffa6",
   "metadata": {},
   "outputs": [],
   "source": [
    "# 예측\n",
    "predictions = model.transform(test_df)"
   ]
  },
  {
   "cell_type": "code",
   "execution_count": 13,
   "id": "a0818a45",
   "metadata": {},
   "outputs": [
    {
     "name": "stderr",
     "output_type": "stream",
     "text": [
      "                                                                                \r"
     ]
    },
    {
     "name": "stdout",
     "output_type": "stream",
     "text": [
      "+------+-------+------+----------+\n",
      "|userId|movieId|rating|prediction|\n",
      "+------+-------+------+----------+\n",
      "|   321|   3175|   3.0| 3.2872846|\n",
      "|   321|   6620|   3.5| 3.6733642|\n",
      "|   322|    463|   3.0|  3.269444|\n",
      "|   368|   1580|   3.5| 3.6708436|\n",
      "|   368|  54190|   4.0| 3.4968219|\n",
      "|   375|   1580|   2.5|  3.421627|\n",
      "|   458|   1580|   3.5| 3.1025493|\n",
      "|   497|   2366|   4.0| 3.8671935|\n",
      "|   588|   1580|   2.5| 2.6639755|\n",
      "|   596|   1580|   3.0| 3.5359857|\n",
      "|   597|   1088|   3.0| 3.2686214|\n",
      "|   597|   1580|   4.0| 3.6997573|\n",
      "|   597|   3997|   1.0| 1.9885403|\n",
      "|   613|   1645|   4.0| 3.7589316|\n",
      "|   756|  44022|   3.5|  3.107243|\n",
      "|   847|   4818|   0.5| 1.4983841|\n",
      "|   847|   7833|   3.0| 3.6151803|\n",
      "|   847|  96488|   4.0| 3.8599513|\n",
      "|   847| 180981|   3.5| 3.4091368|\n",
      "|   879|  68135|   5.0| 4.4257684|\n",
      "+------+-------+------+----------+\n",
      "only showing top 20 rows\n",
      "\n"
     ]
    }
   ],
   "source": [
    "predictions.show()\n",
    "# 생각보다 잘 맞춘 것 같다."
   ]
  },
  {
   "cell_type": "code",
   "execution_count": 14,
   "id": "aff62bb7",
   "metadata": {},
   "outputs": [
    {
     "name": "stderr",
     "output_type": "stream",
     "text": [
      "[Stage 129:======================================>                 (9 + 4) / 13]\r"
     ]
    },
    {
     "name": "stdout",
     "output_type": "stream",
     "text": [
      "+-------+-----------------+------------------+\n",
      "|summary|           rating|        prediction|\n",
      "+-------+-----------------+------------------+\n",
      "|  count|          4997993|           4997993|\n",
      "|   mean|3.533390903108508| 3.423480612159125|\n",
      "| stddev|1.060723007511501|0.6444551403360655|\n",
      "|    min|              0.5|        -1.6993694|\n",
      "|    max|              5.0|         6.4476376|\n",
      "+-------+-----------------+------------------+\n",
      "\n"
     ]
    },
    {
     "name": "stderr",
     "output_type": "stream",
     "text": [
      "                                                                                \r"
     ]
    }
   ],
   "source": [
    "# 예측값과 실제값의 통계를 확인한다.\n",
    "predictions.select('rating', 'prediction').describe().show()\n",
    "# "
   ]
  },
  {
   "cell_type": "code",
   "execution_count": 15,
   "id": "595399d0",
   "metadata": {},
   "outputs": [],
   "source": [
    "# rmse로 이밸류에이션을 진행한다.\n",
    "from pyspark.ml.evaluation import RegressionEvaluator\n",
    "\n",
    "evaluator = RegressionEvaluator(metricName=\"rmse\", labelCol='rating', predictionCol='prediction')"
   ]
  },
  {
   "cell_type": "code",
   "execution_count": 16,
   "id": "0dc8c946",
   "metadata": {},
   "outputs": [
    {
     "name": "stderr",
     "output_type": "stream",
     "text": [
      "                                                                                \r"
     ]
    }
   ],
   "source": [
    "rmse = evaluator.evaluate(predictions)"
   ]
  },
  {
   "cell_type": "code",
   "execution_count": 17,
   "id": "ec5f0386",
   "metadata": {},
   "outputs": [
    {
     "name": "stdout",
     "output_type": "stream",
     "text": [
      "0.8087562307490825\n"
     ]
    }
   ],
   "source": [
    "print(rmse)"
   ]
  },
  {
   "cell_type": "code",
   "execution_count": 18,
   "id": "7fe2130a",
   "metadata": {},
   "outputs": [
    {
     "name": "stderr",
     "output_type": "stream",
     "text": [
      "/Users/6mini/opt/anaconda3/envs/spark-flink/lib/python3.8/site-packages/pyspark/sql/context.py:125: FutureWarning: Deprecated in 3.0.0. Use SparkSession.builder.getOrCreate() instead.\n",
      "  warnings.warn(\n",
      "[Stage 201:=====================================================>(99 + 1) / 100]\r"
     ]
    },
    {
     "name": "stdout",
     "output_type": "stream",
     "text": [
      "+------+--------------------+\n",
      "|userId|     recommendations|\n",
      "+------+--------------------+\n",
      "|    28|[{194434, 7.50267...|\n",
      "|    31|[{203882, 3.97501...|\n",
      "|    34|[{194434, 5.53526...|\n",
      "|    53|[{192089, 6.53624...|\n",
      "|    65|[{194434, 6.70630...|\n",
      "|    78|[{203882, 6.70107...|\n",
      "|    81|[{192689, 5.35233...|\n",
      "|    85|[{203086, 5.54420...|\n",
      "|   101|[{203882, 5.29644...|\n",
      "|   108|[{194434, 5.46318...|\n",
      "|   115|[{203882, 6.33117...|\n",
      "|   126|[{203086, 6.45976...|\n",
      "|   133|[{203086, 5.32927...|\n",
      "|   137|[{203086, 5.65758...|\n",
      "|   148|[{194434, 5.89812...|\n",
      "|   155|[{194434, 5.75075...|\n",
      "|   183|[{194434, 5.71291...|\n",
      "|   193|[{183947, 5.34912...|\n",
      "|   210|[{126941, 7.52532...|\n",
      "|   211|[{203086, 6.51664...|\n",
      "+------+--------------------+\n",
      "only showing top 20 rows\n",
      "\n"
     ]
    },
    {
     "name": "stderr",
     "output_type": "stream",
     "text": [
      "                                                                                \r"
     ]
    }
   ],
   "source": [
    "# 레코멘데이션을 직접 뽑아본다.\n",
    "# 유저마다 탑 3개의 아이템을 추천한다.\n",
    "model.recommendForAllUsers(3).show()"
   ]
  },
  {
   "cell_type": "code",
   "execution_count": 19,
   "id": "c631d5c6",
   "metadata": {},
   "outputs": [
    {
     "name": "stderr",
     "output_type": "stream",
     "text": [
      "/Users/6mini/opt/anaconda3/envs/spark-flink/lib/python3.8/site-packages/pyspark/sql/context.py:125: FutureWarning: Deprecated in 3.0.0. Use SparkSession.builder.getOrCreate() instead.\n",
      "  warnings.warn(\n",
      "[Stage 230:====================================================> (98 + 2) / 100]\r"
     ]
    },
    {
     "name": "stdout",
     "output_type": "stream",
     "text": [
      "+-------+--------------------+\n",
      "|movieId|     recommendations|\n",
      "+-------+--------------------+\n",
      "|     28|[{105801, 5.53363...|\n",
      "|     31|[{87426, 5.40749}...|\n",
      "|     34|[{128562, 5.47395...|\n",
      "|     53|[{7552, 5.1105866...|\n",
      "|     65|[{87426, 5.288509...|\n",
      "|     78|[{142811, 4.78454...|\n",
      "|     81|[{105946, 4.77834...|\n",
      "|     85|[{160416, 4.85580...|\n",
      "|    101|[{57450, 4.929262...|\n",
      "|    108|[{34485, 6.031539...|\n",
      "|    115|[{142811, 5.85976...|\n",
      "|    126|[{87426, 4.779694...|\n",
      "|    133|[{142811, 5.69091...|\n",
      "|    137|[{142811, 5.29639...|\n",
      "|    148|[{160416, 4.21056...|\n",
      "|    155|[{10417, 5.080611...|\n",
      "|    183|[{10417, 5.191336...|\n",
      "|    193|[{87426, 5.088001...|\n",
      "|    210|[{87426, 4.919769...|\n",
      "|    211|[{105801, 5.12127...|\n",
      "+-------+--------------------+\n",
      "only showing top 20 rows\n",
      "\n"
     ]
    },
    {
     "name": "stderr",
     "output_type": "stream",
     "text": [
      "                                                                                \r"
     ]
    }
   ],
   "source": [
    "# 아이템마다 탑 3개의 유저를 추천한다.\n",
    "model.recommendForAllItems(3).show()\n",
    "# 영화마다 유저를 추천해준다."
   ]
  },
  {
   "cell_type": "code",
   "execution_count": 20,
   "id": "f972dfc7",
   "metadata": {},
   "outputs": [
    {
     "name": "stderr",
     "output_type": "stream",
     "text": [
      "                                                                                \r"
     ]
    },
    {
     "name": "stdout",
     "output_type": "stream",
     "text": [
      "+------+\n",
      "|userId|\n",
      "+------+\n",
      "|    65|\n",
      "|    78|\n",
      "|    81|\n",
      "+------+\n",
      "\n"
     ]
    }
   ],
   "source": [
    "# 실제 서비스에 이렇게 쓰이지 않는다 API로 특정 유저를 위한 추천을 불러오게 만들 것이다.\n",
    "from pyspark.sql.types import IntegerType\n",
    "\n",
    "user_list = [65, 78, 81]\n",
    "# 데이터 프레임 생성\n",
    "users_df = spark.createDataFrame(user_list, IntegerType()).toDF('userId')\n",
    "\n",
    "users_df.show()"
   ]
  },
  {
   "cell_type": "code",
   "execution_count": null,
   "id": "e0e91f96",
   "metadata": {},
   "outputs": [],
   "source": [
    "# 위 데이터 프레임을 모델 추천에 넣어주면 된다.\n",
    "user_recs = model.recommendForUserSubset(users_df, 5)\n",
    "# 유저마다 레코멘테이션이 5개씩 전시된다.\n",
    "user_recs.collect()"
   ]
  },
  {
   "cell_type": "code",
   "execution_count": 22,
   "id": "70360cbf",
   "metadata": {},
   "outputs": [
    {
     "name": "stderr",
     "output_type": "stream",
     "text": [
      "                                                                                \r"
     ]
    }
   ],
   "source": [
    "# 이름으로 바꾸기 위해 리스트를 만든다.\n",
    "# 첫번째 값만 꺼내온다.\n",
    "movies_list = user_recs.collect()[0].recommendations"
   ]
  },
  {
   "cell_type": "code",
   "execution_count": 23,
   "id": "548632fc",
   "metadata": {},
   "outputs": [
    {
     "name": "stdout",
     "output_type": "stream",
     "text": [
      "+-------+------------------+\n",
      "|movieId|            rating|\n",
      "+-------+------------------+\n",
      "| 194434|  6.70630407333374|\n",
      "| 126941| 6.530391216278076|\n",
      "| 203882|   6.5257887840271|\n",
      "| 203086| 6.447256088256836|\n",
      "| 205453|6.0838799476623535|\n",
      "+-------+------------------+\n",
      "\n"
     ]
    }
   ],
   "source": [
    "# 리스트 데이터를 스파크 데이터 프레임으로 변경한다.\n",
    "recs_df = spark.createDataFrame(movies_list)\n",
    "recs_df.show()\n"
   ]
  },
  {
   "cell_type": "code",
   "execution_count": 24,
   "id": "dfbe7b20",
   "metadata": {},
   "outputs": [],
   "source": [
    "# 무비 id를 이름으로 변경하기 위한 데이터를 로드한다.\n",
    "movies_df = spark.read.csv(\"/Users/6mini/ml-25m/movies.csv\", inferSchema=True, header=True)"
   ]
  },
  {
   "cell_type": "code",
   "execution_count": 25,
   "id": "b80a6765",
   "metadata": {},
   "outputs": [
    {
     "name": "stdout",
     "output_type": "stream",
     "text": [
      "+-------+--------------------+--------------------+\n",
      "|movieId|               title|              genres|\n",
      "+-------+--------------------+--------------------+\n",
      "|      1|    Toy Story (1995)|Adventure|Animati...|\n",
      "|      2|      Jumanji (1995)|Adventure|Childre...|\n",
      "|      3|Grumpier Old Men ...|      Comedy|Romance|\n",
      "|      4|Waiting to Exhale...|Comedy|Drama|Romance|\n",
      "|      5|Father of the Bri...|              Comedy|\n",
      "|      6|         Heat (1995)|Action|Crime|Thri...|\n",
      "|      7|      Sabrina (1995)|      Comedy|Romance|\n",
      "|      8| Tom and Huck (1995)|  Adventure|Children|\n",
      "|      9| Sudden Death (1995)|              Action|\n",
      "|     10|    GoldenEye (1995)|Action|Adventure|...|\n",
      "|     11|American Presiden...|Comedy|Drama|Romance|\n",
      "|     12|Dracula: Dead and...|       Comedy|Horror|\n",
      "|     13|        Balto (1995)|Adventure|Animati...|\n",
      "|     14|        Nixon (1995)|               Drama|\n",
      "|     15|Cutthroat Island ...|Action|Adventure|...|\n",
      "|     16|       Casino (1995)|         Crime|Drama|\n",
      "|     17|Sense and Sensibi...|       Drama|Romance|\n",
      "|     18|   Four Rooms (1995)|              Comedy|\n",
      "|     19|Ace Ventura: When...|              Comedy|\n",
      "|     20|  Money Train (1995)|Action|Comedy|Cri...|\n",
      "+-------+--------------------+--------------------+\n",
      "only showing top 20 rows\n",
      "\n"
     ]
    }
   ],
   "source": [
    "movies_df.show()"
   ]
  },
  {
   "cell_type": "code",
   "execution_count": 26,
   "id": "48f54a35",
   "metadata": {},
   "outputs": [],
   "source": [
    "# SQL로 조인하기 위해 TempView에 담는다.\n",
    "recs_df.createOrReplaceTempView(\"recommendations\")\n",
    "movies_df.createOrReplaceTempView(\"movies\")"
   ]
  },
  {
   "cell_type": "code",
   "execution_count": 27,
   "id": "572d3752",
   "metadata": {},
   "outputs": [
    {
     "name": "stdout",
     "output_type": "stream",
     "text": [
      "+-------+--------------------+------------------+-------+------------------+\n",
      "|movieId|               title|            genres|movieId|            rating|\n",
      "+-------+--------------------+------------------+-------+------------------+\n",
      "| 194434|   Adrenaline (1990)|(no genres listed)| 194434|  6.70630407333374|\n",
      "| 126941|Joni's Promise (2...|            Comedy| 126941| 6.530391216278076|\n",
      "| 203882|Dead in the Water...|            Horror| 203882|   6.5257887840271|\n",
      "| 203086|Truth and Justice...|             Drama| 203086| 6.447256088256836|\n",
      "| 205453|The Good Fight: T...|       Documentary| 205453|6.0838799476623535|\n",
      "+-------+--------------------+------------------+-------+------------------+\n",
      "\n"
     ]
    }
   ],
   "source": [
    "query = \"\"\"\n",
    "SELECT *\n",
    "FROM\n",
    "    movies JOIN recommendations\n",
    "    ON movies.movieId = recommendations.movieId\n",
    "ORDER BY\n",
    "    rating desc\n",
    "\"\"\"\n",
    "recommended_movies = spark.sql(query)\n",
    "recommended_movies.show()"
   ]
  },
  {
   "cell_type": "code",
   "execution_count": 28,
   "id": "8597a8c7",
   "metadata": {},
   "outputs": [],
   "source": [
    "# 실제 서비스할 때 하나의 함수로 사용하면 좋으니, 서빙하는 함수를 생성해본다.\n",
    "def get_recommendations(user_id, num_recs): # 유저 아이디와 추천 수\n",
    "    users_df = spark.createDataFrame([user_id], IntegerType()).toDF('userId')\n",
    "    user_recs_df = model.recommendForUserSubset(users_df, num_recs)\n",
    "    \n",
    "    recs_list = user_recs_df.collect()[0].recommendations\n",
    "    recs_df = spark.createDataFrame(recs_list)\n",
    "    recommended_movies = spark.sql(query)\n",
    "    return recommended_movies"
   ]
  },
  {
   "cell_type": "code",
   "execution_count": 29,
   "id": "ae62aacf",
   "metadata": {},
   "outputs": [
    {
     "name": "stderr",
     "output_type": "stream",
     "text": [
      "/Users/6mini/opt/anaconda3/envs/spark-flink/lib/python3.8/site-packages/pyspark/sql/context.py:125: FutureWarning: Deprecated in 3.0.0. Use SparkSession.builder.getOrCreate() instead.\n",
      "  warnings.warn(\n",
      "                                                                                \r"
     ]
    }
   ],
   "source": [
    "recs = get_recommendations(456, 10)"
   ]
  },
  {
   "cell_type": "code",
   "execution_count": 30,
   "id": "cf8140ed",
   "metadata": {},
   "outputs": [
    {
     "data": {
      "text/html": [
       "<div>\n",
       "<style scoped>\n",
       "    .dataframe tbody tr th:only-of-type {\n",
       "        vertical-align: middle;\n",
       "    }\n",
       "\n",
       "    .dataframe tbody tr th {\n",
       "        vertical-align: top;\n",
       "    }\n",
       "\n",
       "    .dataframe thead th {\n",
       "        text-align: right;\n",
       "    }\n",
       "</style>\n",
       "<table border=\"1\" class=\"dataframe\">\n",
       "  <thead>\n",
       "    <tr style=\"text-align: right;\">\n",
       "      <th></th>\n",
       "      <th>movieId</th>\n",
       "      <th>title</th>\n",
       "      <th>genres</th>\n",
       "      <th>movieId</th>\n",
       "      <th>rating</th>\n",
       "    </tr>\n",
       "  </thead>\n",
       "  <tbody>\n",
       "    <tr>\n",
       "      <th>0</th>\n",
       "      <td>194434</td>\n",
       "      <td>Adrenaline (1990)</td>\n",
       "      <td>(no genres listed)</td>\n",
       "      <td>194434</td>\n",
       "      <td>6.706304</td>\n",
       "    </tr>\n",
       "    <tr>\n",
       "      <th>1</th>\n",
       "      <td>126941</td>\n",
       "      <td>Joni's Promise (2005)</td>\n",
       "      <td>Comedy</td>\n",
       "      <td>126941</td>\n",
       "      <td>6.530391</td>\n",
       "    </tr>\n",
       "    <tr>\n",
       "      <th>2</th>\n",
       "      <td>203882</td>\n",
       "      <td>Dead in the Water (2006)</td>\n",
       "      <td>Horror</td>\n",
       "      <td>203882</td>\n",
       "      <td>6.525789</td>\n",
       "    </tr>\n",
       "    <tr>\n",
       "      <th>3</th>\n",
       "      <td>203086</td>\n",
       "      <td>Truth and Justice (2019)</td>\n",
       "      <td>Drama</td>\n",
       "      <td>203086</td>\n",
       "      <td>6.447256</td>\n",
       "    </tr>\n",
       "    <tr>\n",
       "      <th>4</th>\n",
       "      <td>205453</td>\n",
       "      <td>The Good Fight: The Abraham Lincoln Brigade in...</td>\n",
       "      <td>Documentary</td>\n",
       "      <td>205453</td>\n",
       "      <td>6.083880</td>\n",
       "    </tr>\n",
       "  </tbody>\n",
       "</table>\n",
       "</div>"
      ],
      "text/plain": [
       "   movieId                                              title  \\\n",
       "0   194434                                  Adrenaline (1990)   \n",
       "1   126941                              Joni's Promise (2005)   \n",
       "2   203882                           Dead in the Water (2006)   \n",
       "3   203086                           Truth and Justice (2019)   \n",
       "4   205453  The Good Fight: The Abraham Lincoln Brigade in...   \n",
       "\n",
       "               genres  movieId    rating  \n",
       "0  (no genres listed)   194434  6.706304  \n",
       "1              Comedy   126941  6.530391  \n",
       "2              Horror   203882  6.525789  \n",
       "3               Drama   203086  6.447256  \n",
       "4         Documentary   205453  6.083880  "
      ]
     },
     "execution_count": 30,
     "metadata": {},
     "output_type": "execute_result"
    }
   ],
   "source": [
    "recs.toPandas()"
   ]
  },
  {
   "cell_type": "code",
   "execution_count": 31,
   "id": "c6d6c990",
   "metadata": {},
   "outputs": [],
   "source": [
    "spark.stop()"
   ]
  },
  {
   "cell_type": "code",
   "execution_count": null,
   "id": "ddcb186a",
   "metadata": {},
   "outputs": [],
   "source": []
  }
 ],
 "metadata": {
  "kernelspec": {
   "display_name": "Python 3",
   "language": "python",
   "name": "python3"
  },
  "language_info": {
   "codemirror_mode": {
    "name": "ipython",
    "version": 3
   },
   "file_extension": ".py",
   "mimetype": "text/x-python",
   "name": "python",
   "nbconvert_exporter": "python",
   "pygments_lexer": "ipython3",
   "version": "3.8.12"
  }
 },
 "nbformat": 4,
 "nbformat_minor": 5
}
